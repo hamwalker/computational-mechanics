{
 "cells": [
  {
   "cell_type": "markdown",
   "id": "7359e54b",
   "metadata": {},
   "source": [
    "> __Content modified under Creative Commons Attribution license CC-BY\n",
    "> 4.0, code under BSD 3-Clause License © 2020 R.C. Cooper__"
   ]
  },
  {
   "cell_type": "code",
   "execution_count": 1,
   "id": "b3075db7",
   "metadata": {},
   "outputs": [],
   "source": [
    "import numpy as np\n",
    "import matplotlib.pyplot as plt\n",
    "plt.rcParams.update({'font.size': 12})\n",
    "plt.rcParams['lines.linewidth'] = 3"
   ]
  },
  {
   "cell_type": "markdown",
   "id": "64a4e992",
   "metadata": {},
   "source": [
    "# Homework\n",
    "\n",
    "## Problems [Part 1](./01_Interacting_with_Python.md)\n",
    "\n",
    "1. Calculate some properties of a rectangular box that is 12.5\"$\\times$11\"$\\times$14\" and weighs 31 lbs\n",
    "\n",
    "    a. What is the volume of the box?\n",
    "    \n",
    "    b. What is the average density of the box?\n",
    "    \n",
    "    c. What is the result of the following logical operation, `volume>1000` (in inches^3)"
   ]
  },
  {
   "cell_type": "code",
   "execution_count": 2,
   "id": "f06d751d",
   "metadata": {},
   "outputs": [
    {
     "name": "stdout",
     "output_type": "stream",
     "text": [
      "V= 1925.0 in^3\n"
     ]
    }
   ],
   "source": [
    "w = 12.5\n",
    "l = 11\n",
    "h = 14\n",
    "m = 31\n",
    "\n",
    "V = w*l*h\n",
    "\n",
    "print('V= {} in^3' .format(V))"
   ]
  },
  {
   "cell_type": "code",
   "execution_count": 3,
   "id": "3175c3e9",
   "metadata": {},
   "outputs": [
    {
     "name": "stdout",
     "output_type": "stream",
     "text": [
      "Density is 0.016 lb/in^3\n"
     ]
    }
   ],
   "source": [
    "print('Density is {:1.3f} lb/in^3' .format(m/V))"
   ]
  },
  {
   "cell_type": "code",
   "execution_count": 4,
   "id": "a9889ba1",
   "metadata": {},
   "outputs": [
    {
     "name": "stdout",
     "output_type": "stream",
     "text": [
      "Volume is greater than 1000 in^3\n"
     ]
    }
   ],
   "source": [
    "if V>1000:\n",
    "    print('Volume is greater than 1000 in^3')\n",
    "else:\n",
    "    print('Volume is not greater than 1000 in^3')"
   ]
  },
  {
   "cell_type": "markdown",
   "id": "581c6f11",
   "metadata": {},
   "source": [
    "2. Use the variables given below, `str1` and `str2`, and check the following \n",
    "\n",
    "    a. `str1<str2`\n",
    "    \n",
    "    b. `str1==str2`\n",
    "    \n",
    "    c. `str1>str2`\n",
    "    \n",
    "    d. How could you force (b) to be true? [Hint](https://docs.python.org/3/library/stdtypes.html?highlight=str.lower#str.lower) or [Hint](https://docs.python.org/3/library/stdtypes.html?highlight=str.lower#str.upper)"
   ]
  },
  {
   "cell_type": "code",
   "execution_count": 5,
   "id": "ed9ebe0f",
   "metadata": {},
   "outputs": [
    {
     "name": "stdout",
     "output_type": "stream",
     "text": [
      "str1<str2 is True\n",
      "str1==str2 is False\n",
      "str1>str2 is False\n"
     ]
    }
   ],
   "source": [
    "str1 = 'Python'\n",
    "str2 = 'python'\n",
    "\n",
    "comp1 = str1<str2\n",
    "comp2 = str1==str2\n",
    "comp3 = str1>str2\n",
    "\n",
    "print('str1<str2 is {}'.format(comp1))\n",
    "print('str1==str2 is {}' .format(comp2))\n",
    "print('str1>str2 is {}' .format(comp3))"
   ]
  },
  {
   "cell_type": "code",
   "execution_count": 6,
   "id": "a6dbad8b",
   "metadata": {},
   "outputs": [
    {
     "name": "stdout",
     "output_type": "stream",
     "text": [
      "str1==str2 is True\n"
     ]
    }
   ],
   "source": [
    "comp4 = str1.lower()==str2.lower()\n",
    "\n",
    "print('str1==str2 is {}' .format(comp4))"
   ]
  },
  {
   "cell_type": "markdown",
   "id": "9e08b115",
   "metadata": {},
   "source": [
    "3. The following code has an error, fix the error so that the correct result is returned:\n",
    "\n",
    "```y is 20 and x is less than y```\n",
    "\n",
    "```python\n",
    "x=\"1\"\n",
    "y=20\n",
    "\n",
    "if x<y and y==20:\n",
    "    print('y is 20 and x is less than y')\n",
    "else:\n",
    "    print('x is not less than y')\n",
    "```"
   ]
  },
  {
   "cell_type": "code",
   "execution_count": 7,
   "id": "75d8f594",
   "metadata": {},
   "outputs": [
    {
     "name": "stdout",
     "output_type": "stream",
     "text": [
      "y is 20 and x is less than y\n"
     ]
    }
   ],
   "source": [
    "x=1\n",
    "y=20\n",
    "\n",
    "if x<y and y==20:\n",
    "    print('y is 20 and x is less than y')\n",
    "else:\n",
    "    print('x is not less than y')"
   ]
  },
  {
   "cell_type": "markdown",
   "id": "5f5021a7",
   "metadata": {},
   "source": [
    "4. Create a script that takes the clock hour in 24 hours and prints the clock hour with am or pm. \n",
    "\n",
    "    Hint: Use an if-else statement with `print` commands"
   ]
  },
  {
   "cell_type": "code",
   "execution_count": 8,
   "id": "ccb60874",
   "metadata": {},
   "outputs": [
    {
     "name": "stdout",
     "output_type": "stream",
     "text": [
      "12 AM\n"
     ]
    }
   ],
   "source": [
    "time = 24\n",
    "if 24 > time > 12:\n",
    "    print(time - 12, 'PM')\n",
    "elif time < 12:\n",
    "    print(time, 'AM')\n",
    "elif time==24:\n",
    "    print('12 AM')"
   ]
  },
  {
   "cell_type": "code",
   "execution_count": null,
   "id": "fadac3a4",
   "metadata": {},
   "outputs": [],
   "source": []
  },
  {
   "cell_type": "markdown",
   "id": "79023223",
   "metadata": {},
   "source": [
    "## Problems [Part 2](./02_Working_with_Python.md)\n",
    "\n",
    "1. Create a function called `sincos(x)` that returns two arrays, `sinx` and `cosx` that return the sine and cosine of the input array, `x`. \n",
    "\n",
    "    a. Document your function with a help file in `'''help'''`\n",
    "    \n",
    "    b. Use your function to plot sin(x) and cos(x) for x=$0..2\\pi$"
   ]
  },
  {
   "cell_type": "code",
   "execution_count": 9,
   "id": "8e937fa2",
   "metadata": {},
   "outputs": [
    {
     "data": {
      "image/png": "[encoded data removed]",
      "text/plain": [
       "<Figure size 432x288 with 1 Axes>"
      ]
     },
     "metadata": {
      "needs_background": "light"
     },
     "output_type": "display_data"
    }
   ],
   "source": [
    "def sincos(x):\n",
    "    '''\n",
    "    Returns two arrays, sinx and cosx that return the sine and cosine of the input array, x\n",
    "    '''\n",
    "    sinx = np.sin(x)\n",
    "    cosx = np.cos(x)\n",
    "    \n",
    "    return sinx, cosx\n",
    "\n",
    "x = np.linspace(0, 2*np.pi, 100)\n",
    "sincos_out = sincos(x)\n",
    "\n",
    "plt.plot(x, sincos_out[0], label='$sin(x)$')\n",
    "plt.plot(x,sincos_out[1], label='$cos(x)$')\n",
    "plt.legend(loc='best')\n",
    "plt.title('sincos Function')\n",
    "plt.ylabel('Output')\n",
    "plt.xlabel('Input');"
   ]
  },
  {
   "cell_type": "markdown",
   "id": "1ac87a45",
   "metadata": {},
   "source": [
    "2. Use a for-loop to create a variable called `A_99`, where every element is the product\n",
    "of the two indices from 0 to 9 e.g. A_99[3,2]=6 and A_99[4,4]=16. \n",
    "\n",
    "    a. time your script using `%%time`    \n",
    "    \n",
    "    b. Calculate the mean of `A_99`\n",
    "\n",
    "    c. Calculate the standard deviation of `A_99`"
   ]
  },
  {
   "cell_type": "code",
   "execution_count": 10,
   "id": "275eb431",
   "metadata": {},
   "outputs": [],
   "source": [
    "A_99 = np.empty([10,10], dtype=int)"
   ]
  },
  {
   "cell_type": "code",
   "execution_count": 11,
   "id": "1833e4d6",
   "metadata": {},
   "outputs": [
    {
     "name": "stdout",
     "output_type": "stream",
     "text": [
      "34.2 µs ± 6.16 µs per loop (mean ± std. dev. of 7 runs, 10000 loops each)\n"
     ]
    }
   ],
   "source": [
    "%%timeit\n",
    "\n",
    "for i in range(10):\n",
    "    for k in range(10):\n",
    "        A_99[i,k]= i*k"
   ]
  },
  {
   "cell_type": "code",
   "execution_count": 12,
   "id": "11876cca",
   "metadata": {},
   "outputs": [
    {
     "name": "stdout",
     "output_type": "stream",
     "text": [
      "The mean of A_99 is 20.25\n",
      "The standard deviation of A_99 is 20.05\n"
     ]
    }
   ],
   "source": [
    "print('The mean of A_99 is {:2.2f}'.format(np.mean(A_99)) )\n",
    "print('The standard deviation of A_99 is {:2.2f}' .format(np.std(A_99)))"
   ]
  },
  {
   "cell_type": "markdown",
   "id": "c595c990",
   "metadata": {},
   "source": [
    "3. Use the two arrays, X and Y, given below to create A_99 using numpy array math rather than a for-loop."
   ]
  },
  {
   "cell_type": "code",
   "execution_count": null,
   "id": "21043c1e",
   "metadata": {},
   "outputs": [],
   "source": []
  },
  {
   "cell_type": "markdown",
   "id": "8762a33d",
   "metadata": {},
   "source": [
    "    a. time your script using `%%time`    \n",
    "    \n",
    "    b. Calculate the mean of `A_99`\n",
    "\n",
    "    c. Calculate the standard deviation of `A_99`\n",
    "        \n",
    "    d. create a filled contour plot of X, Y, A_99 [contourf plot documentation](https://matplotlib.org/3.1.1/api/_as_gen/matplotlib.pyplot.contourf.html)"
   ]
  },
  {
   "cell_type": "code",
   "execution_count": 13,
   "id": "bffb4a41",
   "metadata": {},
   "outputs": [
    {
     "name": "stdout",
     "output_type": "stream",
     "text": [
      "The mean of X*Y is 20.25\n",
      "The standard deviation of X*Y is 20.05\n",
      "CPU times: user 27.7 ms, sys: 502 µs, total: 28.2 ms\n",
      "Wall time: 49.1 ms\n"
     ]
    },
    {
     "data": {
      "text/plain": [
       "<matplotlib.contour.QuadContourSet at 0x7f6f3ae2b0d0>"
      ]
     },
     "execution_count": 13,
     "metadata": {},
     "output_type": "execute_result"
    },
    {
     "data": {
      "image/png": "[encoded data removed]",
      "text/plain": [
       "<Figure size 432x288 with 1 Axes>"
      ]
     },
     "metadata": {
      "needs_background": "light"
     },
     "output_type": "display_data"
    }
   ],
   "source": [
    "%%time\n",
    "X, Y = np.meshgrid(np.arange(10), np.arange(10))\n",
    "XY=X*Y\n",
    "print('The mean of X*Y is {:2.2f}' .format(np.mean(XY)))\n",
    "print('The standard deviation of X*Y is {:2.2f}' .format(np.std(XY)))\n",
    "\n",
    "# plt.contourf([X[:,1],Y[1,:],A_99[4,:]]);\n",
    "plt.contourf(X,Y,A_99)"
   ]
  },
  {
   "cell_type": "markdown",
   "id": "3994aa3f",
   "metadata": {},
   "source": [
    "4. The following linear interpolation function has an error. It is supposed to return y(x) given the the two points $p_1=[x_1,~y_1]$ and $p_2=[x_2,~y_2]$. Currently, it just returns and error.\n",
    "\n",
    "```python\n",
    "def linInterp(x,p1,p2):\n",
    "    '''linear interplation function\n",
    "    return y(x) given the two endpoints \n",
    "    p1=np.array([x1,y1])\n",
    "    and\n",
    "    p2=np.array([x2,y2])'''\n",
    "    slope = (p2[2]-p1[2])/(p2[1]-p1[1])\n",
    "    \n",
    "    return p1[2]+slope*(x - p1[1])\n",
    "```"
   ]
  },
  {
   "cell_type": "code",
   "execution_count": 14,
   "id": "a30b5abe",
   "metadata": {},
   "outputs": [
    {
     "data": {
      "text/plain": [
       "3.3333333333333335"
      ]
     },
     "execution_count": 14,
     "metadata": {},
     "output_type": "execute_result"
    }
   ],
   "source": [
    "def linInterp(x,p1,p2):\n",
    "    '''linear interplation function\n",
    "    return y(x) given the two endpoints \n",
    "    p1=np.array([x1,y1])\n",
    "    and\n",
    "    p2=np.array([x2,y2])'''\n",
    "    slope = (p2[1]-p1[1])/(p2[0]-p1[0])\n",
    "    \n",
    "    return p1[1]+slope*(x - p1[0])\n",
    "\n",
    "linInterp(3,[2,4], [5,2])"
   ]
  },
  {
   "cell_type": "markdown",
   "id": "5826535d",
   "metadata": {},
   "source": [
    "## Problems [Part 3](03_Numerical_error.md)\n",
    "\n",
    "1. The growth of populations of organisms has many engineering and scientific applications. One of the simplest\n",
    "models assumes that the rate of change of the population p is proportional to the existing population at any time t:\n",
    "\n",
    "$\\frac{dp}{dt} = k_g p$\n",
    "\n",
    "where $t$ is time in years, and $k_g$ is growth rate in \\[1/years\\]. \n",
    "\n",
    "The world population has been increasing dramatically, let's make a prediction based upon the [following data](https://worldpopulationhistory.org/map/2020/mercator/1/0/25/) saved in [world_population_1900-2020.csv](../data/world_population_1900-2020.csv):\n",
    "\n",
    "\n",
    "|year| world population |\n",
    "|---|---|\n",
    "|1900|1,578,000,000|\n",
    "|1950|2,526,000,000|\n",
    "|2000|6,127,000,000|\n",
    "|2020|7,795,482,000|\n",
    "\n",
    "a. Use a growth rate of $k_g=0.013$ [1/years] and compare the analytical solution (use initial condition p(1900) = 1578000000) to the Euler integration for time steps of 20 years from 1900 to 2020 (Hint: use method (1)- plot the two solutions together with the given data) \n",
    "\n",
    "b. Discussion question: If you decrease the time steps further and the solution converges, will it converge to the actual world population? Why or why not? \n",
    "\n",
    "**Note: We have used a new function `np.loadtxt` here. Use the `help` or `?` to learn about what this function does and how the arguments can change the output. In the next module, we will go into more details on how to load data, plot data, and present trends.**"
   ]
  },
  {
   "cell_type": "code",
   "execution_count": 15,
   "id": "f437f720",
   "metadata": {},
   "outputs": [
    {
     "name": "stdout",
     "output_type": "stream",
     "text": [
      "years= [1900. 1950. 2000. 2020.]\n",
      "population = [1.578000e+09 2.526000e+09 6.127000e+09 7.795482e+09]\n"
     ]
    }
   ],
   "source": [
    "import numpy as np\n",
    "year, pop = np.loadtxt('../data/world_population_1900-2020.csv',skiprows=1,delimiter=',',unpack=True)\n",
    "print('years=',year)\n",
    "print('population =', pop)"
   ]
  },
  {
   "cell_type": "code",
   "execution_count": 16,
   "id": "32b39b3e",
   "metadata": {},
   "outputs": [
    {
     "name": "stdout",
     "output_type": "stream",
     "text": [
      "average population changes 1900-1950, 1950-2000, 2000-2020\n",
      "[18960000. 72020000. 83424100.]\n",
      "average growth of 1900 - 2020\n",
      "58134700.0\n"
     ]
    }
   ],
   "source": [
    "print('average population changes 1900-1950, 1950-2000, 2000-2020')\n",
    "print((pop[1:] - pop[0:-1])/(year[1:] - year[0:-1]))\n",
    "print('average growth of 1900 - 2020')\n",
    "print(np.mean((pop[1:] - pop[0:-1])/(year[1:] - year[0:-1])))"
   ]
  },
  {
   "cell_type": "code",
   "execution_count": 17,
   "id": "8796fb9b",
   "metadata": {},
   "outputs": [],
   "source": [
    "t= np.linspace(1900,2020,5)\n",
    "P= np.empty(len(t))\n",
    "\n",
    "dt= t[1]-t[0]\n",
    "\n",
    "k = 0.013\n",
    "\n",
    "P[0]= 1578000000\n",
    "\n",
    "for i in range(1,len(t)):\n",
    "    P[i] = P[i-1] + k*P[i-1]*dt\n",
    "    \n",
    "exp_growth= lambda year: pop[0] *np.exp(k*(year-1900))\n",
    "    \n",
    "# plt.plot(np.linspace(1900, 2020), exp_growth(np.linspace(1900,2020)), label='In class analytical')\n",
    "# plt.plot(t,P, label='Euler Integration')\n",
    "# plt.plot(year,pop, 's', label='Given Data')\n",
    "# plt.title('Population vs. Year')\n",
    "# plt.xlabel('Year')\n",
    "# plt.ylabel('Population')\n",
    "# plt.legend(loc='best' );"
   ]
  },
  {
   "cell_type": "code",
   "execution_count": 18,
   "id": "05418801",
   "metadata": {},
   "outputs": [
    {
     "data": {
      "image/png": "[encoded data removed]",
      "text/plain": [
       "<Figure size 432x288 with 1 Axes>"
      ]
     },
     "metadata": {
      "needs_background": "light"
     },
     "output_type": "display_data"
    }
   ],
   "source": [
    "t= np.linspace(1900, 2020, 110)\n",
    "NumPop = np.zeros(len(t))\n",
    "NumPop[0] = pop[0]\n",
    "\n",
    "for i in range(1, len(t)):\n",
    "    NumPop[i] = k*NumPop[i-1]*(t[i] - t[i-1]) + NumPop[i-1]\n",
    "    \n",
    "plt.plot(t, NumPop, 's', label='Euler Integration')\n",
    "plt.plot(np.linspace(1900, 2020), exp_growth(np.linspace(1900,2020)), label='Analytical Solution')\n",
    "plt.plot(year,pop, 's', label='Given Data')\n",
    "plt.legend(loc='best')\n",
    "plt.xlabel('Year')\n",
    "plt.ylabel('Population')\n",
    "plt.grid(axis='both')"
   ]
  },
  {
   "cell_type": "markdown",
   "id": "e69d64b5",
   "metadata": {},
   "source": [
    "As the number of time steps increase, the approximation will not converge to the actual world population. This is because this is not a perfect model and will not be able to converge to the actual population. It converges to the analytical solution."
   ]
  },
  {
   "cell_type": "markdown",
   "id": "290429ab",
   "metadata": {},
   "source": [
    "__d.__ As the number of time steps increases, the Euler approximation approaches the analytical solution, not the measured data. The best-case scenario is that the Euler solution is the same as the analytical solution."
   ]
  },
  {
   "cell_type": "markdown",
   "id": "63e1bdbb",
   "metadata": {},
   "source": [
    "2. In the freefall example you used smaller time steps to decrease the **truncation error** in our Euler approximation. Another way to decrease approximation error is to continue expanding the Taylor series. Consider the function f(x)\n",
    "\n",
    "    $f(x)=e^x = 1+x+\\frac{x^2}{2!}+\\frac{x^3}{3!}+\\frac{x^4}{4!}+...$\n",
    "\n",
    "    We can approximate $e^x$ as $1+x$ (first order), $1+x+x^2/2$ (second order), and so on each higher order results in smaller error. \n",
    "    \n",
    "    a. Use the given `exptaylor` function to approximate the value of exp(1) with a second-order Taylor series expansion. What is the relative error compared to `np.exp(1)`?\n",
    "    \n",
    "    b. Time the solution for a second-order Taylor series and a tenth-order Taylor series. How long would a 100,000-order series take (approximate this, you don't have to run it)\n",
    "    \n",
    "    c. Plot the relative error as a function of the Taylor series expansion order from first order upwards. (Hint: use method (4) in the comparison methods from the \"Truncation and roundoff error accumulation in log-log plot\" figure)"
   ]
  },
  {
   "cell_type": "code",
   "execution_count": 19,
   "id": "8710f709",
   "metadata": {},
   "outputs": [],
   "source": [
    "from math import factorial\n",
    "def exptaylor(x,n):\n",
    "    '''Taylor series expansion about x=0 for the function e^x\n",
    "    the full expansion follows the function\n",
    "    e^x = 1+ x + x**2/2! + x**3/3! + x**4/4! + x**5/5! +...'''\n",
    "    if n<1:\n",
    "        print('lowest order expansion is 0 where e^x = 1')\n",
    "        return 1\n",
    "    else:\n",
    "        ex = 1+x # define the first-order taylor series result\n",
    "        for i in range(1,n):\n",
    "            ex+=x**(i+1)/factorial(i+1) # add the nth-order result for each step in loop\n",
    "        return ex\n",
    "        "
   ]
  },
  {
   "cell_type": "code",
   "execution_count": 20,
   "id": "0bd2fc45",
   "metadata": {},
   "outputs": [
    {
     "name": "stdout",
     "output_type": "stream",
     "text": [
      "The relative error is 0.080\n"
     ]
    }
   ],
   "source": [
    "fun_val= exptaylor(1,2)\n",
    "\n",
    "np_val= np.exp(1)\n",
    "\n",
    "percent_er= np.abs((fun_val-np_val)/np_val)\n",
    "\n",
    "print('The relative error is {:1.3f}' .format(percent_er) )"
   ]
  },
  {
   "cell_type": "code",
   "execution_count": 21,
   "id": "96e5f9af",
   "metadata": {},
   "outputs": [
    {
     "name": "stdout",
     "output_type": "stream",
     "text": [
      "1.32 µs ± 254 ns per loop (mean ± std. dev. of 7 runs, 1000000 loops each)\n"
     ]
    }
   ],
   "source": [
    "%%timeit\n",
    "exptaylor(1,2)"
   ]
  },
  {
   "cell_type": "code",
   "execution_count": 22,
   "id": "c12d3096",
   "metadata": {},
   "outputs": [
    {
     "name": "stdout",
     "output_type": "stream",
     "text": [
      "5.84 µs ± 1.08 µs per loop (mean ± std. dev. of 7 runs, 100000 loops each)\n"
     ]
    }
   ],
   "source": [
    "%%timeit\n",
    "exptaylor(1,10)"
   ]
  },
  {
   "cell_type": "markdown",
   "id": "3238fa4f",
   "metadata": {},
   "source": [
    "The second order expansion takes about 1.52 $\\mu s$ while the 10th order takes about 6.57 $\\mu s$"
   ]
  },
  {
   "cell_type": "code",
   "execution_count": 23,
   "id": "5f19d93b",
   "metadata": {},
   "outputs": [
    {
     "name": "stdout",
     "output_type": "stream",
     "text": [
      "A 100,000 order expansion would take about 63125.3 micro seconds\n"
     ]
    }
   ],
   "source": [
    "def linInterp(x,p1,p2):\n",
    "    '''linear interplation function\n",
    "    return y(x) given the two endpoints \n",
    "    p1=np.array([x1,y1])\n",
    "    and\n",
    "    p2=np.array([x2,y2])'''\n",
    "    slope = (p2[1]-p1[1])/(p2[0]-p1[0])\n",
    "    \n",
    "    return p1[1]+slope*(x - p1[0])\n",
    "\n",
    "\n",
    "\n",
    "print('A 100,000 order expansion would take about {:4.1f} micro seconds' .format(linInterp(100000,[2,1.52],[10,6.57])))"
   ]
  },
  {
   "cell_type": "code",
   "execution_count": 24,
   "id": "98bedb13",
   "metadata": {},
   "outputs": [
    {
     "data": {
      "image/png": "[encoded data removed]",
      "text/plain": [
       "<Figure size 432x288 with 1 Axes>"
      ]
     },
     "metadata": {
      "needs_background": "light"
     },
     "output_type": "display_data"
    }
   ],
   "source": [
    "exp1taylor = np.array([exptaylor(1,n) for n in np.arange(1,20)])\n",
    "rel_error = np.abs(exp1taylor-np.exp(1))/np.exp(1)\n",
    "\n",
    "plt.semilogy(np.arange(1,20), rel_error,color='b', linestyle='-')\n",
    "plt.xlabel('Order')\n",
    "plt.ylabel('Error (%)')\n",
    "plt.grid(axis='both')"
   ]
  }
 ],
 "metadata": {
  "jupytext": {
   "formats": "notebooks//ipynb,md:myst"
  },
  "kernelspec": {
   "display_name": "Python 3 (ipykernel)",
   "language": "python",
   "name": "python3"
  },
  "language_info": {
   "codemirror_mode": {
    "name": "ipython",
    "version": 3
   },
   "file_extension": ".py",
   "mimetype": "text/x-python",
   "name": "python",
   "nbconvert_exporter": "python",
   "pygments_lexer": "ipython3",
   "version": "3.9.6"
  }
 },
 "nbformat": 4,
 "nbformat_minor": 5
}
