{
 "cells": [
  {
   "cell_type": "markdown",
   "id": "b7a8f24e",
   "metadata": {},
   "source": [
    "> __Content modified under Creative Commons Attribution license CC-BY\n",
    "> 4.0, code under BSD 3-Clause License © 2020 R.C. Cooper__\n",
    "\n",
    "\n",
    "# Roots of Nonlinear functions\n",
    "\n",
    "## It's not always possible to analytically solve for a given variable. \n",
    "\n",
    "In the last [Module 03](./03_Get_Oscillations.ipynb), you created an _implicit_ Heun's method that created the following problem: How can you solve for a value of $y$, a dependent variable, when the function is a function of $y$, in an equation format it becomes\n",
    "\n",
    "$y=f(y,parameters)$\n",
    "\n",
    "where $parameters$ are known inputs to the equation, but the variable $y$ is not separable from the function $f$. You can rewrite the problem as \n",
    "\n",
    "$0=y-f(y,parameters).$\n",
    "\n",
    "Many times, you may have a deeper problem such as wanting to know when two functions are equal to each other:\n",
    "\n",
    "$0 = g(y,parameters) -f(y,parameters)$\n",
    "\n",
    "where $g(y,parameters)$ in the previous equation was $g(y)=y$. \n",
    "\n",
    "\n",
    "## Getting to the root of a problem\n",
    "\n",
    "This is a very common problem in engineering designs. You may have mathematical models for designs, but you can't explicitly solve for the variables you can control or see [1]. \n",
    "\n",
    "\n",
    "### Freefall example:\n",
    "Consider an observation of an object, with a known shape, so its drag coefficient c=0.25 kg/m. If the object reaches a velocity of 36 m/s after 4 seconds of freefalling, what is its mass?\n",
    "\n",
    "$v(t)=\\sqrt{\\frac{gm}{c_{d}}}\\tanh(\\sqrt{\\frac{gc_{d}}{m}}t)$\n",
    "\n",
    "We can plug in the known parameters, $t=4~s$, $v=36~m/s$, $c_d=0.25$ kg/s, and $g=9.81~m/s^2$, but you cannot separate $m$ from the $\\tanh$ and $\\sqrt{}$.\n",
    "\n",
    "$36 = \\sqrt{\\frac{9.81m}{0.25}}\\tanh(\\sqrt{\\frac{9.81*0.25}{m}}4)$\n",
    "\n",
    "Instead, you can use computational methods to solve the problem by creating a new function f(m) where\n",
    "\n",
    "$f(m)=36 - \\sqrt{\\frac{9.81m}{0.25}}\\tanh(\\sqrt{\\frac{9.81*0.25}{m}}4)$. \n",
    "\n",
    "When f(m) = 0, you have solved for m in terms of the other variables (e.g. for a given time, velocity, drag coefficient and acceleration due to gravity)"
   ]
  },
  {
   "cell_type": "code",
   "execution_count": 33,
   "id": "c6d139ff",
   "metadata": {},
   "outputs": [],
   "source": [
    "import numpy as np\n",
    "import matplotlib.pyplot as plt"
   ]
  },
  {
   "cell_type": "code",
   "execution_count": 34,
   "id": "e02c617f",
   "metadata": {},
   "outputs": [],
   "source": [
    "%matplotlib inline\n",
    "plt.rcParams.update({'font.size': 22})\n",
    "plt.rcParams['lines.linewidth'] = 3"
   ]
  },
  {
   "cell_type": "code",
   "execution_count": 35,
   "id": "ddace3ce",
   "metadata": {},
   "outputs": [
    {
     "data": {
      "image/png": "[encoded data removed]",
      "text/plain": [
       "<Figure size 432x288 with 1 Axes>"
      ]
     },
     "metadata": {
      "needs_background": "light"
     },
     "output_type": "display_data"
    }
   ],
   "source": [
    "g=9.81 # acceleration due to gravity\n",
    "\n",
    "def f_m(m,v=36,t=4,c_d=0.25,):\n",
    "    ''' define a function f(m) that returns \n",
    "    v(t)-sqrt(mg/cd)*tanh(sqrt(gcd/m)*t)\n",
    "    \n",
    "    arguments:\n",
    "    ---------\n",
    "    m: mass of object\n",
    "    c_d: drag coefficient default=0.25 kg/m  # drag coefficient\n",
    "    t: time of velocity measure default=4 seconds\n",
    "    v: velocity measure at time, t default=36 m/s\n",
    "    \n",
    "    returns:\n",
    "    --------\n",
    "    f_m: the difference between v(t) and sqrt(mg/cd)*tanh(sqrt(gcd/m)*t)\n",
    "            if f_m ==0, then mass is correctly chosen\n",
    "    '''\n",
    "    \n",
    "    f_m = v-np.sqrt(g*m/c_d)*np.tanh(np.sqrt(g*c_d/m)*t)\n",
    "    return f_m\n",
    "\n",
    "m=np.linspace(60, 200,100); # possible values for mass 50 to 200 kg\n",
    "plt.plot(m,f_m(m))\n",
    "plt.plot(m,np.zeros(len(m)))\n",
    "plt.xlabel('mass, m (kg)')\n",
    "plt.ylabel('f(m)');"
   ]
  },
  {
   "cell_type": "code",
   "execution_count": 36,
   "id": "e9595fb8",
   "metadata": {},
   "outputs": [
    {
     "data": {
      "text/plain": [
       "-0.12322824302261637"
      ]
     },
     "execution_count": 36,
     "metadata": {},
     "output_type": "execute_result"
    }
   ],
   "source": [
    "f_m(149)"
   ]
  },
  {
   "cell_type": "markdown",
   "id": "f822c163",
   "metadata": {},
   "source": [
    "The Brute force method is plot f_m vs m and with smaller and smaller steps until f_m ~ 0, but you can do much better. \n",
    "\n",
    "We will look at two classes of methods, most numerical solutions use a combination of these two types of solvers:\n",
    "\n",
    "1. Bracketing methods\n",
    "2. Open methods\n",
    "\n",
    "In __Bracketing__ methods, you choose an upper and lower bound and find the best solution in that range.\n",
    "\n",
    "In __Open__ methods, you choose an initial guess, then you have a function that brings us closer to the solution with every iteration.\n",
    "\n",
    "## Incremental searching ( a smarter brute force approach)\n",
    "\n",
    "If you consider a range of possible masses, e.g. 50 kg - 200 kg, then you can evaluate your function $f(m)$ at evenly-spaced intervals and look for x-axis crossings. If the value of $f(m_{i})$ is positive, and the value of $f(m_{i+1})$ is negative, then the correct mass is somewhere between $m_i$ and $m_{i+1}$. \n",
    "\n",
    "Take a look at the implementation you have below of the `incsearch` function. \n",
    "\n",
    "There are a few key lines to look at:\n",
    "\n",
    "```python\n",
    "    x = np.linspace(xmin,xmax,ns)\n",
    "    f = func(x)\n",
    "```\n",
    "\n",
    "In these two lines, you are dividing the interval into `ns`-equally-spaced values (our default is ns=50). Then, you evaluate your function ($f(m)$) `ns` times for each value. \n",
    "\n",
    "```python\n",
    "    sign_f = np.sign(f)\n",
    "    delta_sign_f = sign_f[1:]-sign_f[0:-1]\n",
    "    i_zeros = np.nonzero(delta_sign_f!=0)\n",
    "```\n",
    "\n",
    "On these three lines, you are looking for sign-changes in the array `f`. First, you get just the sign of each array value with `np.sign`. Then, you look at the changes in sign with the difference between f[i] and f[i-1] for i=1...len(f). Finally, you get the indices sign changes by looking for nonzero elements in `delta_sign_f`."
   ]
  },
  {
   "cell_type": "markdown",
   "id": "0b39b57b",
   "metadata": {},
   "source": [
    "## Discussion\n",
    "\n",
    "Why can't you just consider cases where `delta_sign_f>0`? Why do you care about all nonzero sign changes?"
   ]
  },
  {
   "cell_type": "code",
   "execution_count": 37,
   "id": "16fab575",
   "metadata": {},
   "outputs": [],
   "source": [
    "def incsearch(func,xmin,xmax,ns=50):\n",
    "    '''incsearch: incremental search root locator\n",
    "    xb = incsearch(func,xmin,xmax,ns):\n",
    "      finds brackets of x that contain sign changes\n",
    "      of a function on an interval\n",
    "    arguments:\n",
    "    ---------\n",
    "    func = name of function\n",
    "    xmin, xmax = endpoints of interval\n",
    "    ns = number of subintervals (default = 50)\n",
    "    returns:\n",
    "    ---------\n",
    "    xb(k,1) is the lower bound of the kth sign change\n",
    "    xb(k,2) is the upper bound of the kth sign change\n",
    "    If no brackets found, xb = [].'''\n",
    "    x = np.linspace(xmin,xmax,ns)\n",
    "    f = func(x)\n",
    "    sign_f = np.sign(f)\n",
    "    delta_sign_f = sign_f[1:]-sign_f[0:-1]\n",
    "    i_zeros = np.nonzero(delta_sign_f!=0)\n",
    "    nb = len(i_zeros[0])\n",
    "    xb = np.block([[ x[i_zeros[0]+1]],[x[i_zeros[0]] ]] )\n",
    "\n",
    "    \n",
    "    if nb==0:\n",
    "      print('no brackets found\\n')\n",
    "      print('check interval or increase ns\\n')\n",
    "    else:\n",
    "      print('number of brackets:  {}\\n'.format(nb))\n",
    "    return xb"
   ]
  },
  {
   "cell_type": "markdown",
   "id": "d5d30883",
   "metadata": {},
   "source": [
    "## Test your function\n",
    "\n",
    "To test your `incsearch` function on a known function, let's try finding all the times that $sin(x)$ crosses the x-axis from $x=-1...7$. Our function should return values at $x=0,~x=\\pi/2,~x=\\pi.$"
   ]
  },
  {
   "cell_type": "code",
   "execution_count": 38,
   "id": "2c62659a",
   "metadata": {},
   "outputs": [
    {
     "name": "stdout",
     "output_type": "stream",
     "text": [
      "number of brackets:  3\n",
      "\n"
     ]
    },
    {
     "data": {
      "image/png": "[encoded data removed]",
      "text/plain": [
       "<Figure size 432x288 with 1 Axes>"
      ]
     },
     "metadata": {
      "needs_background": "light"
     },
     "output_type": "display_data"
    }
   ],
   "source": [
    "mn=-1\n",
    "mx=7\n",
    "x=np.linspace(mn,mx)\n",
    "plt.plot(x,np.sin(x))\n",
    "\n",
    "xb = incsearch(lambda x: np.sin(x),mn,mx,ns=50)\n",
    "\n",
    "plt.plot(xb,np.sin(xb),'s')\n",
    "plt.ylabel('$\\sin(x)$')\n",
    "plt.xlabel('x')\n",
    "plt.title('Upper bounds={:.2f},{:.2f},{:.2f}\\nLower bounds={:.2f},{:.2f},{:.2f},'.format(*xb[0,:],*xb[1,:]));"
   ]
  },
  {
   "cell_type": "markdown",
   "id": "0069b01b",
   "metadata": {},
   "source": [
    "## Success - incsearch works\n",
    "\n",
    "You should see that `incsearch` returns intervals in the correct locations near x=0, x=$\\pi/2$ and x=$\\pi.$ Now, let's apply it to the freefall problem and discover what mass is necessary to reach 36 m/s at t=4 sec of freefall.\n",
    "\n",
    "Depending upon what `ns` you choose, you should see that a mass of 142-143 kg will reach 36 m/s in 4 seconds of freefall."
   ]
  },
  {
   "cell_type": "code",
   "execution_count": 39,
   "id": "f6c1141f",
   "metadata": {},
   "outputs": [
    {
     "name": "stdout",
     "output_type": "stream",
     "text": [
      "number of brackets:  1\n",
      "\n",
      "Upper bound on mass = 143.94 kg\n",
      "Lower bound on mass = 142.42 kg\n"
     ]
    }
   ],
   "source": [
    "xb = incsearch(f_m,50,200,ns=100)\n",
    "\n",
    "print('Upper bound on mass = {:.2f} kg'.format(*xb[0,:]))\n",
    "print('Lower bound on mass = {:.2f} kg'.format(*xb[1,:]))"
   ]
  },
  {
   "cell_type": "markdown",
   "id": "2bdb4d78",
   "metadata": {},
   "source": [
    "## Exercise \n",
    "\n",
    "Use the `incsearch` function to find the number of times $cos(x)=0$ in the interval $x=0...8$.\n",
    "\n",
    "Plot x-vs-cos(x)\n",
    "\n",
    "and \n",
    "\n",
    "plot the values of `xb` and `np.cos(xb)` as $\\circ$-markers (`'o'`)\n",
    "\n",
    "## Bisection method\n",
    "\n",
    "The `incsearch` function will always return a set of upper and lower bounds on the zeros of a function, but if you want to increase the accuracy of your solutions, you have to calculate $f(x)$ __a lot__. The error in the solution is always \n",
    "\n",
    "$error = \\frac{x_{max}-x_{min}}{ns}$\n",
    "\n",
    "We can reduce the number of times you have to evaluate the function with more insight. \n",
    "\n",
    "Let's divide interval in half until, then evaluate $f(x_{max})$, $f(x_{min})$,  and $\\frac{x_{max}+x_{min}}{2}$. Now, you can look for a sign change between these three locations. You focus your attention on the bisected bracket. Look at the figure below that illustrates choosing the region of interest on the right vs left side of the interval.\n",
    "\n",
    "![Using the bisection method to reduce search to half of interval](../images/bisection.png)\n",
    "\n",
    "Let's use the same interval you started with to illustrate a few steps in the right direction. \n",
    "\n",
    "$x_{max}=200$ kg\n",
    "\n",
    "$x_{min}=50$ kg\n",
    "\n",
    "$x_{mid}=125$ kg"
   ]
  },
  {
   "cell_type": "code",
   "execution_count": 40,
   "id": "b3ec4827",
   "metadata": {},
   "outputs": [
    {
     "name": "stdout",
     "output_type": "stream",
     "text": [
      "f(xmin) = 4.58, f(xmid) = 0.41, f(xmax)=-0.86\n"
     ]
    }
   ],
   "source": [
    "x=np.array([50,125,200])\n",
    "fx=f_m(x)\n",
    "\n",
    "print('f(xmin) = {:.2f}, f(xmid) = {:.2f}, f(xmax)={:.2f}'.format(*fx))"
   ]
  },
  {
   "cell_type": "markdown",
   "id": "45f7b61b",
   "metadata": {},
   "source": [
    "Now, you have reduced your region of interest to just 125-200 kg. \n",
    "\n",
    "## Exercise\n",
    "\n",
    "Divide the region 125-200 kg into two, and repeat the above step. Is the solution in the upper (163-200 kg)? or lower (125-163 kg) region? What are the values of f_m(m)?"
   ]
  },
  {
   "cell_type": "code",
   "execution_count": null,
   "id": "0eeaccfe",
   "metadata": {},
   "outputs": [],
   "source": []
  },
  {
   "cell_type": "markdown",
   "id": "1abca2b2",
   "metadata": {},
   "source": [
    "## Bisect Function\n",
    "\n",
    "We can automate this process with a `bisect` function. Its a much better root locator because you can reduce the error without evaluating the function a lot of times [1, 2]. \n",
    "\n",
    "_Note the use of the function `break`:_\n",
    "\n",
    "We can use an `if`-statement to check a condition and `break` the loop if that condition is met. These break statements are often used in `while`-loops so that you can have some stopping criteria. In your case, you use the specified error, `es`, as a stopping criteria. If your relative error, \n",
    "\n",
    "$e_{relative} = \\frac{|x_{new}-x_{old}|}{x_{new}}$\n",
    "\n",
    "is less than your specified error, the loop is broken and the number of iterations halts at that point. \n",
    "\n",
    "## Discussion\n",
    "\n",
    "What is another stopping criteria that you could use?"
   ]
  },
  {
   "cell_type": "code",
   "execution_count": 58,
   "id": "811b77d4",
   "metadata": {},
   "outputs": [],
   "source": [
    "def bisect(func,xl,xu,es=0.0001,maxit=50):\n",
    "    '''bisect: root location zeroes\n",
    "    root,fx,ea,iter=bisect(func,xl,xu,es,maxit,p1,p2,...):\n",
    "    uses bisection method to find the root of func\n",
    "    arguments:\n",
    "    ------\n",
    "    func = name of function\n",
    "    xl, xu = lower and upper guesses\n",
    "    es = desired relative error (default = 0.0001 )\n",
    "    maxit = maximum allowable iterations (default = 50)\n",
    "    p1,p2,... = additional parameters used by func\n",
    "    returns:\n",
    "    -------\n",
    "    root = real root\n",
    "    and a list of [fx, ea, iter]\n",
    "    fx = function value at root\n",
    "    ea = approximate relative error ( )\n",
    "    iter = number of iterations'''\n",
    "    xr = xl\n",
    "    ea = 100\n",
    "    for iter in range(0,maxit):\n",
    "        xrold = xr\n",
    "        xr = (xl + xu)/2\n",
    "        if xr != 0:\n",
    "            ea = abs((xr - xrold)/xr) * 100\n",
    "        else:\n",
    "            ea = abs((xr - xrold)/1) * 100\n",
    "        test = func(xl)*func(xr)\n",
    "        if test < 0:\n",
    "            xu = xr;\n",
    "        elif test > 0:\n",
    "            xl = xr;\n",
    "        else:\n",
    "            ea = 0;\n",
    "        if ea <= es:\n",
    "            break\n",
    "\n",
    "    root = xr\n",
    "    fx = func(xr);\n",
    "    return root,[fx,ea,iter]\n",
    "    "
   ]
  },
  {
   "cell_type": "code",
   "execution_count": 59,
   "id": "56defc8b",
   "metadata": {},
   "outputs": [
    {
     "name": "stdout",
     "output_type": "stream",
     "text": [
      "The best estimate for the mass is 142.73769855499268 kg\n",
      "We reached a relative error of 5.0109798921069224e-05 with 20 iterations\n"
     ]
    }
   ],
   "source": [
    "Mass_at_36ms,out=bisect(f_m,50,200)\n",
    "print('The best estimate for the mass is {} kg'.format(Mass_at_36ms))\n",
    "print('We reached a relative error of {} with {} iterations'.format(out[1],out[2]))"
   ]
  },
  {
   "cell_type": "markdown",
   "id": "3ae2073a",
   "metadata": {},
   "source": [
    "## Recursive functions\n",
    "\n",
    "The `bisection` function and the next two open root solvers (`newtraph` and `modsecant`) make use of a recursive function. \n",
    "\n",
    "Definition:\n",
    "\n",
    "__recursive: for a definition of recursive, see recursive.__\n",
    "\n",
    "Recursive functions work by updating an initial assignment each time the function is called. In the bisection method, the initial solution is assumed to be halfway between the upper and lower bound\n",
    "\n",
    "$x_{r} = \\frac{x_u+x_l}{2},$\n",
    "\n",
    "but once the upper or lower bound is updated, the value of $x_r$ is updated as well. This is why the first step in the loop is to temporarily save $x_r$ as `xrold`. With the `xrold` variable, you can track the progress of your solution. \n",
    "\n",
    "## Newton-Raphson: Open method\n",
    "\n",
    "Bracketing methods are great, but they are burdened by slow convergence rates. In the bisection method, you reduce your error by 50\\% with each region of interest selection, but this is rather slow. \n",
    "\n",
    "One of the fastest root-finding methods is the __Newton-Raphson__ method, it is an __open method__ so it does not require an upper- and lower-bound [1,2]. \n",
    "\n",
    "The __Newton-Raphson__ works by creating a Taylor series expansion around your initial guess of the function, \n",
    "\n",
    "$f(x_{0}+\\Delta x) = f(x_{0}) +\\frac{df}{dx}\\Delta x +...$\n",
    "\n",
    "We want to determine what step, $\\Delta x$,  to take in order for $f(x_{0}+\\Delta x)=0$. So you set your right hand side to 0 and ignore the $...$ -higher order terms. \n",
    "\n",
    "$0 = f(x_{0}) +\\frac{df}{dx}\\Delta x$\n",
    "\n",
    "So your best guess for a solution is then\n",
    "\n",
    "$x_{solution} = x_{0}+ \\Delta x$\n",
    "\n",
    "where \n",
    "\n",
    "$\\Delta x = -f(x) \\left({\\frac{df}{dx}}\\right)^{-1}.$"
   ]
  },
  {
   "cell_type": "markdown",
   "id": "d637d828",
   "metadata": {},
   "source": [
    "## Newton-Raphson example\n",
    "\n",
    "Let's use the __Newton-Raphson__ method to solve an engineering problem. Consider a spherical tank of water that can be filled to a height, $h$, and has radius, $R$. \n",
    "\n",
    "The volume of water, $V$, in the tank is \n",
    "\n",
    "$V= \\pi h^2\\frac{3R-h}{3}.$\n",
    "\n",
    "If your tank has a radius of $R=2~m$ and you need a volume of 29 $m^3$, what height should you fill it to?\n",
    "\n",
    "To answer this question with the Newton-Raphson method, you first define a new function, $f(h,parameters)$\n",
    "\n",
    "$f(h,parameters) = V-\\pi h^2\\frac{3R-h}{3}.$\n",
    "\n",
    "Now you can plug in your known parameters\n",
    "\n",
    "$f(h) = 29-\\pi h^2\\frac{6-h}{3},$\n",
    "\n",
    "and calculate the derivative,  \n",
    "\n",
    "$\\frac{d}{dh}(f(h)) = -\\pi \\frac{12h-3h^2}{3}$"
   ]
  },
  {
   "cell_type": "code",
   "execution_count": 43,
   "id": "229f2eb0",
   "metadata": {},
   "outputs": [],
   "source": [
    "def f_h(h,V=29,R=2):\n",
    "    return V-np.pi*h**2*(3*R-h)/3\n",
    "\n",
    "def dfdh(h,V=29,R=2):\n",
    "    return -np.pi*(6*R*h-3*h**2)/3"
   ]
  },
  {
   "cell_type": "markdown",
   "id": "6df151cc",
   "metadata": {},
   "source": [
    "We can use the definitions of `f_h` and `dfdh` to calculate the height, $h$ to fill the tank."
   ]
  },
  {
   "cell_type": "code",
   "execution_count": 44,
   "id": "800f1c68",
   "metadata": {},
   "outputs": [
    {
     "name": "stdout",
     "output_type": "stream",
     "text": [
      "2.974413341499149\n"
     ]
    }
   ],
   "source": [
    "xguess = 2\n",
    "deltax = -f_h(xguess)/dfdh(xguess)\n",
    "print(xguess+deltax)"
   ]
  },
  {
   "cell_type": "markdown",
   "id": "bbb49114",
   "metadata": {},
   "source": [
    "## Discussion\n",
    "\n",
    "Try changing the value of `xguess`. Is there any way to choose the best `xguess` value? Are there any `xguess` values that return an Python error? Why?"
   ]
  },
  {
   "cell_type": "markdown",
   "id": "8d420ff9",
   "metadata": {},
   "source": [
    "## Create a Newton-Raphson function\n",
    "\n",
    "In the same way that you created bracketing method functions, you can create the Newton-Raphson method function to update your `xguess` until a desired tolerance is achieved."
   ]
  },
  {
   "cell_type": "code",
   "execution_count": 45,
   "id": "a5745d4c",
   "metadata": {},
   "outputs": [],
   "source": [
    "def newtraph(func,dfunc,x0,es=0.0001,maxit=50):\n",
    "    '''newtraph: Newton-Raphson root location zeroes\n",
    "    root,[ea,iter]=newtraph(func,dfunc,x0,es,maxit,p1,p2,...):\n",
    "    uses Newton-Raphson method to find the root of func\n",
    "    arguments:\n",
    "    ----------\n",
    "    func = name of function\n",
    "    dfunc = name of derivative of function\n",
    "    x0 = initial guess\n",
    "    es = desired relative error (default = 0.0001 )\n",
    "    maxit = maximum allowable iterations (default = 50)\n",
    "    returns:\n",
    "    ----------\n",
    "    root = real root\n",
    "    ea = approximate relative error (%)\n",
    "    iter = number of iterations'''\n",
    "    xr = x0\n",
    "    ea=1\n",
    "    for iter in range(1,maxit):\n",
    "        xrold = xr\n",
    "        dx = -func(xr)/dfunc(xr)\n",
    "        xr = xrold+dx\n",
    "        if xr!=0:\n",
    "            ea= np.abs((xr-xrold)/xr)*100 # relative error in %\n",
    "        if ea < es:\n",
    "            break\n",
    "    return xr,[func(xr),ea,iter]\n",
    "      "
   ]
  },
  {
   "cell_type": "code",
   "execution_count": 46,
   "id": "48bfc751",
   "metadata": {},
   "outputs": [
    {
     "name": "stdout",
     "output_type": "stream",
     "text": [
      "3.0791382579723865\n"
     ]
    }
   ],
   "source": [
    "hr, out = newtraph(f_h,dfdh,1)\n",
    "print(hr)"
   ]
  },
  {
   "cell_type": "markdown",
   "id": "9d6c360f",
   "metadata": {},
   "source": [
    "## Compare techniques\n",
    "\n",
    "Let's compare the relative error in finding the height, $h$, in the previous example as a function of the number of iterations in the bisection (`bisect`) method and the Newton-Raphson (`newtraph`). \n",
    "\n",
    "What you should see is that as you increase the number of iterations, the relative error decreases. You can compare the rate that the error decreases, $\\frac{\\Delta error}{\\# iterations},$ for your two root locators.\n",
    "\n",
    "We are going to set the maximum iterations, `maxit=n[i]`, to the desired value in the loop, but you want as low of an error as possible. You set your specified error to `es=0`."
   ]
  },
  {
   "cell_type": "code",
   "execution_count": 47,
   "id": "b1cc8e88",
   "metadata": {},
   "outputs": [
    {
     "data": {
      "image/png": "[encoded data removed]",
      "text/plain": [
       "<Figure size 432x288 with 1 Axes>"
      ]
     },
     "metadata": {
      "needs_background": "light"
     },
     "output_type": "display_data"
    }
   ],
   "source": [
    "n=np.arange(3,30)\n",
    "\n",
    "err_bisect = np.zeros(len(n))\n",
    "err_newtraph=np.zeros(len(n))\n",
    "\n",
    "for i in range(0,len(n)):\n",
    "    root,out = bisect(f_h,0,4,es=0,maxit=n[i])\n",
    "    err_bisect[i] = out[1]\n",
    "    \n",
    "    root,out = newtraph(f_h,dfdh,1,es=0,maxit=n[i])\n",
    "    \n",
    "    err_newtraph[i] =out[1]\n",
    "\n",
    "plt.semilogy(n,err_bisect,label = 'bisection')\n",
    "plt.semilogy(n,err_newtraph, label = 'Newton-Raphson')\n",
    "plt.xlabel('number of iterations')\n",
    "plt.ylabel('relative error (%)')\n",
    "plt.legend(loc='center left', bbox_to_anchor=(1, 0.5));"
   ]
  },
  {
   "cell_type": "markdown",
   "id": "f063ff75",
   "metadata": {},
   "source": [
    "## Discussion\n",
    "\n",
    "There is a drastic difference between the `bisection` function and the `newtraph` function. How many iterations are necessary for the bisection method to reach an error of $10^{-3}$ \\%? How many iterations are necessary for the Newton-Raphson method to reach an error of $10^{-3}$ \\%? \n",
    "\n",
    "Are there any benefits to the bisection method? When would the Newton-Raphson method not work? or not be appropriate?\n",
    "\n",
    "## Secant Methods\n",
    "\n",
    "The key to the Newton-Raphson method is its evaluation of the derivative of the function, but you can't always evaluate the derivative. Many numerical functions, such as the solution to differential equations that you worked on in notebooks [01](./01_Catch_Motion.ipynb), [02](./02_Step_Future.ipynb), and [03](03_Get_Oscillations.ipynb) do not have analytical derivatives. Instead, you will approximate the derivative with a modified secant method.\n",
    "\n",
    "Approximation of derivative:\n",
    "\n",
    "$f'(x) \\approx \\frac{f(x+\\delta x)-f(x)}{\\delta x}$\n",
    "\n",
    "## Modified Secant method\n",
    "\n",
    "Change the x evaluations to a perturbation $\\delta$ [1,2]. \n",
    "\n",
    "$x_{i+1}=x_{i}-\\frac{f(x_{i})(\\delta x_{i})}{f(x_{i}+\\delta x_{i})-f(x_{i})}$"
   ]
  },
  {
   "cell_type": "code",
   "execution_count": 48,
   "id": "6407266b",
   "metadata": {},
   "outputs": [],
   "source": [
    "def mod_secant(func,dx,x0,es=0.0001,maxit=50):\n",
    "    '''mod_secant: Modified secant root location zeroes\n",
    "    root,[fx,ea,iter]=mod_secant(func,dfunc,xr,es,maxit,p1,p2,...):\n",
    "    uses modified secant method to find the root of func\n",
    "    arguments:\n",
    "    ----------\n",
    "    func = name of function\n",
    "    dx = perturbation fraction\n",
    "    xr = initial guess\n",
    "    es = desired relative error (default = 0.0001 )\n",
    "    maxit = maximum allowable iterations (default = 50)\n",
    "    p1,p2,... = additional parameters used by function\n",
    "    returns:\n",
    "    --------\n",
    "    root = real root\n",
    "    fx = func evaluated at root\n",
    "    ea = approximate relative error ( )\n",
    "    iter = number of iterations'''\n",
    "\n",
    "    iter = 0;\n",
    "    xr=x0\n",
    "    for iter in range(0,maxit):\n",
    "        xrold = xr;\n",
    "        dfunc=(func(xr+dx)-func(xr))/dx;\n",
    "        xr = xr - func(xr)/dfunc;\n",
    "        if xr != 0:\n",
    "            ea = abs((xr - xrold)/xr) * 100;\n",
    "        else:\n",
    "            ea = abs((xr - xrold)/1) * 100;\n",
    "        if ea <= es:\n",
    "            break\n",
    "    return xr,[func(xr),ea,iter]\n"
   ]
  },
  {
   "cell_type": "code",
   "execution_count": 49,
   "id": "70afdc3c",
   "metadata": {},
   "outputs": [
    {
     "data": {
      "image/png": "[encoded data removed]",
      "text/plain": [
       "<Figure size 432x288 with 1 Axes>"
      ]
     },
     "metadata": {
      "needs_background": "light"
     },
     "output_type": "display_data"
    }
   ],
   "source": [
    "n=np.arange(3,30)\n",
    "\n",
    "err_bisect = np.zeros(len(n))\n",
    "err_newtraph=np.zeros(len(n))\n",
    "err_modsec=np.zeros(len(n))\n",
    "\n",
    "for i in range(0,len(n)):\n",
    "    root,out = bisect(f_h,0,4,es=0,maxit=n[i])\n",
    "    err_bisect[i] = out[1]\n",
    "    \n",
    "    root,out = newtraph(f_h,dfdh,1,es=0,maxit=n[i])\n",
    "    err_newtraph[i] =out[1]\n",
    "    \n",
    "    root,out = mod_secant(f_h,0.001,1,es=0,maxit=n[i])\n",
    "    err_modsec[i] =out[1]\n",
    "\n",
    "plt.semilogy(n,err_bisect,label = 'bisection')\n",
    "plt.semilogy(n,err_newtraph, label = 'Newton-Raphson')\n",
    "plt.semilogy(n,err_modsec, label = 'modified secant')\n",
    "plt.title('Convergence rates of solvers')\n",
    "plt.xlabel('number of iterations')\n",
    "plt.ylabel('relative error (%)')\n",
    "plt.legend(loc='center left', bbox_to_anchor=(1, 0.5));"
   ]
  },
  {
   "cell_type": "markdown",
   "id": "6b7ba274",
   "metadata": {},
   "source": [
    "The modified secant can converge as quick as the Newton-Raphson method, but there is no universal $\\delta x$ that works well for every problem. Typically, it is set as a small number and then varied based upon the conergence rate for the problem. \n",
    "\n",
    "## Shooting method\n",
    "\n",
    "Now, you have multiple solving methods to revisit your __Initial Value Problems__. In notebooks [01](./01_Catch_Motion.ipynb) and [02](02_Step_Future.ipynb) you measured the displacement of a ball as a function of time. You _assumed_ the initial velocity was 0 in the case of the dropped object, or you approximated the velocity based upon the first two measured displacements and a finite difference approximation. \n",
    "\n",
    "Consider the case of the tennis ball that was dropped in the ['data/fallingtennisball02.txt file'](../data/fallingtennisball02.txt). After it strikes the ground, you don't really _know_ the velocity. What you _do know_ is that the position was $\\approx 0$ at t=0.58 s and it was $\\approx 0$ m at t=1.43 s. Solving your differential equation without an initial velocity is known as a \"shooting\" method."
   ]
  },
  {
   "cell_type": "markdown",
   "id": "9aff1cf5",
   "metadata": {},
   "source": [
    "![The shooting method imagined as a catapult aiming at a target](../images/shooting.png)\n",
    "\n",
    "Solving this type of problem where the __boundaries__ are known is referred to as a _Boundary value problem_. Typically, boudary value problems happen over a distance, rather than points in time, but you will come back to those in the fifth module on boundary value problems. \n",
    "\n",
    "For now, let's reframe your engineering problem into a root-finding problem. You have a length of time of interest:\n",
    "\n",
    "t=0.58 - 1.43 sec\n",
    "\n",
    "in this time, the ball had just struck the ground and is traveling upwards. What is the initial velocity necessary to keep it in the air for $\\Delta t = 0.85~s$ ?\n",
    "\n",
    "We know that the ball is acted upon by gravity and the force of drag, but you do not an analytical solution for the position as a function of time. First, let's look at the data you have."
   ]
  },
  {
   "cell_type": "code",
   "execution_count": 50,
   "id": "82951950",
   "metadata": {},
   "outputs": [
    {
     "name": "stdout",
     "output_type": "stream",
     "text": [
      "at time t=0.58 s, y=-0.0152 m\n",
      "at time t=1.42 s, y=-0.0110 m\n"
     ]
    },
    {
     "data": {
      "image/png": "[encoded data removed]",
      "text/plain": [
       "<Figure size 432x288 with 1 Axes>"
      ]
     },
     "metadata": {
      "needs_background": "light"
     },
     "output_type": "display_data"
    }
   ],
   "source": [
    "filename = '../data/fallingtennisball02.txt'\n",
    "t, y = np.loadtxt(filename, usecols=[0,1], unpack=True)\n",
    "tbounce = t[580:1425]\n",
    "ybounce = y[580:1425]\n",
    "\n",
    "print('at time t={:.2f} s, y={:.4f} m'.format(tbounce[0],ybounce[0]))\n",
    "print('at time t={:.2f} s, y={:.4f} m'.format(tbounce[-1],ybounce[-1]))\n",
    "plt.plot(t,y)\n",
    "plt.plot(tbounce,ybounce,'s',label='after bounce 1')\n",
    "plt.legend()\n",
    "plt.title('Time between bounce 1 and 2')\n",
    "plt.xlabel('time (s)')\n",
    "plt.ylabel('height y(t) (m)');"
   ]
  },
  {
   "cell_type": "markdown",
   "id": "83ad97dd",
   "metadata": {},
   "source": [
    "Now, let's look at the `fall_drag` function you created that described the motion of the tennis ball. Remember, this function returns the derivative of the state. So if you input\n",
    "\n",
    "state = $[x,~v]$\n",
    "\n",
    "it will return\n",
    "\n",
    "d(state)/dt = $\\left[v,~-9.81+\\frac{F_{D}}{m}\\right]$"
   ]
  },
  {
   "cell_type": "code",
   "execution_count": 51,
   "id": "e1f8bec5",
   "metadata": {},
   "outputs": [],
   "source": [
    "def fall_drag(state,C_d=0.47,m=0.0577,R = 0.0661/2):\n",
    "    '''Computes the right-hand side of the differential equation\n",
    "    for the fall of a ball, with drag, in SI units.\n",
    "    \n",
    "    Arguments\n",
    "    ----------    \n",
    "    state : array of two dependent variables [y v]^T\n",
    "    m : mass in kilograms default set to 0.0577 kg\n",
    "    C_d : drag coefficient for a sphere default set to 0.47 (no units)\n",
    "    R : radius of ball default in meters is 0.0661/2 m (tennis ball)\n",
    "    Returns\n",
    "    -------\n",
    "    derivs: array of two derivatives [v (-g+a_drag)]^T\n",
    "    '''\n",
    "    \n",
    "    rho = 1.22   # air density kg/m^3\n",
    "    pi = np.pi\n",
    "    \n",
    "    a_drag = -1/(2*m) * pi * R**2 * rho * C_d * (state[1])**2*np.sign(state[1])\n",
    "    \n",
    "    derivs = np.array([state[1], -9.81 + a_drag])\n",
    "    return derivs"
   ]
  },
  {
   "cell_type": "markdown",
   "id": "e7dac38c",
   "metadata": {},
   "source": [
    "To get the position as a function of time, you can use any of the integration methods that you defined in [03_Get_Oscillations](./03_Get_Oscillations.ipynb). Here you copy in the second-order Runge-Kutta explicit method."
   ]
  },
  {
   "cell_type": "code",
   "execution_count": 52,
   "id": "5d6d8fc3",
   "metadata": {},
   "outputs": [],
   "source": [
    "def rk2_step(state, rhs, dt):\n",
    "    '''Update a state to the next time increment using modified Euler's method.\n",
    "    \n",
    "    Arguments\n",
    "    ---------\n",
    "    state : array of dependent variables\n",
    "    rhs   : function that computes the RHS of the DiffEq\n",
    "    dt    : float, time increment\n",
    "    \n",
    "    Returns\n",
    "    -------\n",
    "    next_state : array, updated after one time increment'''\n",
    "    \n",
    "    mid_state = state + rhs(state) * dt*0.5    \n",
    "    next_state = state + rhs(mid_state)*dt\n",
    " \n",
    "    return next_state"
   ]
  },
  {
   "cell_type": "markdown",
   "id": "67c4bea9",
   "metadata": {},
   "source": [
    "## Defining your problem for Python \n",
    "\n",
    "Now, you can finally ask your engineering question in a Python way. \n",
    "\n",
    "We need a function, $f(v_0)$, such that when you input the correct velocity for the initial condition, $f(v_0^{correct})=0$\n",
    "\n",
    "So you define a new function with `def`"
   ]
  },
  {
   "cell_type": "code",
   "execution_count": 53,
   "id": "28b54e36",
   "metadata": {},
   "outputs": [],
   "source": [
    "def f_v(v0,y0=ybounce[0],yT=ybounce[-1],T=(tbounce[0],tbounce[-1]),N=50):\n",
    "    ''' define a function f(v) that returns \n",
    "    ymeasured(T)-ypredicted(T)\n",
    "    here, the time span is based upon the tbounce variable defined above from \n",
    "    the first bounce to the second bounce\n",
    "    \n",
    "    arguments:\n",
    "    ---------\n",
    "    v0: the unknown initial vy velocity component\n",
    "    y0: the known initial position\n",
    "    yT: the known final position\n",
    "    T: a list of two times (beginning time, end time)\n",
    "    N: the number of time steps to integrate the RK2 method default = 50\n",
    "    \n",
    "    returns:\n",
    "    --------\n",
    "    error: the difference between vmeasured(T) and vpredicted(T)\n",
    "        when f_v(v0)= 0, the correct initial velocity was chosen\n",
    "    '''\n",
    "    \n",
    "    \n",
    "    # initialize array\n",
    "    t_sol=np.linspace(T[0],T[1],N)\n",
    "    dt=t_sol[1]-t_sol[0]\n",
    "    num_sol_drag = np.zeros([N,2])\n",
    "\n",
    "    # Set intial conditions\n",
    "    num_sol_drag[0,0] = y0\n",
    "    num_sol_drag[0,1] = v0\n",
    "\n",
    "    for i in range(N-1):\n",
    "        num_sol_drag[i+1] = rk2_step(num_sol_drag[i], fall_drag, dt)\n",
    "    error = num_sol_drag[-1,0]-yT\n",
    "    #plt.plot(t_sol,num_sol_drag[:,0])\n",
    "    return error"
   ]
  },
  {
   "cell_type": "markdown",
   "id": "fd34745d",
   "metadata": {},
   "source": [
    "Take a look at the pieces of this function:\n",
    "\n",
    "1. Create an array of time `t_sol`\n",
    "\n",
    "2. Set initial conditions to `y0` and `v0` <- __here `v0` is your unknown value__\n",
    "\n",
    "3. Use Runge-Kutta second order to integrate the function for `t_sol[0]` to `t_sol[-1]`\n",
    "\n",
    "4. Create an output, `error` of the difference between the measured y(T), `yT`, and the current solution for y(T), `num_sol_drag[-1,0]`\n",
    "\n",
    "When `error` is 0, you have chosen the correct initial velocity, `v0`.\n",
    "\n",
    "To see what the output looks like, below you can take out the integration part and plot the results for a guess of `v0`."
   ]
  },
  {
   "cell_type": "code",
   "execution_count": 54,
   "id": "2f0be558",
   "metadata": {},
   "outputs": [],
   "source": [
    "# initialize array\n",
    "N=50\n",
    "T=(tbounce[0],tbounce[-1])\n",
    "t_sol=np.linspace(T[0],T[1],N)\n",
    "dt=t_sol[1]-t_sol[0]\n",
    "num_sol_drag = np.zeros([N,2])\n",
    "num_sol_drag[0,0] = ybounce[0]\n",
    "num_sol_drag[0,1] = 3\n",
    "\n",
    "for i in range(N-1):\n",
    "    num_sol_drag[i+1] = rk2_step(num_sol_drag[i], fall_drag, dt)"
   ]
  },
  {
   "cell_type": "code",
   "execution_count": 55,
   "id": "6ebb947b",
   "metadata": {},
   "outputs": [
    {
     "data": {
      "image/png": "[encoded data removed]",
      "text/plain": [
       "<Figure size 432x288 with 1 Axes>"
      ]
     },
     "metadata": {
      "needs_background": "light"
     },
     "output_type": "display_data"
    }
   ],
   "source": [
    "plt.plot(t,y)\n",
    "plt.plot(t_sol,num_sol_drag[:,0],'s')\n",
    "plt.title('Predicted motion after bounce')\n",
    "plt.xlabel('time (s)')\n",
    "plt.ylabel('height y(t) (m)');"
   ]
  },
  {
   "cell_type": "markdown",
   "id": "30b7309d",
   "metadata": {},
   "source": [
    "## Exercise\n",
    "\n",
    "Enter your best guess for `v0`. What is the error between the measured `yT` and your predicted y(T)? _Hint: use your function, `f_v`, and plot the results._"
   ]
  },
  {
   "cell_type": "code",
   "execution_count": null,
   "id": "84bfa118",
   "metadata": {},
   "outputs": [],
   "source": []
  },
  {
   "cell_type": "markdown",
   "id": "acfbecf4",
   "metadata": {},
   "source": [
    "## Solving the engineering problem\n",
    "\n",
    "Now, you have all the components you need for this \"shooting\" problem. You can't evaluate a derivative easily and the bisection method is too slow. Therefore, you will use the `mod_secant` function to find the correct initial velocity. \n",
    "\n",
    "Below is the solution. _Just one line of code!_"
   ]
  },
  {
   "cell_type": "code",
   "execution_count": 56,
   "id": "9af45223",
   "metadata": {},
   "outputs": [
    {
     "name": "stdout",
     "output_type": "stream",
     "text": [
      "4.175915400675785 m/s is the correct initial velocity to match the height at beginning and end of bounce\n",
      "the solve took  3  iterations\n"
     ]
    }
   ],
   "source": [
    "v0,out = mod_secant(f_v,0.0001,7,es=0.000001) # <-- solution line\n",
    "print(v0, 'm/s is the correct initial velocity to match the height at beginning and end of bounce')\n",
    "print('the solve took ',out[2],' iterations')"
   ]
  },
  {
   "cell_type": "markdown",
   "id": "303b7951",
   "metadata": {},
   "source": [
    "## Exercise\n",
    "\n",
    "Change the value of the `dx` and `x0`. Does it change the final result? Does it change the time it took to arrive at the solution or the number of iterations?"
   ]
  },
  {
   "cell_type": "code",
   "execution_count": 61,
   "id": "a5148cb4",
   "metadata": {},
   "outputs": [],
   "source": [
    "mod_secant?"
   ]
  },
  {
   "cell_type": "markdown",
   "id": "c5ee3ddf",
   "metadata": {},
   "source": [
    "## What you've learned\n",
    "\n",
    "* How to find the 0 of a function, aka root-finding\n",
    "* The difference between a bracketing and an open methods for finding roots\n",
    "* Two bracketing methods: incremental search and bisection methods\n",
    "* Two open methods: Newton-Raphson and modified secant methods\n",
    "* How to measure relative error\n",
    "* How to compare root-finding methods\n",
    "* How to frame an engineering problem as a root-finding problem\n",
    "* Solve an initial value problem with missing initial conditions (the shooting method)\n",
    "* _Bonus: In the Problems you'll consider stability of bracketing and open methods._"
   ]
  },
  {
   "cell_type": "markdown",
   "id": "a1ff5be6",
   "metadata": {},
   "source": [
    "## References\n",
    "\n",
    "1. Chapra, Steven _Applied Numerical Methods with Matlab for Engineers._ McGraw Hill. \n",
    "\n",
    "2. _Computational Physics with Python_, lecture notes by Eric Ayars, California State University, Chico. Available online on the author's website: https://physics.csuchico.edu/ayars/312/handouts/comp-phys-python.pdf"
   ]
  }
 ],
 "metadata": {
  "jupytext": {
   "formats": "notebooks//ipynb,md:myst",
   "text_representation": {
    "extension": ".md",
    "format_name": "myst",
    "format_version": 0.13,
    "jupytext_version": "1.10.3"
   }
  },
  "kernelspec": {
   "display_name": "Python 3 (ipykernel)",
   "language": "python",
   "name": "python3"
  },
  "language_info": {
   "codemirror_mode": {
    "name": "ipython",
    "version": 3
   },
   "file_extension": ".py",
   "mimetype": "text/x-python",
   "name": "python",
   "nbconvert_exporter": "python",
   "pygments_lexer": "ipython3",
   "version": "3.9.6"
  }
 },
 "nbformat": 4,
 "nbformat_minor": 5
}
