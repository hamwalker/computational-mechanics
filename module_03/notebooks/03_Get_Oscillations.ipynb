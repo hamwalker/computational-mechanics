{
 "cells": [
  {
   "cell_type": "markdown",
   "id": "e03c0832",
   "metadata": {},
   "source": [
    "> __Content modified under Creative Commons Attribution license CC-BY\n",
    "> 4.0, code under BSD 3-Clause License © 2020 R.C. Cooper__"
   ]
  },
  {
   "cell_type": "markdown",
   "id": "35329fef",
   "metadata": {},
   "source": [
    "# Get with the oscillations\n",
    "\n",
    "So far, in this module you have learned to:\n",
    "\n",
    "* capture time histories of a body's position from images and video;\n",
    "* compute velocity and acceleration of a body, from known positions over time—i.e., take numerical derivatives;\n",
    "* find the motion description (position versus time) from acceleration data, stepping in time with Euler's method;\n",
    "* form the state vector and the vectorized form of a second-order dynamical system;\n",
    "* improve the simple free-fall model by adding air resistance.\n",
    "\n",
    "You also learned that Euler's method is a _first-order_ method: a Taylor series expansion shows that stepping in time with Euler makes an error—called the _truncation error_ —proportional to the time increment, $\\Delta t$.\n",
    "\n",
    "In this lesson, you'll work with oscillating systems. Euler's method\n",
    "doesn't do very well with oscillating systems, but you'll show you a clever way to fix this. (The modified method is _still_ first order, however. You will also confirm the **order of convergence** by computing the error using different values of $\\Delta t$.\n",
    "\n",
    "As always, you will need our best-loved numerical Python libraries, and\n",
    "you'll also re-use the `eulerstep()` function from the [previous lesson](http://go.gwu.edu/engcomp3lesson2). So let's get that out of the way."
   ]
  },
  {
   "cell_type": "code",
   "execution_count": 1,
   "id": "b9669762",
   "metadata": {},
   "outputs": [],
   "source": [
    "import numpy as np\n",
    "import matplotlib.pyplot as plt\n",
    "%matplotlib inline\n",
    "plt.rcParams.update({'font.size': 22})\n",
    "plt.rcParams['lines.linewidth'] = 3"
   ]
  },
  {
   "cell_type": "code",
   "execution_count": 2,
   "id": "7f98da1f",
   "metadata": {},
   "outputs": [],
   "source": [
    "def eulerstep(state, rhs, dt):\n",
    "    '''Update a state to the next time increment using Euler's method.\n",
    "    \n",
    "    Arguments\n",
    "    ---------\n",
    "    state : array of dependent variables\n",
    "    rhs   : function that computes the RHS of the DiffEq\n",
    "    dt    : float, time increment\n",
    "    \n",
    "    Returns\n",
    "    -------\n",
    "    next_state : array, updated after one time increment'''\n",
    "    \n",
    "    next_state = state + rhs(state) * dt\n",
    "    return next_state"
   ]
  },
  {
   "cell_type": "markdown",
   "id": "0b4b1437",
   "metadata": {},
   "source": [
    "## Spring-mass system\n",
    "\n",
    "A prototypical mechanical system is a mass $m$ attached to a spring, in the simplest case without friction. The elastic constant of the spring, $k$, determines the restoring force it will apply to the mass when displaced by a distance $x$. The system then oscillates back and forth around its position of equilibrium.\n",
    "\n",
    "<img src=\"../images/spring-mass.png\" style=\"width: 400px;\"/>"
   ]
  },
  {
   "cell_type": "markdown",
   "id": "12341dd7",
   "metadata": {},
   "source": [
    "## Simple spring-mass system, without friction.\n",
    "Newton's law applied to the friction-less spring-mass system is:\n",
    "\n",
    "\\begin{equation}\n",
    "-k x = m \\ddot{x}\n",
    "\\end{equation}\n",
    "\n",
    "Introducing the parameter $\\omega = \\sqrt{k/m}$, the equation of motion is rewriten as:\n",
    "\n",
    "\\begin{equation}\n",
    "\\ddot{x} + \\omega^2 x = 0\n",
    "\\end{equation}\n",
    "\n",
    "where a dot above a dependent variable denotes the time derivative. This is a second-order differential equation for the position $x$, having a known analytical solution that represents _simple harmonic motion_:\n",
    "\n",
    "$x(t) = x_0 \\cos(\\omega t)$\n",
    "\n",
    "The solution represents oscillations with period $P = 2 \\pi/ \\omega $  (the time between two peaks), and amplitude $x_0$."
   ]
  },
  {
   "cell_type": "markdown",
   "id": "f9be82f2",
   "metadata": {},
   "source": [
    "### System in vector form\n",
    "\n",
    "It's useful to write a second-order differential equation as a set of two first-order equations: in this case, for position and velocity, respectively:\n",
    "\n",
    "\\begin{eqnarray}\n",
    "\\dot{x} &=& v \\nonumber\\\\\n",
    "\\dot{v} &=& -\\omega^2 x\n",
    "\\end{eqnarray}\n",
    "\n",
    "Like you did in [Lesson 2](./02_Step_Future.ipynb) of this module, you write the state of the system as a two-dimensional vector,\n",
    "\n",
    "\\begin{equation}\n",
    "\\mathbf{x} = \\begin{bmatrix}\n",
    "x \\\\ v\n",
    "\\end{bmatrix},\n",
    "\\end{equation}\n",
    "\n",
    "and the differential equation in vector form:\n",
    "\n",
    "\\begin{equation}\n",
    "\\dot{\\mathbf{x}} = \\begin{bmatrix}\n",
    "v \\\\ -\\omega^2 x\n",
    "\\end{bmatrix}.\n",
    "\\end{equation}\n",
    "\n",
    "Several advantages come from writing the differential equation in vector form, both  theoretical and practical. In the study of dynamical systems, for example, the state vector lives in a state space called the _phase plane_, and many things can be learned from studying solutions to differential equations graphically on a phase plane.\n",
    "\n",
    "Practically, writing the equation in vector form results in more general, compact code. Let's write a function to obtain the right-hand side of the spring-mass differential equation, in vector form."
   ]
  },
  {
   "cell_type": "code",
   "execution_count": 3,
   "id": "42ab8eca",
   "metadata": {},
   "outputs": [],
   "source": [
    "def springmass(state):\n",
    "    '''Computes the right-hand side of the spring-mass differential \n",
    "    equation, without friction.\n",
    "    \n",
    "    Arguments\n",
    "    ---------   \n",
    "    state : array of two dependent variables [x v]^T\n",
    "    \n",
    "    Returns \n",
    "    -------\n",
    "    derivs: array of two derivatives [v - w*w*x]^T\n",
    "    '''\n",
    "    \n",
    "    derivs = np.array([state[1], -w**2*state[0]])\n",
    "    return derivs"
   ]
  },
  {
   "cell_type": "markdown",
   "id": "88ecefde",
   "metadata": {},
   "source": [
    "This worked example follows Reference [1], section 4.3 (note that the source is open access). You set the parameters of the system, choose a time interval equal to 1-20th of the oscillation period, and decide to solve the motion for a duration equal to 3 periods."
   ]
  },
  {
   "cell_type": "code",
   "execution_count": 4,
   "id": "9f9e95c5",
   "metadata": {},
   "outputs": [],
   "source": [
    "w = 2\n",
    "period = 2*np.pi/w\n",
    "dt = period/20  # you choose 20 time intervals per period \n",
    "T = 3*period    # solve for 3 periods\n",
    "N = round(T/dt)"
   ]
  },
  {
   "cell_type": "code",
   "execution_count": 5,
   "id": "a6b863d3",
   "metadata": {},
   "outputs": [
    {
     "name": "stdout",
     "output_type": "stream",
     "text": [
      "60\n",
      "0.15707963267948966\n"
     ]
    }
   ],
   "source": [
    "print(N)\n",
    "print(dt)"
   ]
  },
  {
   "cell_type": "markdown",
   "id": "5ecbf830",
   "metadata": {},
   "source": [
    "Next, set up the time array and initial conditions, initialize the solution array with zero values, and assign the initial values to the first elements of the solution array."
   ]
  },
  {
   "cell_type": "code",
   "execution_count": 6,
   "id": "72863bc4",
   "metadata": {},
   "outputs": [],
   "source": [
    "t = np.linspace(0, T, N)"
   ]
  },
  {
   "cell_type": "code",
   "execution_count": 7,
   "id": "060a66b2",
   "metadata": {},
   "outputs": [],
   "source": [
    "x0 = 2    # initial position\n",
    "v0 = 0    # initial velocity"
   ]
  },
  {
   "cell_type": "code",
   "execution_count": 8,
   "id": "17faaae6",
   "metadata": {},
   "outputs": [],
   "source": [
    "#initialize solution array\n",
    "num_sol = np.zeros([N,2])"
   ]
  },
  {
   "cell_type": "code",
   "execution_count": 9,
   "id": "47a6ec01",
   "metadata": {},
   "outputs": [],
   "source": [
    "#Set intial conditions\n",
    "num_sol[0,0] = x0\n",
    "num_sol[0,1] = v0"
   ]
  },
  {
   "cell_type": "markdown",
   "id": "92f9552a",
   "metadata": {},
   "source": [
    "You're ready to solve! Step through the time increments, calling the `eulerstep()` function with the `springmass` right-hand-side derivatives and time increment as inputs."
   ]
  },
  {
   "cell_type": "code",
   "execution_count": 10,
   "id": "a651f847",
   "metadata": {},
   "outputs": [],
   "source": [
    "for i in range(N-1):\n",
    "    num_sol[i+1] = eulerstep(num_sol[i], springmass, dt)"
   ]
  },
  {
   "cell_type": "markdown",
   "id": "9ebe4bb6",
   "metadata": {},
   "source": [
    "Now, let's compute the position with respect to time using the known analytical solution, so that you can compare the numerical result with it. Below, you make a plot including both numerical and analytical values in our chosen time range."
   ]
  },
  {
   "cell_type": "code",
   "execution_count": 11,
   "id": "16b18f91",
   "metadata": {},
   "outputs": [],
   "source": [
    "x_an = x0*np.cos(w * t)"
   ]
  },
  {
   "cell_type": "code",
   "execution_count": 12,
   "id": "33e42234",
   "metadata": {},
   "outputs": [
    {
     "data": {
      "image/png": "[encoded data removed]",
      "text/plain": [
       "<Figure size 432x288 with 1 Axes>"
      ]
     },
     "metadata": {
      "needs_background": "light"
     },
     "output_type": "display_data"
    }
   ],
   "source": [
    "# plot solution with Euler's method\n",
    "fig = plt.figure(figsize=(6,4))\n",
    "\n",
    "plt.plot(t, num_sol[:, 0], linewidth=2, linestyle='--', label='Numerical solution')\n",
    "plt.plot(t, x_an, linewidth=1, linestyle='-', label='Analytical solution')\n",
    "plt.xlabel('Time [s]')\n",
    "plt.ylabel('$x$ [m]')\n",
    "plt.title('Spring-mass system with Euler\\'s method (dashed line).\\n');"
   ]
  },
  {
   "cell_type": "markdown",
   "id": "cf5b625b",
   "metadata": {},
   "source": [
    "Yikes! The numerical solution exhibits a marked growth in amplitude over time, which certainly is not what the physical system displays. _What is wrong with Euler's method?_"
   ]
  },
  {
   "cell_type": "markdown",
   "id": "284cd27c",
   "metadata": {},
   "source": [
    "##### Exercise: \n",
    "\n",
    "* Try repeating the calculation above using smaller values of the time increment, `dt`, and see if the results improve. Try `dt=P/40`,  `P/160` and  `P/2000`.\n",
    "\n",
    "* Although the last case, with 2000 steps per oscillation, does look good enough, see what happens if you then increase the time of simulation, for example to 20 periods. —Run the case again: _What do you see now?_\n",
    "\n",
    "Observe a growth in amplitude in the numerical solution, worsening over\n",
    "time. The solution does improve when you reduce the time increment `dt`\n",
    "(as it should), but the amplitude still displays unphysical growth for\n",
    "longer simulations."
   ]
  },
  {
   "cell_type": "markdown",
   "id": "3849fa68",
   "metadata": {},
   "source": [
    "## Euler-Cromer method\n",
    "\n",
    "The thing is, Euler's method has a fundamental problem with oscillatory systems. Look again at the approximation made by Euler's method to get the position at the next time interval:\n",
    "\n",
    "\\begin{equation}\n",
    " x(t_i+\\Delta t)   \\approx  x(t_i) + v(t_i) \\Delta t\n",
    "\\end{equation}\n",
    "\n",
    "It uses the velocity value at the _beginning_ of the time interval to step the solution to the future. \n",
    "\n",
    "A graphical explanation can help here. Remember that the derivative of a function corresponds to the slope of the tangent at a point. Euler's method approximates the derivative using the slope at the initial point in an interval, and advances the numerical position with that initial velocity. The sketch below illustrates two consecutive Euler steps on a function with high curvature.\n",
    "\n",
    "<img src=\"../images/two-euler-steps.png\" style=\"width: 500px;\"/> \n",
    "\n",
    "#### Sketch of two Euler steps on a curved function.\n",
    "\n",
    "Since Euler's method makes a linear approximation to project the solution into the future, assuming the value of the derivative at the start of the interval, it's not very good on oscillatory functions.\n",
    "\n",
    "A clever idea that improves on Euler's method is to use the updated value of the derivatives for the _second_ equation.\n",
    "\n",
    "Pure Euler's method applies:\n",
    "\n",
    "\\begin{eqnarray}\n",
    "x(t_0) = x_0, \\qquad x_{i+1} &=& x_i + v_i \\Delta t \\nonumber\\\\\n",
    "v(t_0) = v_0, \\qquad v_{i+1} &=& v_i - {\\omega}^2 x_i \\Delta t\n",
    "\\end{eqnarray}\n",
    "\n",
    "What if in the equation for $v$ you used the value $x_{i+1}$ that was just computed? Like this:\n",
    "\n",
    "\\begin{eqnarray}\n",
    "x(t_0) = x_0, \\qquad x_{i+1} &=& x_i + v_i \\Delta t \\nonumber\\\\\n",
    "v(t_0) = v_0, \\qquad v_{i+1} &=& v_i - {\\omega}^2 x_{i+1} \\Delta t\n",
    "\\end{eqnarray}\n",
    "\n",
    "Notice the $x_{i+1}$ on the right-hand side of the second equation: that's the updated value, giving the acceleration at the _end_ of the time interval. This modified scheme is called Euler-Cromer method, to honor clever Mr Cromer, who came up with the idea [2]."
   ]
  },
  {
   "cell_type": "markdown",
   "id": "7279aaf4",
   "metadata": {},
   "source": [
    "Let's see what it does. Study the function below carefully—it helps a lot if you write things out on a piece of paper!"
   ]
  },
  {
   "cell_type": "code",
   "execution_count": 13,
   "id": "346bd8fd",
   "metadata": {},
   "outputs": [],
   "source": [
    "def euler_cromer(state, rhs, dt):\n",
    "    '''Update a state to the next time increment using Euler-Cromer's method.\n",
    "    \n",
    "    Arguments\n",
    "    ---------\n",
    "    state : array of dependent variables\n",
    "    rhs   : function that computes the RHS of the DiffEq\n",
    "    dt    : float, time increment\n",
    "    \n",
    "    Returns\n",
    "    -------\n",
    "    next_state : array, updated after one time increment'''\n",
    "    \n",
    "    mid_state = state + rhs(state)*dt # Euler step\n",
    "    mid_derivs = rhs(mid_state)       # updated derivatives\n",
    "    \n",
    "    next_state = np.array([mid_state[0], state[1] + mid_derivs[1]*dt])\n",
    "    \n",
    "    return next_state"
   ]
  },
  {
   "cell_type": "markdown",
   "id": "dc2fe6c3",
   "metadata": {},
   "source": [
    "You've copied the whole problem set-up below, to get the solution in one\n",
    "code cell, for easy trial with different parameter choices. Try it out!"
   ]
  },
  {
   "cell_type": "code",
   "execution_count": 14,
   "id": "6aedf3d8",
   "metadata": {},
   "outputs": [
    {
     "name": "stdout",
     "output_type": "stream",
     "text": [
      "The number of time steps is 160000.\n",
      "The time increment is 0.015707963267948967\n"
     ]
    }
   ],
   "source": [
    "w = 2\n",
    "period = 2*np.pi/w\n",
    "dt = period/200  # time intervals per period \n",
    "T = 800*period   # simulation time, in number of periods\n",
    "N = round(T/dt)\n",
    "\n",
    "print('The number of time steps is {}.'.format( N ))\n",
    "print('The time increment is {}'.format( dt ))\n",
    "\n",
    "# time array\n",
    "t = np.linspace(0, T, N)\n",
    "\n",
    "x0 = 2    # initial position\n",
    "v0 = 0    # initial velocity\n",
    "\n",
    "#initialize solution array\n",
    "num_sol = np.zeros([N,2])\n",
    "\n",
    "#Set intial conditions\n",
    "num_sol[0,0] = x0\n",
    "num_sol[0,1] = v0\n",
    "\n",
    "for i in range(N-1):\n",
    "    num_sol[i+1] = euler_cromer(num_sol[i], springmass, dt)"
   ]
  },
  {
   "cell_type": "markdown",
   "id": "0a7c3565",
   "metadata": {},
   "source": [
    "Recompute the analytical solution, and plot it alongside the numerical\n",
    "one, when you're ready. You computed a crazy number of oscillations, so\n",
    "you'll need to pick carefully the range of time to plot.\n",
    "\n",
    "First, get the analytical solution. You chose to then plot the first few periods of the oscillatory motion: numerical and analytical."
   ]
  },
  {
   "cell_type": "code",
   "execution_count": 15,
   "id": "4e285967",
   "metadata": {},
   "outputs": [],
   "source": [
    "x_an = x0*np.cos(w * t) # analytical solution"
   ]
  },
  {
   "cell_type": "code",
   "execution_count": 16,
   "id": "20225f8d",
   "metadata": {},
   "outputs": [
    {
     "data": {
      "image/png": "[encoded data removed]",
      "text/plain": [
       "<Figure size 432x288 with 1 Axes>"
      ]
     },
     "metadata": {
      "needs_background": "light"
     },
     "output_type": "display_data"
    }
   ],
   "source": [
    "iend = 800 # in number of time steps\n",
    "\n",
    "fig = plt.figure(figsize=(6,4))\n",
    "\n",
    "plt.plot(t[:iend], num_sol[:iend, 0], linewidth=2, linestyle='--', label='Numerical solution')\n",
    "plt.plot(t[:iend], x_an[:iend], linewidth=1, linestyle='-', label='Analytical solution')\n",
    "plt.xlabel('Time [s]')\n",
    "plt.ylabel('$x$ [m]')\n",
    "plt.title('Spring-mass system, with Euler-Cromer method.\\n');"
   ]
  },
  {
   "cell_type": "markdown",
   "id": "96cc7f12",
   "metadata": {},
   "source": [
    "The plot shows that Euler-Cromer does not have the problem of growing\n",
    "amplitudes. You should be happy with it in that sense."
   ]
  },
  {
   "cell_type": "markdown",
   "id": "8a937bdd",
   "metadata": {},
   "source": [
    "But if you plot the end of a long period of simulation, you can see that it does start to  deviate from the analytical solution."
   ]
  },
  {
   "cell_type": "code",
   "execution_count": 17,
   "id": "c7029f44",
   "metadata": {},
   "outputs": [
    {
     "data": {
      "image/png": "[encoded data removed]",
      "text/plain": [
       "<Figure size 432x288 with 1 Axes>"
      ]
     },
     "metadata": {
      "needs_background": "light"
     },
     "output_type": "display_data"
    }
   ],
   "source": [
    "istart = 400\n",
    "\n",
    "fig = plt.figure(figsize=(6,4))\n",
    "\n",
    "plt.plot(t[-istart:], num_sol[-istart:, 0], linewidth=2, linestyle='--', label='Numerical solution')\n",
    "plt.plot(t[-istart:], x_an[-istart:], linewidth=1, linestyle='-', label='Analytical solution')\n",
    "plt.xlabel('Time [s]')\n",
    "plt.ylabel('$x$ [m]')\n",
    "plt.title('Spring-mass system, with Euler-Cromer method. \\n');"
   ]
  },
  {
   "cell_type": "markdown",
   "id": "1015034f",
   "metadata": {},
   "source": [
    "Looking at the last few oscillations in a very long run shows a slight phase difference, even with a very small time increment. So although the Euler-Cromer method fixes a big problem with Euler's method, it still has some error. It's still a first-order method!\n",
    "\n",
    "#### The Euler-Cromer method is first-order accurate, just like Euler's method. The global error is proportional to $\\Delta t$.\n",
    "\n",
    "##### Note:\n",
    "\n",
    "You'll often find the presentation of the Euler-Cromer method with the reverse order of the equations, i.e., the velocity equation solved first, then the position equation solved with the updated value of the velocity. This makes no difference in the results: it's just a convention among physicists.\n",
    "\n",
    "The Euler-Cromer method is equivalent to a [_semi-implicit Euler method_](https://en.wikipedia.org/wiki/Semi-implicit_Euler_method)."
   ]
  },
  {
   "cell_type": "markdown",
   "id": "812ec22a",
   "metadata": {},
   "source": [
    "## Convergence\n",
    "\n",
    "Both Euler's method and the Cromer variant are _first-order accurate_: the error goes as the first power of $\\Delta t$. In [Lesson 2](http://go.gwu.edu/engcomp3lesson2) of this module, you showed this using a Taylor series. Let's now confirm it numerically.\n",
    "\n",
    "Because simple harmonic motion has a known analytical function that solves the differential equation, you can directly compute a measure of the error made by the numerical solution. \n",
    "\n",
    "Suppose you ran a numerical solution in the interval from $t_0$ to $T=N/\\Delta t$. You could then compute the error, as follows:\n",
    "\n",
    "\\begin{equation}\n",
    "e = x_N - x_0 \\cos(\\omega T)\n",
    "\\end{equation}\n",
    "\n",
    "where $x_N$ represents the numerical solution at the $N$-th time step."
   ]
  },
  {
   "cell_type": "markdown",
   "id": "43c752ed",
   "metadata": {},
   "source": [
    "How could you confirm the order of convergence of a numerical method? In the lucky scenario of having an analytical solution to directly compute the error, all you need to do is solve numerically with different values of $\\Delta t$ and see if the error really varies linearly with this parameter.\n",
    "\n",
    "In the code cell below, you compute the numerical solution with different time increments. You use two nested `for`-statements: one iterates over the values of $\\Delta t$, and the other iterates over the time steps from the initial condition to the final time. You save the results in a new variable called `num_sol_time`, which is an array of arrays. Check it out!"
   ]
  },
  {
   "cell_type": "code",
   "execution_count": null,
   "id": "b622dceb",
   "metadata": {},
   "outputs": [],
   "source": [
    "dt_values = np.array([period/50, period/100, period/200, period/400])\n",
    "T = 1*period\n",
    "\n",
    "num_sol_time = np.empty_like(dt_values, dtype=np.ndarray)\n",
    "\n",
    "\n",
    "for j, dt in enumerate(dt_values):\n",
    "\n",
    "    N = int(T/dt)\n",
    "    t = np.linspace(0, T, N)\n",
    "    \n",
    "    #initialize solution array\n",
    "    num_sol = np.zeros([N,2])\n",
    "    \n",
    "    \n",
    "    #Set intial conditions\n",
    "    num_sol[0,0] = x0\n",
    "    num_sol[0,1] = v0\n",
    "    \n",
    "    for i in range(N-1):\n",
    "        num_sol[i+1] = eulerstep(num_sol[i], springmass, dt)\n",
    "\n",
    "    num_sol_time[j] = num_sol.copy()"
   ]
  },
  {
   "cell_type": "markdown",
   "id": "1a311778",
   "metadata": {},
   "source": [
    "You need to compute the error with our chosen norm, so let's write a function for that. It includes a line to obtain the values of the analytical solution at the needed instant of time, and then it takes the difference with the numerical solution to compute the error."
   ]
  },
  {
   "cell_type": "code",
   "execution_count": null,
   "id": "2bf62743",
   "metadata": {},
   "outputs": [],
   "source": [
    "def get_error(num_sol, T):\n",
    "    \n",
    "    x_an = x0 * np.cos(w * T) # analytical solution at final time\n",
    "    \n",
    "    error =  np.abs(num_sol[-1,0] - x_an)\n",
    "    \n",
    "    return error"
   ]
  },
  {
   "cell_type": "markdown",
   "id": "22c42244",
   "metadata": {},
   "source": [
    "All that is left to do is to call the error function with our chosen values of $\\Delta t$, and plot the results. A logarithmic scale on the plot confirms close to linear scaling between error and time increment."
   ]
  },
  {
   "cell_type": "code",
   "execution_count": null,
   "id": "1e38d02d",
   "metadata": {},
   "outputs": [],
   "source": [
    "error_values = np.empty_like(dt_values)\n",
    "\n",
    "for j in range(len(dt_values)):\n",
    "    \n",
    "    error_values[j] = get_error(num_sol_time[j], T)"
   ]
  },
  {
   "cell_type": "code",
   "execution_count": null,
   "id": "c254502d",
   "metadata": {},
   "outputs": [],
   "source": [
    "# plot the solution errors with respect to the time incremetn\n",
    "fig = plt.figure(figsize=(6,6))\n",
    "\n",
    "plt.loglog(dt_values, error_values, 'ko-')  #log-log plot\n",
    "plt.loglog(dt_values, 10*dt_values, 'k:')\n",
    "plt.grid(True)                         #turn on grid lines\n",
    "plt.axis('equal')                      #make axes scale equally\n",
    "plt.xlabel('$\\Delta t$')\n",
    "plt.ylabel('Error')\n",
    "plt.title('Convergence of the Euler method (dotted line: slope 1)\\n');"
   ]
  },
  {
   "cell_type": "markdown",
   "id": "78c9a664",
   "metadata": {},
   "source": [
    "What do you see in the plot of the error as a function of $\\Delta t$? It looks like a straight line, with a slope close to 1. On a log-log convergence plot, a slope of 1 indicates that you have a first-order method: the error scales as ${\\mathcal O}(\\Delta t)$—using the \"big-O\" notation. It means that the error is proportional to the time increment: $ error \\propto \\Delta t.$"
   ]
  },
  {
   "cell_type": "markdown",
   "id": "1d3a3589",
   "metadata": {},
   "source": [
    "## Modified Euler's method\n",
    "\n",
    "Another improvement on Euler's method is achieved by stepping the numerical solution to the midpoint of a time interval, computing the derivatives there, and then going back and updating the system state using the midpoint derivatives. This is called _modified Euler's method_.\n",
    "\n",
    "If you write the vector form of the differential equation as: \n",
    "\n",
    "\\begin{equation}\n",
    "\\dot{\\mathbf{x}} = f(\\mathbf{x}),\n",
    "\\end{equation}\n",
    "\n",
    "then modified Euler's method is:\n",
    "\\begin{align}\n",
    "\\mathbf{x}_{n+1/2}   & = \\mathbf{x}_n + \\frac{\\Delta t}{2} f(\\mathbf{x}_n) \\\\\n",
    "\\mathbf{x}_{n+1} & = \\mathbf{x}_n + \\Delta t \\,\\, f(\\mathbf{x}_{n+1/2}).\n",
    "\\end{align}\n",
    "\n",
    "Now write a Python function to update the state using this method. It's equivalent to a so-called _Runge-Kutta second-order_ method, so you call it `rk2_step()`."
   ]
  },
  {
   "cell_type": "code",
   "execution_count": null,
   "id": "d208223c",
   "metadata": {},
   "outputs": [],
   "source": [
    "def rk2_step(state, rhs, dt):\n",
    "    '''Update a state to the next time increment using modified Euler's method.\n",
    "    \n",
    "    Arguments\n",
    "    ---------\n",
    "    state : array of dependent variables\n",
    "    rhs   : function that computes the RHS of the DiffEq\n",
    "    dt    : float, time increment\n",
    "    \n",
    "    Returns\n",
    "    -------\n",
    "    next_state : array, updated after one time increment'''\n",
    "    \n",
    "    mid_state = state + rhs(state) * dt*0.5    \n",
    "    next_state = state + rhs(mid_state)*dt\n",
    " \n",
    "    return next_state"
   ]
  },
  {
   "cell_type": "markdown",
   "id": "6d589b1e",
   "metadata": {},
   "source": [
    "Let's see how it performs with our spring-mass model."
   ]
  },
  {
   "cell_type": "code",
   "execution_count": null,
   "id": "9297d0d5",
   "metadata": {},
   "outputs": [],
   "source": [
    "dt_values = np.array([period/50, period/100, period/200,period/400,period/1000])\n",
    "T = 1*period\n",
    "\n",
    "num_sol_time = np.empty_like(dt_values, dtype=np.ndarray)\n",
    "\n",
    "\n",
    "for j, dt in enumerate(dt_values):\n",
    "\n",
    "    N = int(T/dt)\n",
    "    t = np.linspace(0, T, N)\n",
    "    \n",
    "    #initialize solution array\n",
    "    num_sol = np.zeros([N,2])\n",
    "    \n",
    "    \n",
    "    #Set intial conditions\n",
    "    num_sol[0,0] = x0\n",
    "    num_sol[0,1] = v0\n",
    "    \n",
    "    for i in range(N-1):\n",
    "        num_sol[i+1] = rk2_step(num_sol[i], springmass, dt)\n",
    "\n",
    "    num_sol_time[j] = num_sol.copy()"
   ]
  },
  {
   "cell_type": "code",
   "execution_count": null,
   "id": "fd0fba6b",
   "metadata": {},
   "outputs": [],
   "source": [
    "plt.plot(t,num_sol[:,0],'s')\n",
    "plt.plot(t,x0*np.cos(w*t))"
   ]
  },
  {
   "cell_type": "code",
   "execution_count": null,
   "id": "fab44b28",
   "metadata": {},
   "outputs": [],
   "source": [
    "error_values = np.empty_like(dt_values)\n",
    "\n",
    "for j, dt in enumerate(dt_values):\n",
    "    \n",
    "    error_values[j] = get_error(num_sol_time[j], T)"
   ]
  },
  {
   "cell_type": "code",
   "execution_count": null,
   "id": "500a2663",
   "metadata": {},
   "outputs": [],
   "source": [
    "# plot of convergence for modified Euler's\n",
    "fig = plt.figure(figsize=(6,6))\n",
    "\n",
    "plt.loglog(dt_values, error_values, 'ko-')\n",
    "plt.loglog(dt_values, 5*dt_values**2, 'k:')\n",
    "plt.grid(True)\n",
    "plt.axis('equal')\n",
    "plt.xlabel('$\\Delta t$')\n",
    "plt.ylabel('Error')\n",
    "plt.title('Convergence of modified Euler\\'s method (dotted line: slope 2)\\n');"
   ]
  },
  {
   "cell_type": "markdown",
   "id": "5e754b5d",
   "metadata": {},
   "source": [
    "The convergence plot, in this case, does look close to a slope-2 line. Modified Euler's method is second-order accurate: \n",
    "the effect of computing the derivatives (slope) at the midpoint of the time interval, instead of the starting point, is to increase the accuracy by one order!\n",
    "\n",
    "Using the derivatives at the midpoint of the time interval is equivalent to using the average of the derivatives at $t$ and $t+\\Delta t$: \n",
    "this corresponds to a second-order _Runge-Kutta method_, or RK2, for short.\n",
    "Combining derivatives evaluated at different points in the time interval is the key to Runge-Kutta methods that achieve higher orders of accuracy."
   ]
  },
  {
   "cell_type": "markdown",
   "id": "0969fbc7",
   "metadata": {
    "slideshow": {
     "slide_type": "slide"
    }
   },
   "source": [
    "## An implicit integration approach\n",
    "\n",
    "In the Modified Euler's method, which is a type of second order Runge-Kutta method, you increased the accuracy of the method by approximating the average slope over the time step. The Euler method assumes the slope is constant during each time step. You can increase accuracy the accuracy of our average slope with an _implicit_ *predictor-corrector approach*. \n",
    "\n",
    "Heun's method is an integration method that uses the same second order Runge Kutta method, but with one important distinction. It uses the actual derivative at the next state as part of its correction. \n",
    "\n",
    "$y_{i+1}=y_{i}+f(t_{i},y_{i}) \\Delta t$\n",
    "\n",
    "$y_{i+1}=y_{i}+\n",
    "\\frac{f(t_{i},y_{i})+f(t_{i+1},y_{i+1})}{2} \\Delta t$\n",
    "\n",
    "The error is $ error \\propto \\Delta t^2.$ This is the same convergence as the Modified Euler's method. Let's compare the two methods."
   ]
  },
  {
   "cell_type": "markdown",
   "id": "6ea11063",
   "metadata": {
    "slideshow": {
     "slide_type": "subslide"
    }
   },
   "source": [
    "## Using Heun's method\n",
    "\n",
    "The problem with an _implicit_ method is that our unknown $\\mathbf{y}_{i+1}$ is on both sides of the equation. In an _explicit_ method (such as the Euler and Modified Euler) you estimate the next state, with an equation that is only based upon the current state as such\n",
    "\n",
    "$\\mathbf{y}_{i+1} = f(\\mathbf{y_{i}}),$\n",
    "\n",
    "but with an implicit method you have a nonlinear function where\n",
    "\n",
    "$\\mathbf{y}_{i+1} = g(\\mathbf{y}_{i},\\mathbf{y}_{i+1}). $\n",
    "\n",
    "This extra step introduces the topic of solving a nonlinear problem with\n",
    "a computer. How can you solve an equation if the value you want is also\n",
    "part of our function? You'll take a look at methods to solve this next\n",
    "module, but for now lets set a tolerance `etol` for the _implicit_ Heun\n",
    "method and see what the resulting solution is."
   ]
  },
  {
   "cell_type": "code",
   "execution_count": null,
   "id": "af00984b",
   "metadata": {},
   "outputs": [],
   "source": [
    "def heun_step(state,rhs,dt,etol=0.000001,maxiters = 100):\n",
    "    '''Update a state to the next time increment using the implicit Heun's method.\n",
    "    \n",
    "    Arguments\n",
    "    ---------\n",
    "    state : array of dependent variables\n",
    "    rhs   : function that computes the RHS of the DiffEq\n",
    "    dt    : float, time increment\n",
    "    etol  : tolerance in error for each time step corrector\n",
    "    maxiters: maximum number of iterations each time step can take\n",
    "    \n",
    "    Returns\n",
    "    -------\n",
    "    next_state : array, updated after one time increment'''\n",
    "    e=1\n",
    "    eps=np.finfo('float64').eps\n",
    "    next_state = state + rhs(state)*dt\n",
    "    ################### New iterative correction #########################\n",
    "    for n in range(0,maxiters):\n",
    "        next_state_old = next_state\n",
    "        next_state = state + (rhs(state)+rhs(next_state))/2*dt\n",
    "        e=np.sum(np.abs(next_state-next_state_old)/np.abs(next_state+eps))\n",
    "        if e<etol:\n",
    "            break\n",
    "    ############### end of iterative correction #########################\n",
    "    return next_state"
   ]
  },
  {
   "cell_type": "markdown",
   "id": "0a655d2e",
   "metadata": {},
   "source": [
    "## Why use implicit methods?\n",
    "\n",
    "The __benefit__ of an implicit solution is that it is a __stable__ solution. When you solve a set of differential equations, many times it may not be apparent what time step to choose. If you use an _implicit_ integration method, then it may converge at the same rate as an _explicit_ method, but it will always provide bounded errors. \n",
    "\n",
    "Consider the spring-mass equation if timesteps are large, in this case you have 10 steps/time period, then the second order Runge-Kutta that you defined above has the same increasing error as the Euler method."
   ]
  },
  {
   "cell_type": "code",
   "execution_count": null,
   "id": "89da1497",
   "metadata": {
    "jupyter": {
     "outputs_hidden": false
    },
    "slideshow": {
     "slide_type": "subslide"
    }
   },
   "outputs": [],
   "source": [
    "w = 2\n",
    "period = 2*np.pi/w\n",
    "dt = period/10  # time intervals per period \n",
    "T = 8*period   # simulation time, in number of periods\n",
    "N = round(T/dt)\n",
    "\n",
    "print('The number of time steps is {}.'.format( N ))\n",
    "print('The time increment is {}'.format( dt ))\n",
    "\n",
    "# time array\n",
    "t = np.linspace(0, T, N)\n",
    "\n",
    "x0 = 2    # initial position\n",
    "v0 = 0    # initial velocity\n",
    "\n",
    "#initialize solution array\n",
    "num_heun = np.zeros([N,2])\n",
    "num_rk2 = np.zeros([N,2])\n",
    "\n",
    "#Set intial conditions\n",
    "num_heun[0,0] = x0\n",
    "num_heun[0,1] = v0\n",
    "num_rk2[0,0] = x0\n",
    "num_rk2[0,1] = v0\n",
    "\n",
    "for i in range(N-1):\n",
    "    num_heun[i+1] = heun_step(num_heun[i], springmass, dt)\n",
    "    num_rk2[i+1] = rk2_step(num_rk2[i], springmass, dt)"
   ]
  },
  {
   "cell_type": "code",
   "execution_count": null,
   "id": "c416ee5f",
   "metadata": {},
   "outputs": [],
   "source": [
    "plt.plot(t,num_heun[:,0],'o-',label='implicit Heun')\n",
    "plt.plot(t,num_rk2[:,0],'s-',label='explicit RK2')\n",
    "plt.plot(t,x0*np.cos(w*t))\n",
    "plt.ylim(-8,8)\n",
    "plt.legend();\n",
    "#plt.xlim(np.max(t)-5,np.max(t))\n",
    "#plt.xlim(np.max(t)-period,np.max(t))"
   ]
  },
  {
   "cell_type": "markdown",
   "id": "e8be064c",
   "metadata": {},
   "source": [
    "## Discussion\n",
    "\n",
    "Change the number of steps per time period in the above solutions for the second order Runge Kutta and the implicit Heun's method. Why do you think the implicit method does not have an increasing magnitude of oscillation?"
   ]
  },
  {
   "cell_type": "code",
   "execution_count": null,
   "id": "2fa3009a",
   "metadata": {},
   "outputs": [],
   "source": []
  },
  {
   "cell_type": "markdown",
   "id": "fa4010d2",
   "metadata": {},
   "source": [
    "## What you've learned\n",
    "\n",
    "* vector form of the spring-mass differential equation\n",
    "* Euler's method produces unphysical amplitude growth in oscillatory systems\n",
    "* the Euler-Cromer method fixes the amplitude growth (while still being first order)\n",
    "* Euler-Cromer does show a phase lag after a long simulation\n",
    "* a convergence plot confirms the first-order accuracy of Euler's method\n",
    "* a convergence plot shows that modified Euler's method, using the derivatives evaluated at the midpoint of the time interval, is a second-order method\n",
    "* How to create an implicit integration method\n",
    "* The difference between _implicit_ and _explicit_ integration\n",
    "* The difference between stable and unstable methods"
   ]
  },
  {
   "cell_type": "markdown",
   "id": "5d130152",
   "metadata": {},
   "source": [
    "## References\n",
    "\n",
    "1. Linge S., Langtangen H.P. (2016) Solving Ordinary Differential Equations. In: Programming for Computations - Python. Texts in Computational Science and Engineering, vol 15. Springer, Cham, https://doi.org/10.1007/978-3-319-32428-9_4, open access and reusable under [CC-BY-NC](http://creativecommons.org/licenses/by-nc/4.0/) license.\n",
    "\n",
    "2. Cromer, A. (1981). Stable solutions using the Euler approximation. _American Journal of Physics_, 49(5), 455-459. https://doi.org/10.1119/1.12478\n",
    "\n",
    "3. Chapra, Steven, _Applied Numerical Methods with MATLAB for Engineers and Scientists_ 4th edition. ch. 22.3 Improvements to Euler's method"
   ]
  }
 ],
 "metadata": {
  "jupytext": {
   "formats": "notebooks//ipynb,md:myst",
   "text_representation": {
    "extension": ".md",
    "format_name": "myst",
    "format_version": 0.13,
    "jupytext_version": "1.10.3"
   }
  },
  "kernelspec": {
   "display_name": "Python 3 (ipykernel)",
   "language": "python",
   "name": "python3"
  },
  "language_info": {
   "codemirror_mode": {
    "name": "ipython",
    "version": 3
   },
   "file_extension": ".py",
   "mimetype": "text/x-python",
   "name": "python",
   "nbconvert_exporter": "python",
   "pygments_lexer": "ipython3",
   "version": "3.9.6"
  }
 },
 "nbformat": 4,
 "nbformat_minor": 5
}
