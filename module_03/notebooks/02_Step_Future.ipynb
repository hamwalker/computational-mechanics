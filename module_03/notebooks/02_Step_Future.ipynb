{
 "cells": [
  {
   "cell_type": "markdown",
   "id": "2affe156",
   "metadata": {},
   "source": [
    "> __Content modified under Creative Commons Attribution license CC-BY\n",
    "> 4.0, code under BSD 3-Clause License © 2020 R.C. Cooper__"
   ]
  },
  {
   "cell_type": "markdown",
   "id": "c0847931",
   "metadata": {},
   "source": [
    "# Step to the future\n",
    "\n",
    "Welcome to Lesson 2 of the course module \"Initial Value Problems\n",
    "(IVPs),\" in _Computational Mechanics_ The previous lesson, [Catch things\n",
    "in motion](./01_Catch_Motion), showed you how to compute\n",
    "velocity and acceleration of a moving body whose positions were known. \n",
    "\n",
    "Time history of position can be captured on a long-exposure photograph\n",
    "(using a strobe light), or on video. But digitizing the positions from\n",
    "images can be a bit tedious, and error-prone. Luckily, you found online a\n",
    "data set from a motion-capture experiment of a falling ball, with high\n",
    "resolution [1]. You computed acceleration and found that it was smaller\n",
    "than the theoretical value of $9.8 \\rm{m/s}^2$ and _decreased_ over\n",
    "time. The effect is due to air resistance and is what leads to objects\n",
    "reaching a _terminal velocity_ in freefall."
   ]
  },
  {
   "cell_type": "code",
   "execution_count": 1,
   "id": "54cf3dd7",
   "metadata": {},
   "outputs": [],
   "source": [
    "import numpy as np\n",
    "import matplotlib.pyplot as plt\n",
    "plt.style.use('fivethirtyeight')"
   ]
  },
  {
   "cell_type": "markdown",
   "id": "e621450d",
   "metadata": {},
   "source": [
    "### Set things up to compute velocity and position\n",
    "\n",
    "Your challenge now is to find the motion description—the position\n",
    "$x(t)$—from a function of acceleration. In the [previous\n",
    "lesson](01_Catch_Motion), you did the opposite: with\n",
    "position data, get the velocity and acceleration, using _numerical\n",
    "derivatives_:\n",
    "\n",
    "\\begin{equation}\n",
    "v(t_i) = \\frac{dx}{dt} \\approx \\frac{x(t_i+\\Delta t)-x(t_i)}{\\Delta t}\n",
    "\\end{equation}\n",
    "\n",
    "\\begin{equation}\n",
    "a(t_i) = \\frac{dv}{dt} \\approx \\frac{v(t_i+\\Delta t)-v(t_i)}{\\Delta t}\n",
    "\\end{equation}\n",
    "\n",
    "Almost every problem that deals with Newton's second law is a second-order differential equation. The acceleration is a function of position, velocity, and sometimes time _if there is a forcing function f(t)_. \n",
    "\n",
    "The key to solving a second order differential equation is realizing that if you have the initial velocity, you can use the acceleration to find the velocity after a short interval of time. And if you have the initial position, you can use the known velocity to find the new position after a short interval of time. Let's rearrange the equation for acceleration above, by solving for the velocity at $t_i + \\Delta t$:\n",
    "\n",
    "\\begin{equation}\n",
    " v(t_i+\\Delta t)   \\approx  v(t_i) + a(t_i) \\Delta t\n",
    "\\end{equation}\n",
    "\n",
    "Consider our first computational mechanics model of a freefalling object that is dropped.\n",
    "\n",
    "<img src=\"../images/freefall.png\" style=\"width: 200px;\"/> \n",
    "\n",
    "An object falling is subject to the force of \n",
    "\n",
    "- gravity ($F_g$=mg) and \n",
    "- drag ($F_d=cv^2$)\n",
    "\n",
    "Acceleration of the object:\n",
    "\n",
    "$\\sum F=ma=F_g-F_d=cv^2 - mg = m\\frac{dv}{dt}$\n",
    "\n",
    "so,\n",
    "\n",
    "$a=\\frac{c}{m}v(t_{i})^2-g$\n",
    "\n",
    "then, our acceleration is defined from Newton's second law and position is defined through its definition, $v=\\frac{dx}{dt}$. \n",
    "\n",
    "_Note: the direction of positive acceleration was changed to up, so that a positive $x$ is altitude, you will still have the same speed vs time function from [Module_01-03_Numerical_error](https://github.uconn.edu/rcc02007/CompMech01-Getting-started/blob/master/notebooks/03_Numerical_error.ipynb)_"
   ]
  },
  {
   "cell_type": "markdown",
   "id": "271fae7c",
   "metadata": {},
   "source": [
    "### Step through time\n",
    "\n",
    "In the code cell below, you define acceleration as a function of velocity and add two parameters `c` and `m` to define drag coefficient and mass of the object."
   ]
  },
  {
   "cell_type": "code",
   "execution_count": null,
   "id": "91ac7acc",
   "metadata": {},
   "outputs": [],
   "source": [
    "def a_freefall(v,c=0.25,m=60):\n",
    "    '''Calculate the acceleration of an object given its \n",
    "    drag coefficient and mass\n",
    "    \n",
    "    Arguments:\n",
    "    ---------\n",
    "    v: current velocity (m/s)\n",
    "    c: drag coefficient set to a default value of c=0.25 kg/m\n",
    "    m: mass of object set to a defualt value of m=60 kg\n",
    "    \n",
    "    returns:\n",
    "    ---------\n",
    "    a: acceleration of freefalling object under the force of gravity and drag\n",
    "    '''\n",
    "    a=-c/m*v**2*np.sign(v)-9.81\n",
    "    return a"
   ]
  },
  {
   "cell_type": "markdown",
   "id": "cd2e2d0d",
   "metadata": {},
   "source": [
    "Now you use a `for` statement to step through the sequence of\n",
    "acceleration values, each time computing the velocity and position at\n",
    "the subsequent time instant. You first have to __initialize__ our\n",
    "variables `x` and `v`. You can use initial conditions to set `x[0]` and\n",
    "`v[0]`. The rest of the values you will overwrite based upon our\n",
    "stepping solution.\n",
    "\n",
    "You are applying the equation for $v(t_i + \\Delta t)$ above, and a similar equation for position:\n",
    "\n",
    "\\begin{equation}\n",
    " x(t_i+\\Delta t)   \\approx  x(t_i) + v(t_i) \\Delta t\n",
    "\\end{equation}"
   ]
  },
  {
   "cell_type": "code",
   "execution_count": null,
   "id": "abec9af4",
   "metadata": {},
   "outputs": [],
   "source": [
    "N = 100 # define number of time steps\n",
    "t=np.linspace(0,12,N) # set values for time (our independent variable)\n",
    "dt=t[1]-t[0]\n",
    "x=np.zeros(len(t)) # initialize x\n",
    "v=np.zeros(len(t)) # initialize v\n",
    "\n",
    "x[0] = 440 # define initial altitude of the object\n",
    "v[0] = 0\n",
    "\n",
    "for i in range(1,N):\n",
    "    dvdt = a_freefall(v[i-1])\n",
    "    v[i] = v[i-1] + dvdt*dt\n",
    "    x[i] = x[i-1] + v[i-1]*dt"
   ]
  },
  {
   "cell_type": "code",
   "execution_count": null,
   "id": "cb33a336",
   "metadata": {},
   "outputs": [],
   "source": [
    "a_freefall(-10)"
   ]
  },
  {
   "cell_type": "markdown",
   "id": "47c0d5d1",
   "metadata": {},
   "source": [
    "And there you have it. You have computed the velocity __and position__\n",
    "over time from Newton's second law. You can now make plots of the\n",
    "computed variables. Note that you use the Matplotlib\n",
    "[`subplot()`](https://matplotlib.org/api/_as_gen/matplotlib.pyplot.subplot.html?highlight=matplotlib%20pyplot%20subplot#matplotlib.pyplot.subplot)\n",
    "function to get the two plots in one figure. The argument to `subplot()`\n",
    "is a set of three digits, corresponding to the number of rows, number of\n",
    "columns, and plot number in a matrix of sub-plots."
   ]
  },
  {
   "cell_type": "code",
   "execution_count": null,
   "id": "42e291a7",
   "metadata": {},
   "outputs": [],
   "source": [
    "# plot velocity and position over time\n",
    "fig = plt.figure(figsize=(8,6))\n",
    "\n",
    "plt.subplot(211)\n",
    "plt.plot(t,  v, color='#0096d6', linestyle='-', linewidth=1) \n",
    "plt.title('Velocity and position of \\nfreefalling object m=60-kg and c=0.25 kg/s. \\n')\n",
    "plt.ylabel('$v$ (m/s) ')\n",
    "\n",
    "plt.subplot(212)\n",
    "plt.plot(t,  x, color='#008367', linestyle='-', linewidth=1) \n",
    "plt.xlabel('Time (s)')\n",
    "plt.ylabel('$x$ (m)');"
   ]
  },
  {
   "cell_type": "markdown",
   "id": "dd17a0de",
   "metadata": {},
   "source": [
    "## Exercise\n",
    "\n",
    "The initial height is 440 m, the height of the tip of the [Empire State Building](https://en.wikipedia.org/wiki/Empire_State_Building). How long would it take for the object to reach the ground from this height? How accurate is your estimation e.g. what is the error bar for your solution?"
   ]
  },
  {
   "cell_type": "markdown",
   "id": "ab6e6605",
   "metadata": {},
   "source": [
    "## Euler's method\n",
    "\n",
    "You first used Euler's method in [Module_01: 03_Numerical_error](https://github.uconn.edu/rcc02007/CompMech01-Getting-started/blob/master/notebooks/03_Numerical_error.ipynb). Here you will look at it with more depth. \n",
    "\n",
    "The eminent Swiss mathematician Leonhard Euler presented it in his book _\"Institutionum calculi integralis,\"_ published around 1770 [3].\n",
    "\n",
    "You can understand why it works by writing out a Taylor expansion for $x(t)$:\n",
    "\n",
    "\\begin{equation}\n",
    "x(t+\\Delta t) = x(t) + \\frac{d x}{dt}\\Delta t + \\frac{d^2 x}{dt^2}\\frac{\\Delta t^2}{2} + \\frac{d^3 x}{dt^3}\\frac{\\Delta t^3}{3!}+\\cdots\n",
    "\\end{equation}\n",
    "\n",
    "With $v=dx/dt$, you can see that the first two terms on the right-hand side correspond to what you used in the code above. That means that Euler's method makes an approximation by throwing away the terms $\\frac{d^2 x}{dt^2}\\frac{\\Delta t^2}{2} + \\frac{d^3 x}{dt^3}\\frac{\\Delta t^3}{3!}+\\cdots$. So the error made in _one step_ of Euler's method is proportional to $\\Delta t^2$. Since you take $N=T/\\Delta t$ steps (for a final time instant $T$), you conclude that the error overall is proportional to $\\Delta t$. \n",
    "\n",
    "#### **Euler's method is a first-order method** because the error in the approximation goes is proportional to the first power of the time increment $\\Delta t$.\n",
    "\n",
    "i.e.\n",
    "\n",
    "error $\\propto$ $\\Delta t$"
   ]
  },
  {
   "cell_type": "markdown",
   "id": "1a19174d",
   "metadata": {},
   "source": [
    "## Initial-value problems\n",
    "\n",
    "To get velocity and position from the acceleration data, you needed to know the _initial values_ of the velocity and position. Then you could apply Euler's method to _step in time_ starting at $t_0$, with time increment $\\Delta t$. This setting corresponds to the numerical solution of _initial-value problems_. \n",
    "(Follow here the presentation in [4], p.86.)\n",
    "\n",
    "Consider the differential equation corresponding to an object in free fall:\n",
    "\n",
    "\\begin{equation}\n",
    "\\ddot{y}=\\frac{c}{m}v^2-g,\n",
    "\\end{equation}\n",
    "\n",
    "where the dot above a variable represents the time derivative, and $g$ is the acceleration of gravity. Introducing the velocity as intermediary variable, you can write:\n",
    "\n",
    "\\begin{eqnarray}\n",
    "\\dot{y} &=& v \\nonumber\\\\\n",
    "\\dot{v} &=& \\frac{c}{m}v^2-g\n",
    "\\end{eqnarray}\n",
    "\n",
    "The above is a system of two ordinary differential equations, with time as the independent variable. For its numerical solution, you need two initial conditions, and Euler's method:\n",
    "\n",
    "\\begin{eqnarray}\n",
    "y(t_0) = y_0, \\qquad y_{i+1} &=& y_i + \\dot{y} \\Delta t \\nonumber\\\\\n",
    "v(t_0) = v_0, \\qquad v_{i+1} &=& v_i + \\dot{v} \\Delta t\n",
    "\\end{eqnarray}\n",
    "\n",
    "It's so neatly symmetrical that it's just asking for a vectorized equation! Combine the two dependent variables into a vector of unknowns, $\\mathbf{y}$:\n",
    "\n",
    "\\begin{equation}\n",
    "\\mathbf{y} = \\begin{bmatrix}\n",
    "y \\\\ v\n",
    "\\end{bmatrix},\n",
    "\\end{equation}\n",
    "\n",
    "and write the differential equation in vector form, as follows:\n",
    "\n",
    "\\begin{equation}\n",
    "\\dot{\\mathbf{y}} = \\begin{bmatrix}\n",
    "v \\\\ \\frac{c}{m}v^2-g\n",
    "\\end{bmatrix}.\n",
    "\\end{equation}\n",
    "\n",
    "Equation (9) above represents the _state_ of the system, at any given instant in time. A code design for the numerical solution that generalizes to other changing systems (or _dynamical systems_) is to write one function that computes the right-hand side of the differential equation (the derivatives of the state variables), and another function that takes a state and applies the numerical method for each time increment. The solution is then computed in one `for` statement that calls these functions."
   ]
  },
  {
   "cell_type": "markdown",
   "id": "5a2c1e6b",
   "metadata": {},
   "source": [
    "Study the code below: the function `freefall()` computes the right-hand side of the equation, and the function `eulerstep()` takes the state and applies Euler's method to update it one time increment."
   ]
  },
  {
   "cell_type": "code",
   "execution_count": null,
   "id": "ae6719f8",
   "metadata": {},
   "outputs": [],
   "source": [
    "def freefall(state,c=0,m=60):\n",
    "    '''Computes the right-hand side of the freefall differential \n",
    "    equation, in SI units.\n",
    "    \n",
    "    Arguments\n",
    "    ----------    \n",
    "    state : array of two dependent variables [y v]^T\n",
    "    c : drag coefficient for object; default set to 0 kg/m (so no drag considered)\n",
    "    m : mass of falling object; default set to 60 kg\n",
    "    \n",
    "    Returns\n",
    "    -------\n",
    "    derivs: array of two derivatives [v, c/m*v**2-g]\n",
    "    '''\n",
    "    \n",
    "    derivs = np.array([state[1], -c/m*state[1]**2*np.sign(state[1])-9.81])\n",
    "    return derivs"
   ]
  },
  {
   "cell_type": "code",
   "execution_count": null,
   "id": "0937942b",
   "metadata": {},
   "outputs": [],
   "source": [
    "def eulerstep(state, rhs, dt):\n",
    "    '''Uses Euler's method to update a state to the next one. \n",
    "    \n",
    "    Arguments\n",
    "    ---------\n",
    "    state: array of two dependent variables [y v]^T\n",
    "    rhs  : function that computes the right hand side of the \n",
    "           differential equation.\n",
    "    dt   : float, time increment. \n",
    "    \n",
    "    Returns\n",
    "    -------\n",
    "    next_state: array, updated state after one time increment.       \n",
    "    '''\n",
    "    \n",
    "    next_state = state + rhs(state) * dt\n",
    "    return next_state"
   ]
  },
  {
   "cell_type": "markdown",
   "id": "6ee92375",
   "metadata": {},
   "source": [
    "## Numerical solution vs. experiment\n",
    "\n",
    "Use the `freefall()` and `eulerstep()` functions to obtain a numerical solution with the same initial conditions as the falling-ball experiment from [Lesson 1](./01_Catch_Motion.ipynb), and compare with the experimental data. \n",
    "\n",
    "In [Lesson 1](./01_Catch_Motion.ipynb), you had considered only the acceleration due to gravity. So before you get into the specifics of the effects on drag, leave c=0 so that you have a constant acceleration problem, \n",
    "\n",
    "$\\ddot{y} = -g$\n",
    "\n",
    "and our vector form is \n",
    "\n",
    "\\begin{equation}\n",
    "\\dot{\\mathbf{y}} = \\begin{bmatrix}\n",
    "v \\\\ -g\n",
    "\\end{bmatrix}.\n",
    "\\end{equation}"
   ]
  },
  {
   "cell_type": "code",
   "execution_count": null,
   "id": "6a5dd29f",
   "metadata": {},
   "outputs": [],
   "source": [
    "filename = '../data/fallingtennisball02.txt'\n",
    "t, y = np.loadtxt(filename, usecols=[0,1], unpack=True)"
   ]
  },
  {
   "cell_type": "markdown",
   "id": "7eabac4f",
   "metadata": {},
   "source": [
    "You'll need to use the same time increment, so let's compute it from two\n",
    "time samples. The initial position is the first value of the `y` array,\n",
    "while the initial velocity is zero. And you'll only look at the section\n",
    "of data before the ball bounces from the ground, which gives us the\n",
    "number of time steps."
   ]
  },
  {
   "cell_type": "code",
   "execution_count": null,
   "id": "18c5b040",
   "metadata": {},
   "outputs": [],
   "source": [
    "#time increment\n",
    "dt = t[1]-t[0]"
   ]
  },
  {
   "cell_type": "code",
   "execution_count": null,
   "id": "807d7f46",
   "metadata": {},
   "outputs": [],
   "source": [
    "y0 = y[0] #initial position\n",
    "v0 = 0    #initial velocity\n",
    "N = 576   #number of steps"
   ]
  },
  {
   "cell_type": "markdown",
   "id": "70f729d5",
   "metadata": {},
   "source": [
    "Now, let's create a new array, called `num_sol`, to hold the results of the numerical solution. The array has dimensions `Nx2`, with each two-element row holding the state variables, $(y,v)$, at a given time instant. After saving the initial conditions in the solution array, you are ready to start stepping in time in a `for` statement. Study the code below."
   ]
  },
  {
   "cell_type": "code",
   "execution_count": null,
   "id": "4ba56575",
   "metadata": {},
   "outputs": [],
   "source": [
    "#initialize array\n",
    "num_sol = np.zeros([N,2])"
   ]
  },
  {
   "cell_type": "code",
   "execution_count": null,
   "id": "9f503439",
   "metadata": {},
   "outputs": [],
   "source": [
    "#Set intial conditions\n",
    "num_sol[0,0] = y0\n",
    "num_sol[0,1] = v0\n",
    "eulerstep(num_sol[0],freefall,dt)"
   ]
  },
  {
   "cell_type": "code",
   "execution_count": null,
   "id": "db65433e",
   "metadata": {},
   "outputs": [],
   "source": [
    "for i in range(N-1):\n",
    "    num_sol[i+1] = eulerstep(num_sol[i], freefall, dt)"
   ]
  },
  {
   "cell_type": "markdown",
   "id": "a8f932ca",
   "metadata": {},
   "source": [
    "Did it work? Exciting! Let's plot in the same figure both the numerical solution and the experimental data."
   ]
  },
  {
   "cell_type": "code",
   "execution_count": null,
   "id": "d545b28d",
   "metadata": {},
   "outputs": [],
   "source": [
    "fig = plt.figure(figsize=(6,4))\n",
    "plt.plot(t[:N], y[:N], 's', alpha=0.8, label='Experimental data')\n",
    "plt.plot(t[:N], num_sol[:,0], linewidth=2, linestyle='-', label='Numerical solution')\n",
    "plt.xlabel('Time (s)')\n",
    "plt.ylabel('$y$ (m)')\n",
    "plt.title('Free fall tennis ball (no air resistance) \\n')\n",
    "plt.legend();"
   ]
  },
  {
   "cell_type": "markdown",
   "id": "573afc21",
   "metadata": {},
   "source": [
    "The two lines look very close… but let's plot the difference to get understand the [error](https://github.uconn.edu/rcc02007/CompMech01-Getting-started/blob/master/notebooks/03_Numerical_error.ipynb)."
   ]
  },
  {
   "cell_type": "code",
   "execution_count": null,
   "id": "4387e9d1",
   "metadata": {},
   "outputs": [],
   "source": [
    "fig = plt.figure(figsize=(6,4))\n",
    "plt.plot(t[:N], y[:N]-num_sol[:,0])\n",
    "plt.title('Difference between numerical solution and experimental data.\\n')\n",
    "plt.xlabel('Time [s]')\n",
    "plt.ylabel('$y$ [m]');"
   ]
  },
  {
   "cell_type": "markdown",
   "id": "179d4f42",
   "metadata": {},
   "source": [
    "## Exercise\n",
    "\n",
    "Create a plot of the analytical solution for y-vs-t for an object that accelerates due to gravity, plot the difference between the analytical solution and the experimental data with the plot above. \n",
    "\n",
    "_Hint: remember the kinematic equations for constant acceleration_ $y(t) = y(0) + \\dot{y}(0)t - \\frac{gt^2}{2}$"
   ]
  },
  {
   "cell_type": "markdown",
   "id": "11032e8e",
   "metadata": {},
   "source": [
    "## Air resistance\n",
    "\n",
    "In [Lesson 1](./01_Catch_Motion.ipynb) of this module, you computed the acceleration of gravity and got a value less than the theoretical $9.8 \\rm{m/s}^2$, even when using high-resolution experimental data. \n",
    "\n",
    "You did not account for air resistance. When an object moves in a fluid, like air, it applies a force on the fluid, and consequently the fluid applies an equal and opposite force on the object (Newton's third law).\n",
    "\n",
    "This force is the *drag* of the fuid, and it opposes the direction of travel. The drag force depends on the object's geometry, and its velocity: for a sphere, its magnitude is given by:\n",
    "\n",
    "\\begin{equation}\n",
    "    F_d = \\frac{1}{2} \\pi R^2 \\rho C_d v^2,\n",
    "\\end{equation}\n",
    "\n",
    "where $R$ is the radius of the sphere, $\\rho$ the density of the fluid, $C_d$ the drag coefficient of a sphere, and $v$ is the velocity.\n",
    "\n",
    "In the first module, you used the constant $c$, where $c= \\frac{1}{2} \\pi R^2 \\rho C_d$."
   ]
  },
  {
   "cell_type": "markdown",
   "id": "4cbec50b",
   "metadata": {},
   "source": [
    "You can update our defintion for drag with this _higher fidelity_ description of drag\n",
    "\n",
    "With $F_{\\text{drag}} = m a_{\\text{drag}}$:\n",
    "\n",
    "\\begin{equation}\n",
    "    a_{\\text{drag}} = \\frac{1}{2m} \\pi R^2 \\rho C_d v^2\n",
    "\\end{equation}\n",
    "\n",
    "Finally, you can write our differential equation as:\n",
    "\n",
    "\n",
    "\\begin{equation}\n",
    "\\dot{\\mathbf{y}} = \\begin{bmatrix}\n",
    "v \\\\ -g + a_{\\text{drag}}\n",
    "\\end{bmatrix}.\n",
    "\\end{equation}\n",
    "\n",
    "Let's write a new function for this modified right-hand side of a falling tennis ball with air resistance."
   ]
  },
  {
   "cell_type": "markdown",
   "id": "59c03135",
   "metadata": {},
   "source": [
    "##### Note:\n",
    "\n",
    "According to the International Tennis Federation,\n",
    "[ITF](http://www.itftennis.com/home.aspx), the diameter of a tennis ball\n",
    "has to be in the range of $6.54$–$6.86 \\rm{cm}$, and its mass in the\n",
    "range of $56.0$–$59.4 \\rm{g}$. Choose a value in the middle of the range for each quantity."
   ]
  },
  {
   "cell_type": "code",
   "execution_count": null,
   "id": "302910b0",
   "metadata": {},
   "outputs": [],
   "source": [
    "def fall_drag(state,C_d=0.47,m=0.0577,R = 0.0661/2):\n",
    "    '''Computes the right-hand side of the differential equation\n",
    "    for the fall of a ball, with drag, in SI units.\n",
    "    \n",
    "    Arguments\n",
    "    ----------    \n",
    "    state : array of two dependent variables [y v]^T\n",
    "    m : mass in kilograms default set to 0.0577 kg\n",
    "    C_d : drag coefficient for a sphere default set to 0.47 (no units)\n",
    "    R : radius of ball default in meters is 0.0661/2 m (tennis ball)\n",
    "    Returns\n",
    "    -------\n",
    "    derivs: array of two derivatives [v (-g+a_drag)]^T\n",
    "    '''\n",
    "    \n",
    "    rho = 1.22   # air density kg/m^3\n",
    "    pi = np.pi\n",
    "    \n",
    "    a_drag = -1/(2*m) * pi * R**2 * rho * C_d * (state[1])**2*np.sign(state[1])\n",
    "    \n",
    "    derivs = np.array([state[1], -9.8 + a_drag])\n",
    "    return derivs"
   ]
  },
  {
   "cell_type": "markdown",
   "id": "751ec80e",
   "metadata": {},
   "source": [
    "Assume the same initial conditions as before:"
   ]
  },
  {
   "cell_type": "code",
   "execution_count": null,
   "id": "d2f4ff48",
   "metadata": {},
   "outputs": [],
   "source": [
    "y0 = y[0] # initial position\n",
    "v0 = 0    # initial velocity\n",
    "N = 576   # number of steps"
   ]
  },
  {
   "cell_type": "code",
   "execution_count": null,
   "id": "5aaafdaf",
   "metadata": {},
   "outputs": [],
   "source": [
    "# initialize array\n",
    "num_sol_drag = np.zeros([N,2])"
   ]
  },
  {
   "cell_type": "code",
   "execution_count": null,
   "id": "07fc5a0a",
   "metadata": {},
   "outputs": [],
   "source": [
    "# Set intial conditions\n",
    "num_sol_drag[0,0] = y0\n",
    "num_sol_drag[0,1] = v0"
   ]
  },
  {
   "cell_type": "code",
   "execution_count": null,
   "id": "f740ea95",
   "metadata": {},
   "outputs": [],
   "source": [
    "for i in range(N-1):\n",
    "    num_sol_drag[i+1] = eulerstep(num_sol_drag[i], fall_drag, dt)"
   ]
  },
  {
   "cell_type": "markdown",
   "id": "81951f68",
   "metadata": {},
   "source": [
    "Time to plot and see how it looks! Would you expect the results to be better than in the previous case? Let's plot the three cases and check the differences."
   ]
  },
  {
   "cell_type": "code",
   "execution_count": null,
   "id": "f933d0ca",
   "metadata": {},
   "outputs": [],
   "source": [
    "fig = plt.figure(figsize=(6,4))\n",
    "plt.plot(t[:N], num_sol[:,0], linewidth=2, linestyle='--', label='Num-solution no drag')\n",
    "plt.plot(t[:N], y[:N], linewidth=2, alpha=0.6, label='Experimental data')\n",
    "plt.plot(t[:N], num_sol_drag[:,0], linewidth=2, linestyle='--', label='Num-solution drag')\n",
    "\n",
    "plt.title('Free fall tennis ball \\n')\n",
    "\n",
    "plt.xlabel('Time [s]')\n",
    "plt.ylabel('$y$ [m]')\n",
    "plt.legend();"
   ]
  },
  {
   "cell_type": "markdown",
   "id": "a5afb3fe",
   "metadata": {},
   "source": [
    "All the lines look very close… but let's plot the differences with the experimental data in both cases, to get an idea of the error."
   ]
  },
  {
   "cell_type": "code",
   "execution_count": null,
   "id": "705ef562",
   "metadata": {},
   "outputs": [],
   "source": [
    "fig = plt.figure(figsize=(6,4))\n",
    "plt.plot(t[:N], y[:N]-num_sol[:,0], label='No drag')\n",
    "plt.plot(t[:N], y[:N]-num_sol_drag[:,0], label='With drag')\n",
    "plt.title('Difference between numerical solution and experimental data.\\n')\n",
    "plt.xlabel('Time [s]')\n",
    "plt.ylabel('$y$ [m]')\n",
    "plt.legend();"
   ]
  },
  {
   "cell_type": "markdown",
   "id": "7b7ff5a7",
   "metadata": {},
   "source": [
    "## Discussion\n",
    "\n",
    "* What do you see in the plot of the difference between the numerical solution and the experimental data?\n",
    "\n",
    "* Is the error plotted above related to truncation error? Is it related to roundoff error?"
   ]
  },
  {
   "cell_type": "markdown",
   "id": "fa4d4603",
   "metadata": {},
   "source": [
    "## What you've learned\n",
    "\n",
    "* Integrating an equation of motion numerically.\n",
    "* Drawing multiple plots in one figure,\n",
    "* Solving initial-value problems numerically\n",
    "* Using Euler's method.\n",
    "* Euler's method is a first-order method.\n",
    "* Freefall with air resistance is a more realistic model."
   ]
  },
  {
   "cell_type": "markdown",
   "id": "cc4b3a05",
   "metadata": {},
   "source": [
    "## References\n",
    "\n",
    "1. _Elementary Mechanics Using Python_ (2015), Anders Malthe-Sorenssen, Undergraduate Lecture Notes in Physics, Springer. Data at http://folk.uio.no/malthe/mechbook/\n",
    "\n",
    "2. _The Physics Hyptertextbook_ (n/a), Glenn Elert, [Acceleration](https://physics.info/acceleration/)\n",
    "\n",
    "3. Euler method. (2017, October 13). In Wikipedia, The Free Encyclopedia. Retrieved 01:21, November 10, 2017, from https://en.wikipedia.org/w/index.php?title=Euler_method&oldid=805120184\n",
    "\n",
    "4. _Computational Physics with Python_, lecture notes by Eric Ayars, California State University, Chico. Available online on the author's youbsite: https://physics.csuchico.edu/ayars/312/handouts/comp-phys-python.pdf"
   ]
  }
 ],
 "metadata": {
  "jupytext": {
   "formats": "notebooks//ipynb,md:myst",
   "text_representation": {
    "extension": ".md",
    "format_name": "myst",
    "format_version": 0.13,
    "jupytext_version": "1.10.3"
   }
  },
  "kernelspec": {
   "display_name": "Python 3 (ipykernel)",
   "language": "python",
   "name": "python3"
  },
  "language_info": {
   "codemirror_mode": {
    "name": "ipython",
    "version": 3
   },
   "file_extension": ".py",
   "mimetype": "text/x-python",
   "name": "python",
   "nbconvert_exporter": "python",
   "pygments_lexer": "ipython3",
   "version": "3.9.6"
  }
 },
 "nbformat": 4,
 "nbformat_minor": 5
}
