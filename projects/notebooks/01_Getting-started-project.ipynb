{
 "cells": [
  {
   "cell_type": "code",
   "execution_count": 1,
   "id": "811d1ca7",
   "metadata": {},
   "outputs": [],
   "source": [
    "import numpy as np\n",
    "import matplotlib.pyplot as plt\n",
    "plt.style.use('fivethirtyeight')"
   ]
  },
  {
   "cell_type": "code",
   "execution_count": null,
   "id": "52b3b59f",
   "metadata": {},
   "outputs": [],
   "source": []
  },
  {
   "cell_type": "markdown",
   "id": "034ca7fc",
   "metadata": {},
   "source": [
    "# Computational Mechanics Project #01 - Heat Transfer in Forensic Science\n",
    "\n",
    "We can use our current skillset for a macabre application. We can predict the time of death based upon the current temperature and change in temperature of a corpse. \n",
    "\n",
    "Forensic scientists use Newton's law of cooling to determine the time elapsed since the loss of life, \n",
    "\n",
    "$\\frac{dT}{dt} = -K(T-T_a)$,\n",
    "\n",
    "where $T$ is the current temperature, $T_a$ is the ambient temperature, $t$ is the elapsed time in hours, and $K$ is an empirical constant. \n",
    "\n",
    "Suppose the temperature of the corpse is 85$^o$F at 11:00 am. Then, 2 hours later the temperature is 74$^{o}$F. \n",
    "\n",
    "Assume ambient temperature is a constant 65$^{o}$F.\n",
    "\n",
    "1. Use Python to calculate $K$ using a finite difference approximation, $\\frac{dT}{dt} \\approx \\frac{T(t+\\Delta t)-T(t)}{\\Delta t}$."
   ]
  },
  {
   "cell_type": "code",
   "execution_count": 2,
   "id": "7e7fb824",
   "metadata": {},
   "outputs": [
    {
     "name": "stdout",
     "output_type": "stream",
     "text": [
      "Forward  diffrence: K= 0.28\n",
      "Backward diffrence: K= 0.61\n"
     ]
    }
   ],
   "source": [
    "dt = 2\n",
    "T0 = 85\n",
    "T2 = 74\n",
    "T_amb = 65\n",
    "\n",
    "DTdt = (T2-T0)/dt\n",
    "\n",
    "print('Forward  diffrence: K= {:1.2f}' .format(DTdt/-(T0-T_amb)))\n",
    "print('Backward diffrence: K= {:1.2f}' .format(DTdt/-(T2-T_amb)))\n",
    "\n",
    "K= (DTdt/-(T0-T_amb)+DTdt/-(T2-T_amb))/2"
   ]
  },
  {
   "cell_type": "markdown",
   "id": "e450e23e",
   "metadata": {},
   "source": [
    "2. Change your work from problem 1 to create a function that accepts the temperature at two times, ambient temperature, and the time elapsed to return $K$."
   ]
  },
  {
   "cell_type": "code",
   "execution_count": 3,
   "id": "c41992df",
   "metadata": {},
   "outputs": [],
   "source": [
    "K = -((T2-T0)/dt)/(T0-T_amb)\n",
    "\n",
    "def ret_k(T0, T2, T_amb, dt):\n",
    "    '''Takes 2 temperature values, ambient temperature, and elapased time \n",
    "    and returns K using forward diffrence \n",
    "    T0 = Temp 1\n",
    "    T2 = Temp 2\n",
    "    T_amb = ambient temp\n",
    "    dT = Change in time'''\n",
    "    K = -((T2-T0)/dt)/(T0-T_amb)\n",
    "    return K\n",
    "\n",
    "k= ret_k(T0, T2, T_amb, dt)"
   ]
  },
  {
   "cell_type": "markdown",
   "id": "e81c4e18",
   "metadata": {},
   "source": [
    "3. A first-order thermal system has the following analytical solution, \n",
    "\n",
    "    $T(t) =T_a+(T(0)-T_a)e^{-Kt}$\n",
    "\n",
    "    where $T(0)$ is the temperature of the corpse at t=0 hours i.e. at the time of discovery and $T_a$ is a constant ambient temperature. \n",
    "\n",
    "    a. Show that an Euler integration converges to the analytical solution as the time step is decreased. Use the constant $K$ derived above and the initial temperature, T(0) = 85$^o$F. \n",
    "\n",
    "    b. What is the final temperature as t$\\rightarrow\\infty$?\n",
    "    \n",
    "    c. At what time was the corpse 98.6$^{o}$F? i.e. what was the time of death?"
   ]
  },
  {
   "cell_type": "code",
   "execution_count": 13,
   "id": "3821322a",
   "metadata": {},
   "outputs": [
    {
     "data": {
      "image/png": "[encoded data removed]",
      "text/plain": [
       "<Figure size 432x288 with 1 Axes>"
      ]
     },
     "metadata": {},
     "output_type": "display_data"
    }
   ],
   "source": [
    "t = np.linspace(0, 2, 21)\n",
    "dt = t[1]- t[0]\n",
    "T_amb = 65\n",
    "# K = 1\n",
    "\n",
    "T_eul_f = np.zeros(len(t))\n",
    "T_eul_b = np.zeros(len(t))\n",
    "T_anal_b = np.zeros(len(t))\n",
    "T_anal_f = T_anal_b\n",
    "\n",
    "\n",
    "T_eul_f[0] = 85\n",
    "T_eul_b[0] = 85\n",
    "T_anal_b[0] = 85 \n",
    "\n",
    "T_anal_b= T_amb+(T_anal_b[0] - T_amb)*np.exp(K*t)\n",
    "T_anal_f= T_amb+(T_anal_b[0] - T_amb)*np.exp(-K*t)\n",
    "\n",
    "for i in range(1, len(t)):\n",
    "    T_eul_f[i] = T_eul_f[i-1] - K*(T_eul_f[i-1] - T_amb)*dt\n",
    "    T_eul_b[i] = T_eul_b[i-1] + K*(T_eul_b[i-1] - T_amb)*dt\n",
    "\n",
    "T_eul_b[T_eul_b > 98.6] = 98.6\n",
    "T_anal_b[T_anal_b > 98.6] = 98.6\n",
    "\n",
    "plt.plot(-t, T_eul_b,  label='Before Body Discovery')\n",
    "plt.plot(t, T_eul_f, label='After Body Discovery')\n",
    "plt.plot(-t, T_anal_b,'s',t, T_anal_f,'s', label='Analytical solution')\n",
    "# plt.plot('s', label='Analytical solution')\n",
    "plt.legend(loc='best')\n",
    "# plt.grid(axis='both')\n",
    "plt.ylabel('Body Temperature ($^\\circ F$)')\n",
    "plt.xlabel('Time (hours)');"
   ]
  },
  {
   "cell_type": "markdown",
   "id": "c3f8ac50",
   "metadata": {},
   "source": [
    "The temperature as t$\\rightarrow\\infty$ will be equal to $T_{amb}$ \n",
    "\n",
    "The analytical solutions converge to the euler approximation."
   ]
  },
  {
   "cell_type": "code",
   "execution_count": 15,
   "id": "0ee723c6",
   "metadata": {},
   "outputs": [
    {
     "name": "stdout",
     "output_type": "stream",
     "text": [
      "[85.         85.55       86.115125   86.69579094 87.29242519 87.90546688\n",
      " 88.53536722 89.18258982 89.84761104 90.53092034 91.23302065 91.95442872\n",
      " 92.69567551 93.45730659 94.23988252 95.04397929 95.87018872 96.71911891\n",
      " 97.59139468 98.48765803 98.6       ]\n",
      "[0.  0.1 0.2 0.3 0.4 0.5 0.6 0.7 0.8 0.9 1.  1.1 1.2 1.3 1.4 1.5 1.6 1.7\n",
      " 1.8 1.9 2. ]\n"
     ]
    }
   ],
   "source": [
    "print(T_eul_b)\n",
    "print(t)"
   ]
  },
  {
   "cell_type": "markdown",
   "id": "73ec5989",
   "metadata": {},
   "source": [
    "Time of death was 1.9 hours before the body was discovered "
   ]
  }
 ],
 "metadata": {
  "jupytext": {
   "formats": "notebooks//ipynb,md:myst"
  },
  "kernelspec": {
   "display_name": "Python 3 (ipykernel)",
   "language": "python",
   "name": "python3"
  },
  "language_info": {
   "codemirror_mode": {
    "name": "ipython",
    "version": 3
   },
   "file_extension": ".py",
   "mimetype": "text/x-python",
   "name": "python",
   "nbconvert_exporter": "python",
   "pygments_lexer": "ipython3",
   "version": "3.9.6"
  }
 },
 "nbformat": 4,
 "nbformat_minor": 5
}
