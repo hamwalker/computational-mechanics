{
 "cells": [
  {
   "cell_type": "markdown",
   "id": "d1ea1761",
   "metadata": {},
   "source": [
    "# CompMech04-Linear Algebra Project\n",
    "## Practical Linear Algebra for Finite Element Analysis"
   ]
  },
  {
   "cell_type": "markdown",
   "id": "3748a018",
   "metadata": {},
   "source": [
    "In this project we will perform a linear-elastic finite element analysis (FEA) on a support structure made of 11 beams that are riveted in 7 locations to create a truss as shown in the image below. \n",
    "\n",
    "![Mesh image of truss](../images/mesh.png)"
   ]
  },
  {
   "cell_type": "markdown",
   "id": "3e5b482c",
   "metadata": {},
   "source": [
    "The triangular truss shown above can be modeled using a [direct stiffness method [1]](https://en.wikipedia.org/wiki/Direct_stiffness_method), that is detailed in the [extra-FEA_material](./extra-FEA_material.ipynb) notebook. The end result of converting this structure to a FE model. Is that each joint, labeled $n~1-7$, short for _node 1-7_ can move in the x- and y-directions, but causes a force modeled with Hooke's law. Each beam labeled $el~1-11$, short for _element 1-11_, contributes to the stiffness of the structure. We have 14 equations where the sum of the components of forces = 0, represented by the equation\n",
    "\n",
    "$\\mathbf{F-Ku}=\\mathbf{0}$\n",
    "\n",
    "Where, $\\mathbf{F}$ are externally applied forces, $\\mathbf{u}$ are x- and y- displacements of nodes, and $\\mathbf{K}$ is the stiffness matrix given in `fea_arrays.npz` as `K`, shown below\n",
    "\n",
    "_note: the array shown is 1000x(`K`). You can use units of MPa (N/mm^2), N, and mm. The array `K` is in 1/mm_\n",
    "\n",
    "$\\mathbf{K}=EA*$\n",
    "\n",
    "$  \\left[ \\begin{array}{cccccccccccccc}\n",
    " 4.2 & 1.4 & -0.8 & -1.4 & -3.3 & 0.0 & 0.0 & 0.0 & 0.0 & 0.0 & 0.0 & 0.0 & 0.0 & 0.0 \\\\\n",
    " 1.4 & 2.5 & -1.4 & -2.5 & 0.0 & 0.0 & 0.0 & 0.0 & 0.0 & 0.0 & 0.0 & 0.0 & 0.0 & 0.0 \\\\\n",
    " -0.8 & -1.4 & 5.0 & 0.0 & -0.8 & 1.4 & -3.3 & 0.0 & 0.0 & 0.0 & 0.0 & 0.0 & 0.0 & 0.0 \\\\\n",
    " -1.4 & -2.5 & 0.0 & 5.0 & 1.4 & -2.5 & 0.0 & 0.0 & 0.0 & 0.0 & 0.0 & 0.0 & 0.0 & 0.0 \\\\\n",
    " -3.3 & 0.0 & -0.8 & 1.4 & 8.3 & 0.0 & -0.8 & -1.4 & -3.3 & 0.0 & 0.0 & 0.0 & 0.0 & 0.0 \\\\\n",
    " 0.0 & 0.0 & 1.4 & -2.5 & 0.0 & 5.0 & -1.4 & -2.5 & 0.0 & 0.0 & 0.0 & 0.0 & 0.0 & 0.0 \\\\\n",
    " 0.0 & 0.0 & -3.3 & 0.0 & -0.8 & -1.4 & 8.3 & 0.0 & -0.8 & 1.4 & -3.3 & 0.0 & 0.0 & 0.0 \\\\\n",
    " 0.0 & 0.0 & 0.0 & 0.0 & -1.4 & -2.5 & 0.0 & 5.0 & 1.4 & -2.5 & 0.0 & 0.0 & 0.0 & 0.0 \\\\\n",
    " 0.0 & 0.0 & 0.0 & 0.0 & -3.3 & 0.0 & -0.8 & 1.4 & 8.3 & 0.0 & -0.8 & -1.4 & -3.3 & 0.0 \\\\\n",
    " 0.0 & 0.0 & 0.0 & 0.0 & 0.0 & 0.0 & 1.4 & -2.5 & 0.0 & 5.0 & -1.4 & -2.5 & 0.0 & 0.0 \\\\\n",
    " 0.0 & 0.0 & 0.0 & 0.0 & 0.0 & 0.0 & -3.3 & 0.0 & -0.8 & -1.4 & 5.0 & 0.0 & -0.8 & 1.4 \\\\\n",
    " 0.0 & 0.0 & 0.0 & 0.0 & 0.0 & 0.0 & 0.0 & 0.0 & -1.4 & -2.5 & 0.0 & 5.0 & 1.4 & -2.5 \\\\\n",
    " 0.0 & 0.0 & 0.0 & 0.0 & 0.0 & 0.0 & 0.0 & 0.0 & -3.3 & 0.0 & -0.8 & 1.4 & 4.2 & -1.4 \\\\\n",
    " 0.0 & 0.0 & 0.0 & 0.0 & 0.0 & 0.0 & 0.0 & 0.0 & 0.0 & 0.0 & 1.4 & -2.5 & -1.4 & 2.5 \\\\\n",
    "\\end{array}\\right]~\\frac{1}{m}$"
   ]
  },
  {
   "cell_type": "code",
   "execution_count": 85,
   "id": "392067ce",
   "metadata": {},
   "outputs": [],
   "source": [
    "import numpy as np\n",
    "import matplotlib.pyplot as plt\n",
    "plt.style.use('fivethirtyeight')"
   ]
  },
  {
   "cell_type": "code",
   "execution_count": 86,
   "id": "540c4f7f",
   "metadata": {},
   "outputs": [
    {
     "data": {
      "text/plain": [
       "array([[ 0.00416667,  0.00144338, -0.00083333, -0.00144338, -0.00333333,\n",
       "         0.        ,  0.        ,  0.        ,  0.        ,  0.        ,\n",
       "         0.        ,  0.        ,  0.        ,  0.        ],\n",
       "       [ 0.00144338,  0.0025    , -0.00144338, -0.0025    ,  0.        ,\n",
       "         0.        ,  0.        ,  0.        ,  0.        ,  0.        ,\n",
       "         0.        ,  0.        ,  0.        ,  0.        ],\n",
       "       [-0.00083333, -0.00144338,  0.005     ,  0.        , -0.00083333,\n",
       "         0.00144338, -0.00333333,  0.        ,  0.        ,  0.        ,\n",
       "         0.        ,  0.        ,  0.        ,  0.        ],\n",
       "       [-0.00144338, -0.0025    ,  0.        ,  0.005     ,  0.00144338,\n",
       "        -0.0025    ,  0.        ,  0.        ,  0.        ,  0.        ,\n",
       "         0.        ,  0.        ,  0.        ,  0.        ],\n",
       "       [-0.00333333,  0.        , -0.00083333,  0.00144338,  0.00833333,\n",
       "         0.        , -0.00083333, -0.00144338, -0.00333333,  0.        ,\n",
       "         0.        ,  0.        ,  0.        ,  0.        ],\n",
       "       [ 0.        ,  0.        ,  0.00144338, -0.0025    ,  0.        ,\n",
       "         0.005     , -0.00144338, -0.0025    ,  0.        ,  0.        ,\n",
       "         0.        ,  0.        ,  0.        ,  0.        ],\n",
       "       [ 0.        ,  0.        , -0.00333333,  0.        , -0.00083333,\n",
       "        -0.00144338,  0.00833333,  0.        , -0.00083333,  0.00144338,\n",
       "        -0.00333333,  0.        ,  0.        ,  0.        ],\n",
       "       [ 0.        ,  0.        ,  0.        ,  0.        , -0.00144338,\n",
       "        -0.0025    ,  0.        ,  0.005     ,  0.00144338, -0.0025    ,\n",
       "         0.        ,  0.        ,  0.        ,  0.        ],\n",
       "       [ 0.        ,  0.        ,  0.        ,  0.        , -0.00333333,\n",
       "         0.        , -0.00083333,  0.00144338,  0.00833333,  0.        ,\n",
       "        -0.00083333, -0.00144338, -0.00333333,  0.        ],\n",
       "       [ 0.        ,  0.        ,  0.        ,  0.        ,  0.        ,\n",
       "         0.        ,  0.00144338, -0.0025    ,  0.        ,  0.005     ,\n",
       "        -0.00144338, -0.0025    ,  0.        ,  0.        ],\n",
       "       [ 0.        ,  0.        ,  0.        ,  0.        ,  0.        ,\n",
       "         0.        , -0.00333333,  0.        , -0.00083333, -0.00144338,\n",
       "         0.005     ,  0.        , -0.00083333,  0.00144338],\n",
       "       [ 0.        ,  0.        ,  0.        ,  0.        ,  0.        ,\n",
       "         0.        ,  0.        ,  0.        , -0.00144338, -0.0025    ,\n",
       "         0.        ,  0.005     ,  0.00144338, -0.0025    ],\n",
       "       [ 0.        ,  0.        ,  0.        ,  0.        ,  0.        ,\n",
       "         0.        ,  0.        ,  0.        , -0.00333333,  0.        ,\n",
       "        -0.00083333,  0.00144338,  0.00416667, -0.00144338],\n",
       "       [ 0.        ,  0.        ,  0.        ,  0.        ,  0.        ,\n",
       "         0.        ,  0.        ,  0.        ,  0.        ,  0.        ,\n",
       "         0.00144338, -0.0025    , -0.00144338,  0.0025    ]])"
      ]
     },
     "execution_count": 86,
     "metadata": {},
     "output_type": "execute_result"
    }
   ],
   "source": [
    "fea_arrays = np.load('./fea_arrays.npz')\n",
    "K=fea_arrays['K']\n",
    "K"
   ]
  },
  {
   "cell_type": "markdown",
   "id": "b8d1b6bd",
   "metadata": {},
   "source": [
    "In this project we are solving the problem, $\\mathbf{F}=\\mathbf{Ku}$, where $\\mathbf{F}$ is measured in Newtons, $\\mathbf{K}$ `=E*A*K` is the stiffness in N/mm, `E` is Young's modulus measured in MPa (N/mm^2), and `A` is the cross-sectional area of the beam measured in mm^2. \n",
    "\n",
    "There are three constraints on the motion of the joints:\n",
    "\n",
    "i. node 1 displacement in the x-direction is 0 = `u[0]`\n",
    "\n",
    "ii. node 1 displacement in the y-direction is 0 = `u[1]`\n",
    "\n",
    "iii. node 7 displacement in the y-direction is 0 = `u[13]`\n",
    "\n",
    "We can satisfy these constraints by leaving out the first, second, and last rows and columns from our linear algebra description."
   ]
  },
  {
   "cell_type": "markdown",
   "id": "b343a86d",
   "metadata": {},
   "source": [
    "### 1. Calculate the condition of `K` and the condition of `K[2:13,2:13]`. \n",
    "\n",
    "a. What error would you expect when you solve for `u` in `K*u = F`? \n",
    "\n",
    "b. Why is the condition of `K` so large? __The problem is underconstrained. It describes stiffness of structure, but not the BC's. So, we end up with sumF=0 and -sumF=0__\n",
    "\n",
    "c. What error would you expect when you solve for `u[2:13]` in `K[2:13,2:13]*u=F[2:13]`"
   ]
  },
  {
   "cell_type": "code",
   "execution_count": 87,
   "id": "8788dd8b",
   "metadata": {},
   "outputs": [],
   "source": [
    "# print(np.linalg.cond(K))\n",
    "# print(np.linalg.cond(K[2:13,2:13]))\n",
    "\n",
    "# print('expected error in x=solve(K,b) is {}'.format(10**(16-16)))\n",
    "# print('expected error in x=solve(K[2:13,2:13],b) is {}'.format(10**(2-16)))"
   ]
  },
  {
   "cell_type": "code",
   "execution_count": 88,
   "id": "a8e402cd",
   "metadata": {},
   "outputs": [
    {
     "name": "stdout",
     "output_type": "stream",
     "text": [
      "Expected error in x=solve(K,b) is 1\n"
     ]
    }
   ],
   "source": [
    "# 1a\n",
    "print('Expected error in x=solve(K,b) is {}'.format(10**(16-16)))"
   ]
  },
  {
   "cell_type": "code",
   "execution_count": 89,
   "id": "fd356de6",
   "metadata": {},
   "outputs": [
    {
     "name": "stdout",
     "output_type": "stream",
     "text": [
      "1.4577532625238035e+17\n",
      "52.23542514351006\n",
      "The problem is underconstrained. Does not use boundary conditions\n"
     ]
    }
   ],
   "source": [
    "# 1b\n",
    "print(np.linalg.cond(K))\n",
    "print(np.linalg.cond(K[2:13,2:13]))\n",
    "print('The problem is underconstrained. Does not use boundary conditions')"
   ]
  },
  {
   "cell_type": "code",
   "execution_count": 90,
   "id": "b23cbfca",
   "metadata": {},
   "outputs": [
    {
     "name": "stdout",
     "output_type": "stream",
     "text": [
      "expected error in x=solve(K[2:13,2:13],b) is 1e-14\n"
     ]
    }
   ],
   "source": [
    "# 1c\n",
    "print('expected error in x=solve(K[2:13,2:13],b) is {}'.format(10**(2-16)))"
   ]
  },
  {
   "cell_type": "markdown",
   "id": "e54e80fd",
   "metadata": {},
   "source": [
    "### 2. Apply a 300-N downward force to the central top node (n 4)\n",
    "\n",
    "a. Create the LU matrix for K[2:13,2:13]\n",
    "\n",
    "b. Use cross-sectional area of $0.1~mm^2$ and steel and almuminum moduli, $E=200~GPa~and~E=70~GPa,$ respectively. Solve the forward and backward substitution methods for \n",
    "\n",
    "* $\\mathbf{Ly}=\\mathbf{F}\\frac{1}{EA}$\n",
    "\n",
    "* $\\mathbf{Uu}=\\mathbf{y}$\n",
    "\n",
    "_your array `F` is zeros, except for `F[5]=-300`, to create a -300 N load at node 4._\n",
    "\n",
    "c. Plug in the values for $\\mathbf{u}$ into the full equation, $\\mathbf{Ku}=\\mathbf{F}$, to solve for the reaction forces\n",
    "\n",
    "d. Create a plot of the undeformed and deformed structure with the displacements and forces plotted as vectors (via `quiver`). Your result for aluminum should match the following result from [extra-FEA_material](./extra-FEA_material.ipynb). _note: The scale factor is applied to displacements $\\mathbf{u}$, not forces._\n",
    "\n",
    "> __Note__: Look at the [extra FEA material](./extra-FEA_material). It\n",
    "> has example code that you can plug in here to make these plots.\n",
    "> Including background information and the source code for this plot\n",
    "> below.\n",
    "\n",
    "\n",
    "![Deformed structure with loads applied](../images/deformed_truss.png)"
   ]
  },
  {
   "cell_type": "code",
   "execution_count": 91,
   "id": "c4d4aa7c",
   "metadata": {},
   "outputs": [],
   "source": [
    "# 2\n",
    "from scipy.linalg import lu"
   ]
  },
  {
   "cell_type": "code",
   "execution_count": 92,
   "id": "8291c0f1",
   "metadata": {},
   "outputs": [
    {
     "name": "stdout",
     "output_type": "stream",
     "text": [
      "displacements Steel:\n",
      "----------------\n",
      "u_1x:0.00 mm\n",
      "u_1y:0.00 mm\n",
      "u_2x:5.85 mm\n",
      "u_2y:-6.37 mm\n",
      "u_3x:1.30 mm\n",
      "u_3y:-12.00 mm\n",
      "u_4x:3.25 mm\n",
      "u_4y:-16.12 mm\n",
      "u_5x:5.20 mm\n",
      "u_5y:-12.00 mm\n",
      "u_6x:0.65 mm\n",
      "u_6y:-6.37 mm\n",
      "u_7x:6.50 mm\n",
      "u_7y:0.00 mm\n",
      "displacements Al:\n",
      "----------------\n",
      "u_1x:0.00 mm\n",
      "u_1y:0.00 mm\n",
      "u_2x:16.70 mm\n",
      "u_2y:-18.21 mm\n",
      "u_3x:3.71 mm\n",
      "u_3y:-34.29 mm\n",
      "u_4x:9.28 mm\n",
      "u_4y:-46.07 mm\n",
      "u_5x:14.85 mm\n",
      "u_5y:-34.29 mm\n",
      "u_6x:1.86 mm\n",
      "u_6y:-18.21 mm\n",
      "u_7x:18.56 mm\n",
      "u_7y:0.00 mm\n",
      "\n",
      "Reaction forces:\n",
      "----------------\n",
      "F_1x:-0.00 N\n",
      "F_1y:150.00 N\n",
      "F_2x:-0.00 N\n",
      "F_2y:0.00 N\n",
      "F_3x:0.00 N\n",
      "F_3y:-0.00 N\n",
      "F_4x:0.00 N\n",
      "F_4y:-300.00 N\n",
      "F_5x:-0.00 N\n",
      "F_5y:0.00 N\n",
      "F_6x:0.00 N\n",
      "F_6y:-0.00 N\n",
      "F_7x:-0.00 N\n",
      "F_7y:150.00 N\n"
     ]
    }
   ],
   "source": [
    "l=300 # mm\n",
    "nodes = np.array([[1,0,0],[2,0.5,3**0.5/2],[3,1,0],[4,1.5,3**0.5/2],[5,2,0],[6,2.5,3**0.5/2],[7,3,0]])\n",
    "nodes[:,1:3]*=l\n",
    "elems = np.array([[1,1,2],[2,2,3],[3,1,3],[4,2,4],[5,3,4],[6,3,5],[7,4,5],[8,4,6],[9,5,6],[10,5,7],[11,6,7]])\n",
    "\n",
    "Ff=np.zeros(2*len(nodes)-3)\n",
    "Ff[5]=-300\n",
    "\n",
    "Est = 200e3\n",
    "Eal = 70e3\n",
    "A = 0.1\n",
    "\n",
    "P,L,U = lu(K[2:13,2:13]) # a built-in partial-pivoting LU decomposition function\n",
    "\n",
    "solf = np.linalg.solve(L,Ff)\n",
    "\n",
    "uf = np.linalg.solve(U,solf)\n",
    "\n",
    "u=np.zeros(2*len(nodes))\n",
    "u[2:13] = uf\n",
    "forces = K@u\n",
    "ust = u/(Est*A)\n",
    "ual = u/(Eal*A)\n",
    "\n",
    "xy={0:'x',1:'y'}\n",
    "print('displacements Steel:\\n----------------')\n",
    "for i in range(len(u)):\n",
    "    print('u_{}{}:{:.2f} mm'.format(int(i/2)+1,xy[i%2],uSt[i]))\n",
    "print('displacements Al:\\n----------------')\n",
    "for i in range(len(u)):\n",
    "    print('u_{}{}:{:.2f} mm'.format(int(i/2)+1,xy[i%2],ual[i]))\n",
    "print('\\nReaction forces:\\n----------------')\n",
    "for i in range(len(forces)):\n",
    "    print('F_{}{}:{:.2f} N'.format(int(i/2)+1,xy[i%2],forces[i]))"
   ]
  },
  {
   "cell_type": "code",
   "execution_count": 93,
   "id": "a3dc5c8c",
   "metadata": {},
   "outputs": [
    {
     "data": {
      "image/png": "[encoded data removed]",
      "text/plain": [
       "<Figure size 432x288 with 1 Axes>"
      ]
     },
     "metadata": {},
     "output_type": "display_data"
    }
   ],
   "source": [
    "# 2d\n",
    "ix = 2*np.block([[np.arange(0,5)],[np.arange(1,6)],[np.arange(2,7)],[np.arange(0,5)]])\n",
    "iy = ix+1\n",
    "\n",
    "r = np.block([n[1:3] for n in nodes])\n",
    "r\n",
    "\n",
    "from __future__ import print_function\n",
    "from ipywidgets import interact, interactive, fixed, interact_manual\n",
    "\n",
    "import ipywidgets as widgets\n",
    "\n",
    "# def fst(s):\n",
    "s=1\n",
    "plt.plot(r[ix],r[iy],'-',color=(0,0,0,1))\n",
    "plt.plot(r[ix]+ust[ix]*s,r[iy]+ust[iy]*s,'-',color=(1,0,0,1))\n",
    "#plt.quiver(r[ix],r[iy],u[ix],u[iy],color=(0,0,1,1),label='displacements')\n",
    "plt.quiver(r[ix],r[iy],forces[ix],forces[iy],color=(1,0,0,1),label='applied forces')\n",
    "plt.quiver(r[ix],r[iy],ust[ix],ust[iy],color=(0,0,1,1),label='displacements')\n",
    "plt.axis(l*np.array([-0.5,3.5,-0.5,2]))\n",
    "plt.xlabel('x (mm)')\n",
    "plt.ylabel('y (mm)')\n",
    "plt.title('Steel Deformation scale = {:.1f}x'.format(s))\n",
    "plt.legend(bbox_to_anchor=(1,0.5));\n",
    "# interact(fst,s=(0,10,1));"
   ]
  },
  {
   "cell_type": "code",
   "execution_count": 94,
   "id": "90728e78",
   "metadata": {},
   "outputs": [
    {
     "data": {
      "image/png": "[encoded data removed]",
      "text/plain": [
       "<Figure size 432x288 with 1 Axes>"
      ]
     },
     "metadata": {},
     "output_type": "display_data"
    }
   ],
   "source": [
    "s=1\n",
    "# def fal(s):\n",
    "plt.plot(r[ix],r[iy],'-',color=(0,0,0,1))\n",
    "plt.plot(r[ix]+ual[ix]*s,r[iy]+ual[iy]*s,'-',color=(1,0,0,1))\n",
    "#plt.quiver(r[ix],r[iy],u[ix],u[iy],color=(0,0,1,1),label='displacements')\n",
    "plt.quiver(r[ix],r[iy],forces[ix],forces[iy],color=(1,0,0,1),label='applied forces')\n",
    "plt.quiver(r[ix],r[iy],ual[ix],ual[iy],color=(0,0,1,1),label='displacements')\n",
    "plt.axis(l*np.array([-0.5,3.5,-0.5,2]))\n",
    "plt.xlabel('x (mm)')\n",
    "plt.ylabel('y (mm)')\n",
    "plt.title('Al Deformation scale = {:.1f}x'.format(s))\n",
    "plt.legend(bbox_to_anchor=(1,0.5));\n",
    "# interact(fal,s=(0,10,1));"
   ]
  },
  {
   "cell_type": "markdown",
   "id": "fba14c59",
   "metadata": {},
   "source": [
    "### 3. Determine cross-sectional area\n",
    "\n",
    "a. Using aluminum, what is the minimum cross-sectional area to keep total y-deflections $<0.2~mm$?\n",
    "\n",
    "b. Using steel, what is the minimum cross-sectional area to keep total y-deflections $<0.2~mm$?\n",
    "\n",
    "c. What are the weights of the aluminum and steel trusses with the\n",
    "chosen cross-sectional areas?"
   ]
  },
  {
   "cell_type": "code",
   "execution_count": 95,
   "id": "29133b8f",
   "metadata": {},
   "outputs": [
    {
     "name": "stdout",
     "output_type": "stream",
     "text": [
      "min steel cross section: 3.25mm for def < 0.2mm\n"
     ]
    }
   ],
   "source": [
    "# 3a\n",
    "testarea = np.arange(0.5,100,0.05)\n",
    "\n",
    "ust_test=np.zeros(len(testarea))\n",
    "for i in range(len(testarea)):\n",
    "    ust_test = u/(Est*testarea[len(testarea)-1-i])\n",
    "    if max(ust_test)<0.2:\n",
    "        minsta = testarea[len(testarea)-1-i]\n",
    "\n",
    "print('min steel cross section: {:1.2f}mm for def < 0.2mm'.format(minsta))"
   ]
  },
  {
   "cell_type": "code",
   "execution_count": 96,
   "id": "4b907dc6",
   "metadata": {},
   "outputs": [
    {
     "name": "stdout",
     "output_type": "stream",
     "text": [
      "min Al cross section: 9.30mm for def < 0.2mm\n"
     ]
    }
   ],
   "source": [
    "ual_test=np.zeros(len(testarea))\n",
    "for i in range(len(testarea)):\n",
    "    ust_test = u/(Eal*testarea[len(testarea)-1-i])\n",
    "    if max(ust_test)<0.2:\n",
    "        minala = testarea[len(testarea)-1-i]\n",
    "\n",
    "print('min Al cross section: {:1.2f}mm for def < 0.2mm'.format(minala))"
   ]
  },
  {
   "cell_type": "markdown",
   "id": "c7500879",
   "metadata": {},
   "source": [
    "## References\n",
    "\n",
    "1. <https://en.wikipedia.org/wiki/Direct_stiffness_method>"
   ]
  }
 ],
 "metadata": {
  "jupytext": {
   "formats": "notebooks//ipynb,md:myst"
  },
  "kernelspec": {
   "display_name": "Python 3 (ipykernel)",
   "language": "python",
   "name": "python3"
  },
  "language_info": {
   "codemirror_mode": {
    "name": "ipython",
    "version": 3
   },
   "file_extension": ".py",
   "mimetype": "text/x-python",
   "name": "python",
   "nbconvert_exporter": "python",
   "pygments_lexer": "ipython3",
   "version": "3.9.6"
  }
 },
 "nbformat": 4,
 "nbformat_minor": 5
}
