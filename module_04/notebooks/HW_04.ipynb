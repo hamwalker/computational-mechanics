{
 "cells": [
  {
   "cell_type": "code",
   "execution_count": 1,
   "id": "be81cb82",
   "metadata": {},
   "outputs": [],
   "source": [
    "import numpy as np\n",
    "import matplotlib.pyplot as plt\n",
    "plt.style.use('fivethirtyeight')"
   ]
  },
  {
   "cell_type": "markdown",
   "id": "7c2d3a48",
   "metadata": {},
   "source": [
    "# Homework\n",
    "## Problems [Part 1](./01_Linear-Algebra.md)\n",
    "\n",
    "1. Consider 4 masses connected in series to 4 springs with K=1,000 N/m. What are the final positions of the masses i.e. when acceleration is 0? \n",
    "\n",
    "![Springs-masses](../images/mass_springs.png)\n",
    "\n",
    "The masses haves the following amounts, $m_1=1,~m_2=2,~m_3=3,~and~m_4=4 kg.$ Using a FBD for each mass:\n",
    "\n",
    "$m_{1}g+k(x_{2}-x_{1})-kx_{1}=0$\n",
    "\n",
    "$m_{2}g+k(x_{3}-x_{2})-k(x_{2}-x_{1})=0$\n",
    "\n",
    "$m_{3}g+k(x_{4}-x_{3})-k(x_{3}-x_{2})=0$\n",
    "\n",
    "$m_{4}g-k(x_{4}-x_{3})=0$\n",
    "\n",
    "in matrix form:\n",
    "\n",
    "$\\left[ \\begin{array}{cccc}\n",
    "2k & -k & 0 & 0 \\\\\n",
    "-k & 2k & -k & 0 \\\\\n",
    "0 & -k & 2k & -k \\\\\n",
    "0 & 0 & -k & k \\end{array} \\right]\n",
    "\\left[ \\begin{array}{c}\n",
    "x_{1} \\\\\n",
    "x_{2} \\\\\n",
    "x_{3} \\\\\n",
    "x_{4} \\end{array} \\right]=\n",
    "\\left[ \\begin{array}{c}\n",
    "m_{1}g \\\\\n",
    "m_{2}g \\\\\n",
    "m_{3}g \\\\\n",
    "m_{4}g \\end{array} \\right]$"
   ]
  },
  {
   "cell_type": "code",
   "execution_count": 2,
   "id": "55d7e259",
   "metadata": {},
   "outputs": [
    {
     "name": "stdout",
     "output_type": "stream",
     "text": [
      "[[ 2000 -1000     0     0]\n",
      " [-1000  2000 -1000     0]\n",
      " [    0 -1000  2000 -1000]\n",
      " [    0     0 -1000  1000]]\n",
      "[ 9.81 19.62 29.43 39.24]\n",
      "Position of mass 1 is 0.098 m\n",
      "Position of mass 2 is 0.186 m\n",
      "Position of mass 3 is 0.255 m\n",
      "Position of mass 4 is 0.294 m\n"
     ]
    }
   ],
   "source": [
    "# 1.1\n",
    "\n",
    "k = 1000\n",
    "k = np.array([[2*k, -k, 0, 0],\n",
    "             [-k, 2*k, -k, 0],\n",
    "             [0, -k, 2*k, -k],\n",
    "             [0, 0, -k, k]])\n",
    "\n",
    "print(k)\n",
    "\n",
    "b= np.array([1, 2, 3, 4])*9.81\n",
    "\n",
    "print(b)\n",
    "\n",
    "pos = np.linalg.solve(k,b)\n",
    "\n",
    "for i in range(len(pos)):\n",
    "    print('Position of mass {:1.0f}' .format(i+1), 'is {:1.3f} m'.format(pos[i]))"
   ]
  },
  {
   "cell_type": "markdown",
   "id": "eb76ff16",
   "metadata": {},
   "source": [
    "![HVAC diagram showing the flow rates and connections between floors](../images/hvac.png)\n",
    "\n",
    "2. In the figure above you have an idealized Heating, Ventilation and Air conditioning (HVAC) system. In the current configuration, the three-room building is being cooled off by $12^oC$ air fed into the building at 0.1 kg/s. Our goal is to determine the steady-state temperatures of the rooms given the following information\n",
    "\n",
    "* $\\dot{m}_1=0.1~kg/s$\n",
    "* $\\dot{m}_2=0.12~kg/s$\n",
    "* $\\dot{m}_3=0.12~kg/s$\n",
    "* $\\dot{m}_4=0.1~kg/s$\n",
    "* $\\dot{m}_5=0.02~kg/s$\n",
    "* $\\dot{m}_6=0.02~kg/s$\n",
    "* $C_p=1000~\\frac{J}{kg-K}$\n",
    "* $\\dot{Q}_{in} = 300~W$\n",
    "* $T_{in} = 12^{o} C$\n",
    "\n",
    "The energy-balance equations for rooms 1-3 create three equations:\n",
    "\n",
    "1. $\\dot{m}_1 C_p T_{in}+\\dot{Q}_{in}-\\dot{m}_2 C_p T_{1}+\\dot{m}_6 C_p T_{2} = 0$\n",
    "\n",
    "2. $\\dot{m}_2 C_p T_{1}+\\dot{Q}_{in}+\\dot{m}_5 C_p T_{3}-\\dot{m}_3 C_p T_{2}-\\dot{m}_6 C_p T_{2} = 0$\n",
    "\n",
    "3. $\\dot{m}_3 C_p T_{2}+\\dot{Q}_{in}-\\dot{m}_5 C_p T_{3}-\\dot{m}_4 C_p T_{3} = 0$\n",
    "\n",
    "Identify the unknown variables and constants to create a linear algebra problem in the form of $\\mathbf{Ax}=\\mathbf{b}$.\n",
    "\n",
    "a. Create the matrix $\\mathbf{A}$\n",
    "\n",
    "b. Create the known vector $\\mathbf{b}$\n",
    "\n",
    "c. Solve for the unknown variables, $\\mathbf{x}$\n",
    "\n",
    "d. What are the warmest and coldest rooms? What are their temperatures?"
   ]
  },
  {
   "cell_type": "code",
   "execution_count": 3,
   "id": "c512fda0",
   "metadata": {},
   "outputs": [],
   "source": [
    "# 1.2a\n",
    "m1 = 0.1\n",
    "m2 = 0.12\n",
    "m3 = 0.12\n",
    "m4 = 0.1\n",
    "m5 = 0.02\n",
    "m6 = 0.02\n",
    "\n",
    "cp = 1000\n",
    "qin = 300\n",
    "tin = 12\n",
    "\n",
    "A = np.array([[-m2*cp, m6*cp, 0],\n",
    "             [m2*cp, -(m3*cp+m6*cp), m5*cp],\n",
    "             [0, m3*cp, -(m5*cp+m4*cp)]])"
   ]
  },
  {
   "cell_type": "code",
   "execution_count": 4,
   "id": "01e2cd5c",
   "metadata": {},
   "outputs": [],
   "source": [
    "# 1.2b\n",
    "b = np.array([-m1*cp*tin-qin, -qin, -qin])"
   ]
  },
  {
   "cell_type": "code",
   "execution_count": 5,
   "id": "09f9812a",
   "metadata": {},
   "outputs": [],
   "source": [
    "# 1.2c\n",
    "x = np.linalg.solve(A,b)"
   ]
  },
  {
   "cell_type": "code",
   "execution_count": 6,
   "id": "8c822a1c",
   "metadata": {},
   "outputs": [
    {
     "name": "stdout",
     "output_type": "stream",
     "text": [
      "Room 1 is 15.6 C\n",
      "Room 2 is 18.5 C\n",
      "Room 3 is 21.0 C\n",
      "Room 1 is coldest\n",
      "Room 3 is hottest\n"
     ]
    }
   ],
   "source": [
    "# 1.2d\n",
    "for i in range(len(x)):\n",
    "    print('Room {:1.0f}' .format(i+1), 'is {:2.1f} C' .format(x[i]))\n",
    "    \n",
    "for i in range(len(x)):\n",
    "    if np.max(x)==x[i]:\n",
    "        print('Room {:1.0f}' .format(i+1), 'is hottest' .format(x[i]))\n",
    "    if np.min(x)==x[i]:\n",
    "        print('Room {:1.0f}' .format(i+1), 'is coldest' .format(x[i]))"
   ]
  },
  {
   "cell_type": "markdown",
   "id": "4ad8eb5b",
   "metadata": {},
   "source": [
    "3. The [Hilbert Matrix](https://en.wikipedia.org/wiki/Hilbert_matrix) has a high condition number and as the matrix increases dimensions, the condition number increases. Find the condition number of a \n",
    "\n",
    "a. $1 \\times 1$ Hilbert matrix\n",
    "\n",
    "b. $5 \\times 5$ Hilbert matrix\n",
    "\n",
    "c. $10 \\times 10$ Hilbert matrix\n",
    "\n",
    "d. $15 \\times 15$ Hilbert matrix\n",
    "\n",
    "e. $20 \\times 20$ Hilbert matrix\n",
    "\n",
    "If the accuracy of each matrix element is $\\approx 10^{-16}$, what is the expected rounding error in the solution $\\mathbf{Ax} = \\mathbf{b}$, where $\\mathbf{A}$ is the Hilbert matrix."
   ]
  },
  {
   "cell_type": "code",
   "execution_count": 7,
   "id": "80576ec8",
   "metadata": {},
   "outputs": [
    {
     "name": "stdout",
     "output_type": "stream",
     "text": [
      "1e-16\n",
      "100\n"
     ]
    }
   ],
   "source": [
    "# IN class\n",
    "\n",
    "H1 = np.array([[1]])\n",
    "error_01 = 10**(0-16)\n",
    "print(error_01)\n",
    "\n",
    "N = 20\n",
    "H20 = np.zeros((N,N))\n",
    "for i in range(N):\n",
    "    for j in range(N):\n",
    "        H20[i,j]= 1/(i+j+1)\n",
    "        \n",
    "# print(H20)\n",
    "C20 = np.linalg.cond(H20)\n",
    "c20 = np.floor(np.log10(C20))\n",
    "\n",
    "t = np.floor(np.log10(np.finfo(float).eps)) #smallest numer can use for math\n",
    "\n",
    "error_20 = 10**(18-16)\n",
    "print(error_20)"
   ]
  },
  {
   "cell_type": "code",
   "execution_count": 8,
   "id": "e3c9cc9a",
   "metadata": {},
   "outputs": [],
   "source": [
    "def hurlcond(N):\n",
    "    ''' Give it the N value and you get the condtion of an NxN hulburt matirx'''\n",
    "    H20 = np.zeros((N,N))\n",
    "    for i in range(N):\n",
    "        for j in range(N):\n",
    "            H20[i,j]= 1/(i+j+1)\n",
    "\n",
    "    # print(H20)\n",
    "    C20 = np.linalg.cond(H20)\n",
    "    c20 = np.floor(np.log10(C20))\n",
    "    return C20"
   ]
  },
  {
   "cell_type": "code",
   "execution_count": 9,
   "id": "6fca1249",
   "metadata": {},
   "outputs": [
    {
     "name": "stdout",
     "output_type": "stream",
     "text": [
      "Condition of  1x 1 is 1.00e+00\n",
      "Condition of  5x 5 is 4.77e+05\n",
      "Condition of 10x10 is 1.60e+13\n",
      "Condition of 15x15 is 3.37e+17\n",
      "Condition of 20x20 is 6.81e+18\n"
     ]
    }
   ],
   "source": [
    "# 1.3a-e\n",
    "dimm = np.array([1, 5, 10, 15, 20])\n",
    "\n",
    "cond = np.zeros(len(dimm))\n",
    "for i in range(len(dimm)):\n",
    "    cond[i] = hurlcond(dimm[i])\n",
    "    print('Condition of {:2.0f}x{:2.0f}' .format(dimm[i], dimm[i]), 'is {:2.2e}' .format(cond[i]))"
   ]
  },
  {
   "cell_type": "markdown",
   "id": "f84e3618",
   "metadata": {},
   "source": [
    "## Problems [Part 2](./02_Gauss_elimination.md)\n",
    "\n",
    "1. 4 masses are connected in series to 4 springs with K=100N/m. What are the final positions of the masses? \n",
    "\n",
    "![Springs-masses](../images/mass_springs.png)\n",
    "\n",
    "The masses haves the following amounts, 1, 2, 3, and 4 kg for masses 1-4. Using a FBD for each mass:\n",
    "\n",
    "$m_{1}g+k(x_{2}-x_{1})-kx_{1}=0$\n",
    "\n",
    "$m_{2}g+k(x_{3}-x_{2})-k(x_{2}-x_{1})=0$\n",
    "\n",
    "$m_{3}g+k(x_{4}-x_{3})-k(x_{3}-x_{2})=0$\n",
    "\n",
    "$m_{4}g-k(x_{4}-x_{3})=0$\n",
    "\n",
    "in matrix form K=100 N/m:\n",
    "\n",
    "$\\left[ \\begin{array}{cccc}\n",
    "2k & -k & 0 & 0 \\\\\n",
    "-k & 2k & -k & 0 \\\\\n",
    "0 & -k & 2k & -k \\\\\n",
    "0 & 0 & -k & k \\end{array} \\right]\n",
    "\\left[ \\begin{array}{c}\n",
    "x_{1} \\\\\n",
    "x_{2} \\\\\n",
    "x_{3} \\\\\n",
    "x_{4} \\end{array} \\right]=\n",
    "\\left[ \\begin{array}{c}\n",
    "m_{1}g \\\\\n",
    "m_{2}g \\\\\n",
    "m_{3}g \\\\\n",
    "m_{4}g \\end{array} \\right]$"
   ]
  },
  {
   "cell_type": "code",
   "execution_count": 10,
   "id": "246140e1",
   "metadata": {},
   "outputs": [],
   "source": [
    "# Use gaussNaive to solve this instead of np.linalg\n",
    "def GaussNaive(A,y):\n",
    "    '''GaussNaive: naive Gauss elimination\n",
    "    x = GaussNaive(A,b): Gauss elimination without pivoting.\n",
    "    solution method requires floating point numbers, \n",
    "    as such the dtype is changed to float\n",
    "    \n",
    "    Arguments:\n",
    "    ----------\n",
    "    A = coefficient matrix\n",
    "    y = right hand side vector\n",
    "    returns:\n",
    "    ---------\n",
    "    x = solution vector\n",
    "    Aug = augmented matrix (used for back substitution)'''\n",
    "    [m,n] = np.shape(A)\n",
    "    Aug = np.block([A,y.reshape(n,1)])\n",
    "    Aug = Aug.astype(float)\n",
    "    if m!=n: error('Matrix A must be square')\n",
    "    nb = n+1\n",
    "    # Gauss Elimination \n",
    "    for k in range(0,n-1):\n",
    "        for i in range(k+1,n):\n",
    "            if Aug[i,k] != 0.0:\n",
    "                factor = Aug[i,k]/Aug[k,k]\n",
    "                Aug[i,:] = Aug[i,:] - factor*Aug[k,:]\n",
    "    # Back substitution\n",
    "    x=np.zeros(n)\n",
    "    for k in range(n-1,-1,-1):\n",
    "        x[k] = (Aug[k,-1] - Aug[k,k+1:n]@x[k+1:n])/Aug[k,k]\n",
    "    return x,Aug\n",
    "\n",
    "def LUNaive(A):\n",
    "    '''LUNaive: naive LU decomposition\n",
    "    L,U = LUNaive(A): LU decomposition without pivoting.\n",
    "    solution method requires floating point numbers, \n",
    "    as such the dtype is changed to float\n",
    "    \n",
    "    Arguments:\n",
    "    ----------\n",
    "    A = coefficient matrix\n",
    "    returns:\n",
    "    ---------\n",
    "    L = Lower triangular matrix\n",
    "    U = Upper triangular matrix\n",
    "    '''\n",
    "    [m,n] = np.shape(A)\n",
    "    if m!=n: error('Matrix A must be square')\n",
    "    nb = n+1\n",
    "    # Gauss Elimination\n",
    "    U = A.astype(float)\n",
    "    L = np.eye(n)\n",
    "\n",
    "    for k in range(0,n-1):\n",
    "        for i in range(k+1,n):\n",
    "            if U[k,k] != 0.0:\n",
    "                factor = U[i,k]/U[k,k]\n",
    "                L[i,k]=factor\n",
    "                U[i,:] = U[i,:] - factor*U[k,:]\n",
    "    return L,U\n",
    "\n",
    "def solveLU(L,U,b):\n",
    "    '''solveLU: solve for x when LUx = b\n",
    "    x = solveLU(L,U,b): solves for x given the lower and upper \n",
    "    triangular matrix storage\n",
    "    uses forward substitution for \n",
    "    1. Ly = b\n",
    "    then backward substitution for\n",
    "    2. Ux = y\n",
    "    \n",
    "    Arguments:\n",
    "    ----------\n",
    "    L = Lower triangular matrix\n",
    "    U = Upper triangular matrix\n",
    "    b = output vector\n",
    "    \n",
    "    returns:\n",
    "    ---------\n",
    "    x = solution of LUx=b '''\n",
    "    n=len(b)\n",
    "    x=np.zeros(n)\n",
    "    y=np.zeros(n)\n",
    "        \n",
    "    # forward substitution\n",
    "    for k in range(0,n):\n",
    "        y[k] = b[k] - L[k,0:k]@y[0:k]\n",
    "    # backward substitution\n",
    "    for k in range(n-1,-1,-1):\n",
    "        x[k] = (y[k] - U[k,k+1:n]@x[k+1:n])/U[k,k]\n",
    "    return x"
   ]
  },
  {
   "cell_type": "code",
   "execution_count": 11,
   "id": "a46e66cf",
   "metadata": {},
   "outputs": [
    {
     "name": "stdout",
     "output_type": "stream",
     "text": [
      "Position of mass 1 is 0.098 m\n",
      "Position of mass 2 is 0.186 m\n",
      "Position of mass 3 is 0.255 m\n",
      "Position of mass 4 is 0.294 m\n"
     ]
    }
   ],
   "source": [
    "# 2.1\n",
    "k = 1000\n",
    "k = np.array([[2*k, -k, 0, 0],\n",
    "             [-k, 2*k, -k, 0],\n",
    "             [0, -k, 2*k, -k],\n",
    "             [0, 0, -k, k]])\n",
    "\n",
    "b= np.array([1, 2, 3, 4])*9.81\n",
    "\n",
    "pos1, aug = GaussNaive(k,b)\n",
    "\n",
    "for i in range(len(pos)):\n",
    "    print('Position of mass {:1.0f}' .format(i+1), 'is {:1.3f} m'.format(pos[i]))"
   ]
  },
  {
   "cell_type": "code",
   "execution_count": 12,
   "id": "fa2c32f5",
   "metadata": {},
   "outputs": [
    {
     "name": "stdout",
     "output_type": "stream",
     "text": [
      "A\n",
      "[[2 1]\n",
      " [3 9]]\n",
      "Aug\n",
      "[[ 2.   1.   1. ]\n",
      " [ 0.   7.5 -0.5]]\n",
      "Upper\n",
      "[[2.  1. ]\n",
      " [0.  7.5]]\n",
      "Lower\n",
      "[[1.  0. ]\n",
      " [1.5 1. ]]\n"
     ]
    },
    {
     "data": {
      "text/plain": [
       "(array([[0., 1.],\n",
       "        [1., 0.]]),\n",
       " array([[1.        , 0.        ],\n",
       "        [0.66666667, 1.        ]]),\n",
       " array([[ 3.,  9.],\n",
       "        [ 0., -5.]]))"
      ]
     },
     "execution_count": 12,
     "metadata": {},
     "output_type": "execute_result"
    }
   ],
   "source": [
    "# In class\n",
    "\n",
    "\n",
    "\n",
    "A = np.array([[2,1],\n",
    "             [ 3,9]])\n",
    "\n",
    "b= np.array([1,1])\n",
    "\n",
    "x,Aug = GaussNaive(A,b)\n",
    "\n",
    "print('A')\n",
    "print(A)\n",
    "print('Aug')\n",
    "print(Aug)\n",
    "\n",
    "L,U = LUNaive(A)\n",
    "\n",
    "print('Upper')\n",
    "print(U)\n",
    "print('Lower')\n",
    "print(L)\n",
    "\n",
    "L@U\n",
    "\n",
    "from scipy.linalg import lu\n",
    "\n",
    "lu(A)"
   ]
  },
  {
   "cell_type": "markdown",
   "id": "2b9550a0",
   "metadata": {},
   "source": [
    "![Triangular truss](../images/truss.png)\n",
    "\n",
    "For problems __2-3__, consider the simple 3-element triangular truss, shown above, with a point load applied at the tip. The goal is to understand what tension is in the horizontal element, $P_1$. In problem __2__, the applied force is verical $(\\theta=0)$ and in problem __3__ the applied force varies in angle $(\\theta \\neq 0)$. \n",
    "\n",
    "2. In the truss shown above, calculate the tension in bar 1, $P_1$, when $\\theta=0$. When $\\theta=0$, the $\\sum F=0$ at each corner creates 3 equations and 3 unknowns as such (here, you reduce the number of equations with symmetry, $P_2=P_3,~R_2=R_3,~and~R_1=0$ ). \n",
    "\n",
    "$\\left[ \\begin{array}{ccc}\n",
    "1 & \\cos\\alpha & 0 \\\\\n",
    "0 & -2\\cos\\beta/2 & 0 \\\\\n",
    "0 & \\sin\\alpha &  1 \\\\\n",
    " \\end{array} \\right]\n",
    "\\left[ \\begin{array}{c}\n",
    "P_{1} \\\\\n",
    "P_{2} \\\\\n",
    "R_{2} \\end{array} \\right]=\n",
    "\\left[ \\begin{array}{c}\n",
    "0 \\\\\n",
    "F \\\\\n",
    "0 \\end{array} \\right]$\n",
    "\n",
    "a. Create the system of equations, $\\mathbf{Ax}=\\mathbf{b}$, when $\\alpha=35^o$, $\\beta=40^o$, and $F=1~kN$. Use __Gauss elimination__ to solve for $P_1,~P_2,~and~R_2$. What is the resulting augmented matrix, $\\mathbf{A|y}$ after Gauss elimination?\n",
    "\n",
    "b. Solve for the $\\mathbf{LU}$ decomposition of $\\mathbf{A}$. \n",
    "\n",
    "c. Use the $\\mathbf{LU}$ solution to solve for the tension in bar 1 $(P_1)$ every 10 N values of force, F, between 100 N and 1100 N. Plot $P_1~vs~F$."
   ]
  },
  {
   "cell_type": "code",
   "execution_count": 13,
   "id": "590d5f0f",
   "metadata": {},
   "outputs": [
    {
     "name": "stdout",
     "output_type": "stream",
     "text": [
      "Augmented matrix \n",
      " [[ 1.00000000e+00  8.19152044e-01  0.00000000e+00  0.00000000e+00]\n",
      " [ 0.00000000e+00 -1.84775907e+00  0.00000000e+00  1.00000000e+03]\n",
      " [ 0.00000000e+00  0.00000000e+00  1.00000000e+00  3.10417330e+02]]\n",
      "P_1 = 443.3\n",
      "P_2 = -541.2\n",
      "R_2 = 310.4\n"
     ]
    }
   ],
   "source": [
    "# 2.2a\n",
    "a = 35*np.pi/180\n",
    "b = 45*np.pi/180\n",
    "\n",
    "F = 1000\n",
    "\n",
    "LHS = np.array([[1, np.cos(a),0],\n",
    "               [0, -2*np.cos(b/2), 0],\n",
    "               [0, np.sin(a), 1]])\n",
    "\n",
    "RHS = np.array([0, F, 0])\n",
    "\n",
    "sol22, aug22 = GaussNaive(LHS, RHS)\n",
    "print('Augmented matrix \\n', aug22)\n",
    "var = np.array(['P_1', 'P_2', 'R_2'])\n",
    "\n",
    "for i in range(len(sol22)):\n",
    "    print('{}' .format(var[i]), '= {:3.1f}'.format(sol22[i]))"
   ]
  },
  {
   "cell_type": "code",
   "execution_count": 14,
   "id": "a8cc6a0b",
   "metadata": {},
   "outputs": [],
   "source": [
    "# 2.2b\n",
    "L,U = LUNaive(LHS)"
   ]
  },
  {
   "cell_type": "code",
   "execution_count": 15,
   "id": "709c518c",
   "metadata": {},
   "outputs": [
    {
     "data": {
      "image/png": "[encoded data removed]",
      "text/plain": [
       "<Figure size 432x288 with 1 Axes>"
      ]
     },
     "metadata": {},
     "output_type": "display_data"
    }
   ],
   "source": [
    "# 2.2c\n",
    "\n",
    "F2 = np.arange(100,1110,10)\n",
    "sol22 = np.zeros(len(F2))\n",
    "\n",
    "for i in range(len(F2)):\n",
    "    F = np.array([0, F2[i], 0])\n",
    "    pee = np.linalg.solve(U, F)\n",
    "    sol22[i] = pee[0]\n",
    "\n",
    "plt.plot(F2, sol22)\n",
    "plt.xlabel('Force (N)')\n",
    "plt.ylabel('Tension $P_1$ (N)');"
   ]
  },
  {
   "cell_type": "markdown",
   "id": "dfa4ad0f",
   "metadata": {},
   "source": [
    "3. Using the same truss as shown above, let's calculate the tension in bar 1, $P_1$, when $\\theta=[0...90^o]$ and $F=[100...1100]~kN$. When $\\theta\\neq 0$, the resulting 6 equations and 6 unknowns are given in the following matrix\n",
    "\n",
    "$\\left[ \\begin{array}{ccc}\n",
    "0 & \\sin\\alpha & 0 & 1 & 0 & 0 \\\\\n",
    "1 & \\cos\\alpha & 0 & 0 & 1 & 0 \\\\\n",
    "0 & \\cos\\beta/2 & \\cos\\beta/2 & 0 & 0 & 0 \\\\\n",
    "0 & -\\sin\\beta/2 & \\sin\\beta/2 & 0 & 0 & 0 \\\\\n",
    "-1 & 0 & \\cos\\alpha & 0 & 0 & 0 \\\\\n",
    "0 & 0 & \\sin\\alpha & 0 & 0 & 1 \\\\\n",
    " \\end{array} \\right]\n",
    "\\left[ \\begin{array}{c}\n",
    "P_{1} \\\\\n",
    "P_{2} \\\\\n",
    "P_{3} \\\\\n",
    "R_{1} \\\\\n",
    "R_{2} \\\\\n",
    "R_{3}\\end{array} \\right]=\n",
    "\\left[ \\begin{array}{c}\n",
    "0 \\\\\n",
    "0 \\\\\n",
    "F\\cos\\theta \\\\\n",
    "-F\\sin\\theta \\\\\n",
    "0 \\\\\n",
    "0 \\end{array} \\right]$\n",
    "\n",
    "a. Create the system of equations, $\\mathbf{Ax}=\\mathbf{b}$, when $\\alpha=35^o$, $\\beta=40^o$, $\\theta=45^o=\\pi/4$, and $F=1~kN$. Use __Gauss elimination__ to solve for $P_1,~P_2,~P_3,~R_1,~R_2,~and~R_3$. What is the resulting augmented matrix, $\\mathbf{A|y}$ after Gauss elimination? _Hint: do you see a problem with the order of the equations? How can you __pivot__ to fix it?_\n",
    "\n",
    "b. Solve for the $\\mathbf{PLU}$ decomposition of $\\mathbf{A}$. \n",
    "\n",
    "c. Use the $\\mathbf{PLU}$ solution to solve for the tension in bar 1 $(P_1)$ every 10 N values of force, F, between 100 N and 1100 N. Plot $P_1~vs~F$."
   ]
  },
  {
   "cell_type": "code",
   "execution_count": 16,
   "id": "8de30740",
   "metadata": {},
   "outputs": [
    {
     "name": "stdout",
     "output_type": "stream",
     "text": [
      "P_2 = -538.6\n",
      "P_1 = 1410.0\n",
      "P_3 = -657.5\n",
      "R_1 = -808.7\n",
      "R_2 = -616.4\n",
      "R_3 = 377.1\n",
      "Augmented matrix: \n",
      " [[ 1.00000000e+00  8.19152044e-01  0.00000000e+00  0.00000000e+00\n",
      "   1.00000000e+00  0.00000000e+00  0.00000000e+00]\n",
      " [ 0.00000000e+00  5.73576436e-01  0.00000000e+00  1.00000000e+00\n",
      "   0.00000000e+00  0.00000000e+00  0.00000000e+00]\n",
      " [ 0.00000000e+00  0.00000000e+00  9.39692621e-01 -1.63830409e+00\n",
      "   0.00000000e+00  0.00000000e+00  7.07106781e+02]\n",
      " [ 0.00000000e+00  0.00000000e+00  0.00000000e+00  1.19258785e+00\n",
      "   0.00000000e+00  0.00000000e+00 -9.64472602e+02]\n",
      " [ 0.00000000e+00  0.00000000e+00  0.00000000e+00  0.00000000e+00\n",
      "   1.00000000e+00  0.00000000e+00 -6.16401526e+02]\n",
      " [ 0.00000000e+00  0.00000000e+00  0.00000000e+00  0.00000000e+00\n",
      "   0.00000000e+00  1.00000000e+00  3.77113486e+02]]\n"
     ]
    }
   ],
   "source": [
    "# 2.3a\n",
    "\n",
    "a = np.deg2rad(35)\n",
    "b = np.deg2rad(40)\n",
    "theta = np.deg2rad(45)\n",
    "\n",
    "F = 1000\n",
    "var = np.array(['P_1', 'P_2', 'P_3', 'R_1', 'R_2', 'R_3'])\n",
    "LHS = np.array([[0, np.sin(a), 0, 1, 0, 0],\n",
    "             [1, np.cos(a), 0, 0, 1, 0],\n",
    "             [0, np.cos(b/2), np.cos(b/2), 0, 0, 0],\n",
    "             [0, -np.sin(b/2), np.sin(b/2), 0, 0, 0],\n",
    "             [-1, 0, np.cos(a), 0, 0, 0],\n",
    "             [0, 0, np.sin(a), 0, 0, 1]])\n",
    "\n",
    "\n",
    "RHS = np.array([0, 0, F*np.cos(theta), -F*np.sin(theta),0 , 0])\n",
    "# Pivot rows, swap row 2 and 1 \n",
    "LHS[[1,0]]=LHS[[0,1]]\n",
    "var[[1,0]]=var[[0,1]]\n",
    "RHS[[1,0]]=RHS[[0,1]]\n",
    "sol, aug = GaussNaive(LHS, RHS)\n",
    "\n",
    "for i in range(len(sol)):\n",
    "    print('{}' .format(var[i]), '= {:3.1f}'.format(sol[i]))\n",
    "    \n",
    "print('Augmented matrix: \\n', aug)"
   ]
  },
  {
   "cell_type": "code",
   "execution_count": 17,
   "id": "a8a06b6f",
   "metadata": {},
   "outputs": [
    {
     "name": "stdout",
     "output_type": "stream",
     "text": [
      "P_2 = -538.6\n",
      "P_1 = 1410.0\n",
      "P_3 = -657.5\n",
      "R_1 = -808.7\n",
      "R_2 = -616.4\n",
      "R_3 = 377.1\n"
     ]
    }
   ],
   "source": [
    "# 2.3b\n",
    "from scipy.linalg import lu\n",
    "\n",
    "P,L,U = lu(LHS) # a built-in partial-pivoting LU decomposition function\n",
    "# print('P=\\n',P)\n",
    "# print('L=\\n',L)\n",
    "# print('U=\\n',U)\n",
    "\n",
    "sol = solveLU(L,U,P.T@RHS)\n",
    "for i in range(len(sol)):\n",
    "    print('{}' .format(var[i]), '= {:3.1f}'.format(sol[i]))"
   ]
  },
  {
   "cell_type": "code",
   "execution_count": 18,
   "id": "fac6ebc3",
   "metadata": {},
   "outputs": [
    {
     "data": {
      "image/png": "[encoded data removed]",
      "text/plain": [
       "<Figure size 432x288 with 1 Axes>"
      ]
     },
     "metadata": {},
     "output_type": "display_data"
    }
   ],
   "source": [
    "# 2.3c\n",
    "F = np.arange(100,1110,10)\n",
    "sol = np.zeros(len(F))\n",
    "\n",
    "for i in range(len(F)):\n",
    "    RHS = np.array([0, 0, F[i]*np.cos(theta), -F[i]*np.sin(theta),0 , 0])\n",
    "    pee = solveLU(L,U,P.T@RHS)\n",
    "    sol[i] = pee[1]\n",
    "    \n",
    "plt.plot(F, sol)\n",
    "plt.xlabel('Force (N)')\n",
    "plt.ylabel('Tension $P_1$ (N)');"
   ]
  },
  {
   "cell_type": "code",
   "execution_count": 19,
   "id": "78d5a2ac",
   "metadata": {},
   "outputs": [
    {
     "name": "stdout",
     "output_type": "stream",
     "text": [
      "(array([nan, nan]), array([[0.       , 0.8660254, 0.       ],\n",
      "       [      nan,      -inf,       nan]]))\n",
      "(array([0., 0.]), array([[1.       , 0.5      , 0.       ],\n",
      "       [0.       , 0.8660254, 0.       ]]))\n"
     ]
    },
    {
     "name": "stderr",
     "output_type": "stream",
     "text": [
      "/tmp/ipykernel_263/3590145344.py:25: RuntimeWarning: divide by zero encountered in double_scalars\n",
      "  factor = Aug[i,k]/Aug[k,k]\n",
      "/tmp/ipykernel_263/3590145344.py:26: RuntimeWarning: invalid value encountered in multiply\n",
      "  Aug[i,:] = Aug[i,:] - factor*Aug[k,:]\n"
     ]
    }
   ],
   "source": [
    "# In class\n",
    "A = np.array([[0, np.sin(np.pi/3)],\n",
    "             [1, np.cos(np.pi/3)]])\n",
    "print(GaussNaive(A, np.array([0,0])))\n",
    "\n",
    "# fix error by switching rows, gets rid of divife by zero\n",
    "# need to swap rows in the matrix for number 3\n",
    "A = np.array([[1, np.cos(np.pi/3)],\n",
    "              [0, np.sin(np.pi/3)]])\n",
    "print(GaussNaive(A, np.array([0,0])))"
   ]
  },
  {
   "cell_type": "markdown",
   "id": "bd07db1b",
   "metadata": {},
   "source": [
    "## Problems [Part 3](./03_Linear-regression-algebra.md)\n",
    "\n",
    "<img\n",
    "src=\"https://i.imgur.com/LoBbHaM.png\" alt=\"prony series diagram\"\n",
    "style=\"width: 300px;\"/> <img src=\"https://i.imgur.com/8i140Zu.png\" alt\n",
    "= \"stress relax data\" style=\"width: 400px;\"/> \n",
    "\n",
    "Viscoelastic Prony series model and stress-vs-time relaxation curve of wheat kernels [[3]](https://www.cerealsgrains.org/publications/plexus/cfw/pastissues/2013/Documents/CFW-58-3-0139.pdf). Stress relaxation curve of a wheat kernel from regressed equation data that illustrate where to locate relaxation times (vertical dotted lines) and stresses (horizontal black marks). $\\sigma$ = stress; t = time.\n",
    "\n",
    "2. [Viscoelasticity](https://en.wikipedia.org/wiki/Viscoelasticity) is a property of materials that exhibit stiffness, but also tend to flow slowly. One example is [Silly Putty](https://en.wikipedia.org/wiki/Silly_Putty), when you throw a lump it bounces, but if you leave it on a table it _creeps_, slowly flowing downwards. In the stress-vs-time plot above, a wheat kernel was placed under constant strain and the stress was recorded. In a purely elastic material, the stress would be constant. In a purely viscous material, the stress would decay to 0 MPa. \n",
    "\n",
    "Here, you have a viscoelastic material, so there is some residual elastic stress as $t\\rightarrow \\infty$. The researchers used a 4-part [Prony series](https://en.wikipedia.org/wiki/Prony%27s_method) to model viscoelasticity. The function they fit was\n",
    "\n",
    "$\\sigma(t) = a_1 e^{-t/1.78}+a_2 e^{-t/11}+a_3e^{-t/53}+a_4e^{-t/411}+a_5$\n",
    "\n",
    "a. Load the data from the graph shown above in the file `../data/stress_relax.dat`. \n",
    "\n",
    "b. Create a $\\mathbf{Z}$-matrix to perform the least-squares regression for the given Prony series equation $\\mathbf{y} = \\mathbf{Za}$.\n",
    "\n",
    "c. Solve for the constants, $a_1,~a_2,~a_3,~a_4~,a_5$\n",
    "\n",
    "d. Plot the best-fit function and the data from `../data/stress_relax.dat` _Use at least 50 points in time to get a smooth best-fit line._"
   ]
  },
  {
   "cell_type": "code",
   "execution_count": 20,
   "id": "b5884435",
   "metadata": {},
   "outputs": [],
   "source": [
    "# 3.2a\n",
    "# ! head ../data/stress_relax.dat #show first 10 lines of data \n",
    "\n",
    "data = np.loadtxt('../data/stress_relax.dat', \n",
    "                  skiprows=1, \n",
    "                  delimiter=',')\n",
    "\n",
    "stress = data[:,1]\n",
    "t = data[:,0]\n",
    "# plt.plot(time, stress, 's')"
   ]
  },
  {
   "cell_type": "code",
   "execution_count": 21,
   "id": "3888ba3a",
   "metadata": {},
   "outputs": [],
   "source": [
    "# 3.2b\n",
    "Z = np.block([[np.exp(-t/1.78)], [np.exp(-t/11)], [np.exp(-t/53)], [np.exp(-t/411)], [t**0]]).T"
   ]
  },
  {
   "cell_type": "code",
   "execution_count": 22,
   "id": "11cf1fbb",
   "metadata": {},
   "outputs": [],
   "source": [
    "# 3.2c\n",
    "a = np.linalg.solve(Z.T@Z,Z.T@stress)"
   ]
  },
  {
   "cell_type": "code",
   "execution_count": 23,
   "id": "60bfd314",
   "metadata": {},
   "outputs": [
    {
     "data": {
      "image/png": "[encoded data removed]",
      "text/plain": [
       "<Figure size 432x288 with 1 Axes>"
      ]
     },
     "metadata": {},
     "output_type": "display_data"
    }
   ],
   "source": [
    "# 3.2d\n",
    "time = np.linspace(0,600,1500)\n",
    "sigma = a[0]*np.exp(-time/1.78)+a[1]*np.exp(-time/11)+a[2]*np.exp(-time/53)+a[3]*np.exp(-time/411)+a[4]\n",
    "plt.plot(time,sigma, label=('Prony series'))\n",
    "plt.plot(t, stress, 's', label=('Given Data'))\n",
    "plt.legend()\n",
    "plt.xlabel('Time (s)')\n",
    "plt.ylabel('Stress (MPa)');"
   ]
  },
  {
   "cell_type": "markdown",
   "id": "d0dbada1",
   "metadata": {},
   "source": [
    "3. Load the '../data/primary-energy-consumption-by-region.csv' that has the energy consumption of different regions of the world from 1965 until 2018 [Our world in Data](https://ourworldindata.org/energy). \n",
    "You are going to compare the energy consumption of the United States to all of Europe. Load the data into a pandas dataframe. *Note: you can get certain rows of the data frame by specifying what you're looking for e.g. \n",
    "`EUR = dataframe[dataframe['Entity']=='Europe']` will give us all the rows from Europe's energy consumption.*\n",
    "\n",
    "a. Use a piecewise least-squares regression to find a function for the energy consumption as a function of year\n",
    "\n",
    "energy consumed = $f(t) = At+B+C(t-1970)H(t-1970)$\n",
    "\n",
    "c. What is your prediction for US energy use in 2025? How about European energy use in 2025?"
   ]
  },
  {
   "cell_type": "code",
   "execution_count": 24,
   "id": "88e0c22f",
   "metadata": {},
   "outputs": [],
   "source": [
    "# 3.3\n",
    "import pandas as pd\n",
    "# ! head ../data/primary-energy-consumption-by-region.csv\n",
    "data = pd.read_csv('../data/primary-energy-consumption-by-region.csv')"
   ]
  },
  {
   "cell_type": "code",
   "execution_count": 25,
   "id": "cbc30593",
   "metadata": {},
   "outputs": [
    {
     "data": {
      "image/png": "[encoded data removed]",
      "text/plain": [
       "<Figure size 432x288 with 1 Axes>"
      ]
     },
     "metadata": {},
     "output_type": "display_data"
    },
    {
     "data": {
      "image/png": "[encoded data removed]",
      "text/plain": [
       "<Figure size 432x288 with 1 Axes>"
      ]
     },
     "metadata": {},
     "output_type": "display_data"
    }
   ],
   "source": [
    "# 3.3a\n",
    "eur = data[data['Entity']=='Europe']\n",
    "usa = data[data['Entity']=='United States']\n",
    "\n",
    "t = usa['Year']\n",
    "Z = np.block([[t**1], [t**0], [(t>=1970)*t**1]]).T\n",
    "\n",
    "a_usa = np.linalg.solve(Z.T@Z,Z.T@usa['Primary Energy Consumption (terawatt-hours)'])\n",
    "a_eur = np.linalg.solve(Z.T@Z,Z.T@eur['Primary Energy Consumption (terawatt-hours)'])\n",
    "\n",
    "time = np.linspace(1965, 2018, 1500)\n",
    "en_usa = a_usa[0]*time + a_usa[1] + a_usa[2]*(time>=1970)*time**1\n",
    "en_eur = a_eur[0]*time + a_eur[1] + a_eur[2]*(time>=1970)*time**1\n",
    "\n",
    "# plot usa\n",
    "plt.figure()\n",
    "plt.plot(time, en_usa, label='USA Fit')\n",
    "plt.plot(t, usa['Primary Energy Consumption (terawatt-hours)'], 's', label='USA Data')\n",
    "plt.legend()\n",
    "plt.xlabel('Year')\n",
    "plt.ylabel('Primary Energy Consumption\\n (terawatt-hours)')\n",
    "plt.title('USA Consumption');\n",
    "# plot eur\n",
    "plt.figure()\n",
    "plt.plot(time, en_eur, label='Europe Fit')\n",
    "plt.plot(t, eur['Primary Energy Consumption (terawatt-hours)'], 's', label='Europe Data')\n",
    "plt.legend()\n",
    "plt.xlabel('Year')\n",
    "plt.ylabel('Primary Energy Consumption\\n (terawatt-hours)')\n",
    "plt.title('Europe Consumption');"
   ]
  },
  {
   "cell_type": "code",
   "execution_count": 26,
   "id": "bf67df6c",
   "metadata": {},
   "outputs": [
    {
     "name": "stdout",
     "output_type": "stream",
     "text": [
      "USA energy use in 2025: 28769 terawatt-hours\n",
      "Europe energy use in 2025: 27180 terawatt-hours\n"
     ]
    }
   ],
   "source": [
    "# 3.3c\n",
    "time=2025\n",
    "\n",
    "en_usa25 = a_usa[0]*time + a_usa[1] + a_usa[2]*(time>=1970)*time**1\n",
    "en_eur25 = a_eur[0]*time + a_eur[1] + a_eur[2]*(time>=1970)*time**1\n",
    "\n",
    "print('USA energy use in 2025: {:1.0f} terawatt-hours' .format(en_usa25))\n",
    "print('Europe energy use in 2025: {:1.0f} terawatt-hours' .format(en_eur25))"
   ]
  },
  {
   "cell_type": "code",
   "execution_count": 27,
   "id": "641fa4a9",
   "metadata": {},
   "outputs": [],
   "source": [
    "# In class heavyside\n",
    "t = np.arange(1900, 2000, 10)\n",
    "Z = np.block([[t**1], [t**0], [(t>=1970)*t**1]]).T"
   ]
  }
 ],
 "metadata": {
  "jupytext": {
   "formats": "notebooks//ipynb,md:myst"
  },
  "kernelspec": {
   "display_name": "Python 3 (ipykernel)",
   "language": "python",
   "name": "python3"
  },
  "language_info": {
   "codemirror_mode": {
    "name": "ipython",
    "version": 3
   },
   "file_extension": ".py",
   "mimetype": "text/x-python",
   "name": "python",
   "nbconvert_exporter": "python",
   "pygments_lexer": "ipython3",
   "version": "3.9.6"
  }
 },
 "nbformat": 4,
 "nbformat_minor": 5
}
