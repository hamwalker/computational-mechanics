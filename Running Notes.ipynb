{
 "cells": [
  {
   "cell_type": "code",
   "execution_count": 21,
   "id": "f71c34af",
   "metadata": {},
   "outputs": [],
   "source": [
    "import numpy as np"
   ]
  },
  {
   "cell_type": "markdown",
   "id": "37029732",
   "metadata": {},
   "source": [
    "# Functions\n",
    "\n",
    "Syntax for defining custom Python functions\n",
    "````python\n",
    "def function_name(arg_1, arg_2, ...):\n",
    "    '''\n",
    "    docstring: description of the function\n",
    "    '''\n",
    "    <body of the function>\n",
    "````"
   ]
  },
  {
   "cell_type": "markdown",
   "id": "a45ccc31",
   "metadata": {},
   "source": [
    "# NumPy\n",
    "```python\n",
    "import numpy as np\n",
    "```\n",
    "\n",
    "commonly used functions are:\n",
    "\n",
    "* [`np.linspace()`](https://docs.scipy.org/doc/numpy/reference/generated/np.linspace.html)\n",
    "* [`np.ones()`](https://docs.scipy.org/doc/numpy/reference/generated/np.ones.html#np.ones)\n",
    "* [`np.zeros()`](https://docs.scipy.org/doc/numpy/reference/generated/np.zeros.html#np.zeros)\n",
    "* [`np.empty()`](https://docs.scipy.org/doc/numpy/reference/generated/np.empty.html#np.empty)\n",
    "* [`np.copy()`](https://docs.scipy.org/doc/numpy/reference/generated/np.copy.html#np.copy)\n",
    "\n",
    "## Arrays\n",
    "\n",
    "`np.ones()`<br>\n",
    "`np.zeros()`<br>\n",
    "\n",
    "`np.arange(start, stop, step)`<br>\n",
    "`np.linspace(start, stop, num)`<br>\n",
    "where `start` by default is zero, `stop` is not inclusive, and the default\n",
    "for `step` is one.\n",
    "\n",
    "### 2D arrays\n",
    "````python\n",
    "array_2d = np.array([[1, 2], [3, 4]])\n",
    "````\n",
    "The multiplication using the `'*'` operator is element-wise. If you want to do matrix multiplication use the `'@'` operator or `np.dot()`\n",
    "\n",
    "### 3D arrays\n",
    "Visualizing the dimensions of the `a_3D` array can be tricky, so here is\n",
    "a diagram that will help you to understand how the dimensions are\n",
    "assigned: each dimension is shown as  a coordinate axis. For a 3D array,\n",
    "on the \"x axis\", you have the sub-arrays that themselves are\n",
    "two-dimensional (matrices). Two of these 2D sub-arrays, in this\n",
    "case; each one has 3 rows and 4 columns. Study this sketch carefully,\n",
    "while comparing with how the array `a_3D` is printed out above. \n",
    "\n",
    "<img src=\"images/3d_array_sketch.png\" style=\"width: 400px;\"/>"
   ]
  },
  {
   "cell_type": "markdown",
   "id": "db6fcbd7",
   "metadata": {},
   "source": [
    "Let's create a 3D array by reshaping a 1D array. You can use\n",
    "[`np.reshape()`](https://docs.scipy.org/doc/numpy/reference/generated/np.reshape.html),\n",
    "where you pass the array we want to reshape and the shape we want to\n",
    "give it, i.e., the number of elements in each dimension. \n",
    "\n",
    "*Syntax*\n",
    " \n",
    "`np.reshape(array, newshape)`</br>"
   ]
  },
  {
   "cell_type": "code",
   "execution_count": 22,
   "id": "5e064ccf",
   "metadata": {},
   "outputs": [
    {
     "name": "stdout",
     "output_type": "stream",
     "text": [
      "[[[ 0  1  2  3]\n",
      "  [ 4  5  6  7]\n",
      "  [ 8  9 10 11]]\n",
      "\n",
      " [[12 13 14 15]\n",
      "  [16 17 18 19]\n",
      "  [20 21 22 23]]]\n"
     ]
    }
   ],
   "source": [
    "a = np.arange(24)\n",
    "a_3D = np.reshape(a, (2, 3, 4))\n",
    "print(a_3D)"
   ]
  },
  {
   "cell_type": "markdown",
   "id": "d9495def",
   "metadata": {},
   "source": [
    "### Indexing \n",
    "`X[Row, Column]` (Starting with 0)\n",
    "`:` means all\n",
    "\n",
    "For 3D `X[matrix, row, column]`\n",
    "\n",
    "# Time\n",
    "Use `%%Time` in start of code block "
   ]
  },
  {
   "cell_type": "code",
   "execution_count": 23,
   "id": "97eaea1e",
   "metadata": {},
   "outputs": [
    {
     "name": "stdout",
     "output_type": "stream",
     "text": [
      "CPU times: user 490 µs, sys: 970 µs, total: 1.46 ms\n",
      "Wall time: 2.43 ms\n"
     ]
    }
   ],
   "source": [
    "%%time\n",
    "arr_1 = np.random.randint(0,100, size=10000)\n",
    "arr_2 = np.random.randint(0,100, size=10000)\n",
    "\n",
    "arr_res= arr_1**2+arr_2**2"
   ]
  },
  {
   "cell_type": "markdown",
   "id": "82191256",
   "metadata": {},
   "source": [
    "# Plotting"
   ]
  },
  {
   "cell_type": "code",
   "execution_count": 24,
   "id": "b994e4c3",
   "metadata": {},
   "outputs": [],
   "source": [
    "import matplotlib.pyplot as plt"
   ]
  },
  {
   "cell_type": "markdown",
   "id": "6ff756c7",
   "metadata": {},
   "source": [
    " increase the fontsize and linewidth"
   ]
  },
  {
   "cell_type": "code",
   "execution_count": 25,
   "id": "06318fe1",
   "metadata": {},
   "outputs": [],
   "source": [
    "plt.rcParams.update({'font.size': 22})\n",
    "plt.rcParams['lines.linewidth'] = 3"
   ]
  },
  {
   "cell_type": "markdown",
   "id": "6a06b816",
   "metadata": {},
   "source": [
    "````python\n",
    "{:5.2f}\n",
    "````\n",
    "where \n",
    "\n",
    "- `:5` prints something with whitespace that is 5 spaces total\n",
    "- `.2` prints 2 significant figures after the decimal\n",
    "- `f` tells `format` that the input is a floating point number to print"
   ]
  }
 ],
 "metadata": {
  "kernelspec": {
   "display_name": "Python 3 (ipykernel)",
   "language": "python",
   "name": "python3"
  },
  "language_info": {
   "codemirror_mode": {
    "name": "ipython",
    "version": 3
   },
   "file_extension": ".py",
   "mimetype": "text/x-python",
   "name": "python",
   "nbconvert_exporter": "python",
   "pygments_lexer": "ipython3",
   "version": "3.9.6"
  }
 },
 "nbformat": 4,
 "nbformat_minor": 5
}
