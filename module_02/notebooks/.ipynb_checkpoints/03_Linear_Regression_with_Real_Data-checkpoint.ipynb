{
 "cells": [
  {
   "cell_type": "markdown",
   "id": "714aa105",
   "metadata": {},
   "source": [
    "> __Content modified under Creative Commons Attribution license CC-BY\n",
    "> 4.0, code under BSD 3-Clause License © 2020 R.C. Cooper__"
   ]
  },
  {
   "cell_type": "markdown",
   "id": "c2b92084",
   "metadata": {},
   "source": [
    "# 03 - Linear regression with real data"
   ]
  },
  {
   "cell_type": "markdown",
   "id": "8d26fd7a",
   "metadata": {},
   "source": [
    "## Earth temperature over time\n",
    "\n",
    "In this lesson, you will analyze real data of Earth temperature over time.\n",
    "\n",
    "Is global temperature rising? How much? This is a question of burning importance in today's world!\n",
    "\n",
    "Data about global temperatures are available from several sources: NASA, the National Climatic Data Center (NCDC) and the University of East Anglia in the UK. Check out the [University Corporation for Atmospheric Research](https://www2.ucar.edu/climate/faq/how-much-has-global-temperature-risen-last-100-years) (UCAR) for an in-depth discussion.\n",
    "\n",
    "The [NASA Goddard Space Flight Center](http://svs.gsfc.nasa.gov/goto?3901) is one of our sources of global climate data. They produced the video below showing a color map of the changing global surface **temperature anomalies** from 1880 to 2015.\n",
    "\n",
    "The term [global temperature anomaly](https://www.ncdc.noaa.gov/monitoring-references/faq/anomalies.php) means the difference in temperature with respect to a reference value or a long-term average. It is a very useful way of looking at the problem and in many ways better than absolute temperature. For example, a winter month may be colder than average in Washington DC, and also in Miami, but the absolute temperatures will be different in both places."
   ]
  },
  {
   "cell_type": "code",
   "execution_count": null,
   "id": "77402195",
   "metadata": {},
   "outputs": [],
   "source": [
    "from IPython.display import YouTubeVideo\n",
    "YouTubeVideo('gGOzHVUQCw0')"
   ]
  },
  {
   "cell_type": "markdown",
   "id": "2ad7c512",
   "metadata": {},
   "source": [
    "How would you go about understanding the _trends_ from the data on global temperature?\n",
    "\n",
    "The first step in analyzing unknown data is to generate some simple plots using **Matplotlib**. You are going to look at the temperature-anomaly history, contained in a file, and make our first plot to explore this data. \n",
    "\n",
    "We are going to smooth the data and then you'll fit a line to it to find a trend, plotting along the way to see how it all looks.\n",
    "\n",
    "Let's get started!"
   ]
  },
  {
   "cell_type": "code",
   "execution_count": null,
   "id": "be795069",
   "metadata": {},
   "outputs": [],
   "source": []
  },
  {
   "cell_type": "markdown",
   "id": "329c957e",
   "metadata": {},
   "source": [
    "## Step 1: Read a data file\n",
    "\n",
    "We took the data from the [NOAA](https://www.ncdc.noaa.gov/cag/) (National Oceanic and Atmospheric Administration) webpage. Feel free to play around with the webpage and analyze data on your own, but for now, let's make sure you're working with the same dataset.\n",
    "\n",
    "\n",
    "We have a file named `land_global_temperature_anomaly-1880-2016.csv` in our `data` folder. This file contains the year on the first column, and averages of land temperature anomaly listed sequentially on the second column, from the year 1880 to 2016. You will load the file, then make an initial plot to see what it looks like.\n",
    "\n",
    "\n",
    "Start by importing NumPy and pandas"
   ]
  },
  {
   "cell_type": "code",
   "execution_count": null,
   "id": "65e3a995",
   "metadata": {},
   "outputs": [],
   "source": [
    "import numpy as np\n",
    "import pandas as pd"
   ]
  },
  {
   "cell_type": "markdown",
   "id": "b443a081",
   "metadata": {},
   "source": [
    "To load our data from the file, you'll use the function [`numpy.loadtxt()`](https://docs.scipy.org/doc/numpy/reference/generated/numpy.loadtxt.html), which lets us immediately save the data into NumPy arrays. (We encourage you to read the documentation for details on how the function works.) Here, you'll save the data into the arrays `year` and `temp_anomaly`."
   ]
  },
  {
   "cell_type": "code",
   "execution_count": null,
   "id": "688bd74a",
   "metadata": {},
   "outputs": [],
   "source": [
    "fname = '../data/land_global_temperature_anomaly-1880-2016.csv'\n",
    "\n",
    "temp_data = pd.read_csv(fname,skiprows=4)"
   ]
  },
  {
   "cell_type": "markdown",
   "id": "d5c2a70c",
   "metadata": {},
   "source": [
    "## Exercise\n",
    "\n",
    "Inspect the data by printing `temp_data`."
   ]
  },
  {
   "cell_type": "code",
   "execution_count": null,
   "id": "d24dd9ea",
   "metadata": {},
   "outputs": [],
   "source": [
    "temp_data"
   ]
  },
  {
   "cell_type": "markdown",
   "id": "4016b60c",
   "metadata": {},
   "source": [
    "## Step 2: Plot the data\n",
    "\n",
    "Let's first load the **Matplotlib** module called `pyplot`, for making 2D plots. Remember that to get the plots inside the notebook, you use a special \"magic\" command, `%matplotlib inline`:"
   ]
  },
  {
   "cell_type": "code",
   "execution_count": null,
   "id": "63276a9a",
   "metadata": {},
   "outputs": [],
   "source": [
    "import matplotlib.pyplot as plt\n",
    "plt.style.use('fivethirtyeight')\n",
    "%matplotlib inline"
   ]
  },
  {
   "cell_type": "markdown",
   "id": "8bd4cfb1",
   "metadata": {},
   "source": [
    "The `plot()` function of the `pyplot` module makes simple line plots. You avoid that stuff that appeared on top of the figure, that `Out[x]: [< ...>]` ugliness, by adding a semicolon at the end of the plotting command."
   ]
  },
  {
   "cell_type": "code",
   "execution_count": null,
   "id": "275c5ccd",
   "metadata": {},
   "outputs": [],
   "source": [
    "#You can set the size of the figure by doing:\n",
    "plt.figure(figsize=(10,5))\n",
    "\n",
    "#Plotting\n",
    "plt.plot(temp_data['Year'], temp_data['Value'], color='#2929a3', linestyle='-', linewidth=1) \n",
    "plt.title('Land global temperature anomalies. \\n')\n",
    "plt.xlabel('Year')\n",
    "plt.ylabel('Land temperature anomaly [°C]')\n",
    "plt.grid();"
   ]
  },
  {
   "cell_type": "markdown",
   "id": "8fb8a5f2",
   "metadata": {},
   "source": [
    "## Step 3: Least-squares linear regression \n",
    "\n",
    "In order to have an idea of the general behavior of our data, you can find a smooth curve that (approximately) fits the points. You generally look for a curve that's simple (e.g., a polynomial), and does not reproduce the noise that's always present in experimental data. \n",
    "\n",
    "Let $f(x)$ be the function that you'll fit to the $n+1$ data points: $(x_i, y_i)$, $i = 0, 1, ... ,n$:\n",
    "\n",
    "$$ \n",
    "    f(x) = f(x; a_0, a_1, ... , a_m) \n",
    "$$\n",
    "\n",
    "The notation above means that $f$ is a function of $x$, with $m+1$ variable parameters $a_0, a_1, ... , a_m$, where $m < n$. You need to choose the form of $f(x)$ _a priori_, by inspecting the experimental data and knowing something about the phenomenon you've measured. Thus, curve fitting consists of two steps: \n",
    "\n",
    "1. Choosing the form of $f(x)$.\n",
    "2. Computing the parameters that will give us the \"best fit\" to the data."
   ]
  },
  {
   "cell_type": "markdown",
   "id": "f537de1b",
   "metadata": {},
   "source": [
    "### What is the \"best\" fit?\n",
    "\n",
    "When the noise in the data is limited to the $y$-coordinate, it's common to use a **least-squares fit** [2], which minimizes the function\n",
    "\n",
    "$$\n",
    "\\begin{equation}    \n",
    "    S(a_0, a_1, ... , a_m) = \\sum_{i=0}^{n} [y_i - f(x_i)]^2\n",
    "\\end{equation}~~~~~~(1)   \n",
    "$$\n",
    "\n",
    "with respect to each $a_j$. You find the values of the parameters for the best fit by solving the following equations:\n",
    "\n",
    "$$\n",
    "\\begin{equation}\n",
    "    \\frac{\\partial{S}}{\\partial{a_k}} = 0, \\quad k = 0, 1, ... , m.\n",
    "\\end{equation}~~~~~~(2)\n",
    "$$\n",
    "\n",
    "Here, the terms $r_i = y_i - f(x_i)$ are called residuals: they tell us the discrepancy between the data and the fitting function at $x_i$. \n",
    "\n",
    "Take a look at the function $S$: what you want to minimize is the sum of the squares of the residuals. The equations (2) are generally nonlinear in $a_j$ and might be difficult to solve. Therefore, the fitting function is commonly chosen as a linear combination of specified functions $f_j(x)$, \n",
    "\n",
    "$$\n",
    "\\begin{equation*}\n",
    "    f(x) = a_0f_0(x) + a_1f_1(x) + ... + a_mf_m(x)\n",
    "\\end{equation*}~~~~~~(3)\n",
    "$$\n",
    "\n",
    "which results in equations (2) being linear. In the case that the fitting function is polynomial, you have have $f_0(x) = 1, \\; f_1(x) = x, \\; f_2(x) = x^2$, and so on."
   ]
  },
  {
   "cell_type": "markdown",
   "id": "31b75bb3",
   "metadata": {},
   "source": [
    "### Linear regression \n",
    "\n",
    "When you talk about linear regression you mean \"fitting a function to the data.\" In this case,\n",
    "\n",
    "$$\n",
    "\\begin{equation}\n",
    "    f(x) = a_0 + a_1x\n",
    "\\end{equation}~~~~~~(4)\n",
    "$$\n",
    "\n",
    "The function that you'll minimize is:\n",
    "\n",
    "$$\n",
    "\\begin{equation}\n",
    "    S(a_0, a_1) = \\sum_{i=0}^{n} [y_i - f(x_i)]^2 = \\sum_{i=0}^{n} (y_i - a_0 - a_1x_i)^2 \n",
    "\\end{equation}~~~~~~(5)    \n",
    "$$\n",
    "\n",
    "Equations (2) become:\n",
    "\n",
    "$$\n",
    "\\begin{equation}\n",
    "    \\frac{\\partial{S}}{\\partial{a_0}} =  \\sum_{i=0}^{n} -2(y_i - a_0 - a_1x_i) = 2 \\left[ a_0(n+1) + a_1\\sum_{i=0}^{n} x_i - \\sum_{i=0}^{n} y_i \\right] = 0\n",
    "\\end{equation}~~~~~~(6)    \n",
    "$$\n",
    "\n",
    "$$\n",
    "\\begin{equation}\n",
    "    \\frac{\\partial{S}}{\\partial{a_1}} =  \\sum_{i=0}^{n} -2(y_i - a_0 - a_1x_i)x_i = 2 \\left[ a_0\\sum_{i=0}^{n} x_i + a_1\\sum_{i=0}^{n} x_{i}^2 - \\sum_{i=0}^{n} x_iy_i \\right] = 0\n",
    "\\end{equation}~~~~~~(7)    \n",
    "$$\n",
    "\n",
    "Let's divide both equations by $2(n+1)$ and rearrange terms.\n",
    "\n",
    "Rearranging (6) and (7):\n",
    "\n",
    "$$\n",
    "\\begin{align}\n",
    "    2 \\left[ a_0(n+1) + a_1\\sum_{i=0}^{n} x_i - \\sum_{i=0}^{n} y_i \\right] &= 0 \\nonumber \\\\ \n",
    "    \\frac{a_0(n+1)}{n+1} + a_1 \\frac{\\sum_{i=0}^{n} x_i}{n+1} - \\frac{\\sum_{i=0}^{n} y_i}{n+1} &= 0 \\\\\n",
    "\\end{align}~~~~~~(8)\n",
    "$$\n",
    "\n",
    "$$\n",
    "\\begin{align}\n",
    "    a_0  = \\bar{y} - a_1\\bar{x}\n",
    "\\end{align}~~~~~~(9)\n",
    "$$\n",
    "\n",
    "where $\\bar{x} = \\frac{\\sum_{i=0}^{n} x_i}{n+1}$ and $\\bar{y} = \\frac{\\sum_{i=0}^{n} y_i}{n+1}$.\n",
    "\n",
    "Rearranging (7):\n",
    "\n",
    "$$\n",
    "\\begin{align}\n",
    "    2 \\left[ a_0\\sum_{i=0}^{n} x_i + a_1\\sum_{i=0}^{n} x_{i}^2 - \\sum_{i=0}^{n} x_iy_i \\right] &= 0 \\\\\n",
    "    a_0\\sum_{i=0}^{n} x_i + a_1\\sum_{i=0}^{n} x_{i}^2 - \\sum_{i=0}^{n} x_iy_i &=0 \\\\\n",
    "\\end{align}~~~~~~(10)\n",
    "$$\n",
    "\n",
    "Now, if you replace $a_0$ from equation (8) into (9) and rearrange terms:\n",
    "\n",
    "$$\n",
    "\\begin{align*}\n",
    "    (\\bar{y} - a_1\\bar{x})\\sum_{i=0}^{n} x_i  + a_1\\sum_{i=0}^{n} x_{i}^2 - \\sum_{i=0}^{n} x_iy_i  &= 0 \\\\ \n",
    "\\end{align*}~~~~~~(11)\n",
    "$$\n",
    "\n",
    "Replacing the definitions of the mean values into the equation,  \n",
    "\n",
    "$$\n",
    "\\begin{align*}\n",
    "    \\left[\\frac{1}{n+1}\\sum_{i=0}^{n} y_i  - \\frac{a_1}{n+1}\\sum_{i=0}^{n} x_i \\right]\\sum_{i=0}^{n} x_i  + a_1\\sum_{i=0}^{n} x_{i}^2 - \\sum_{i=0}^{n} x_iy_i  &= 0  \\\\ \n",
    "     \\frac{1}{n+1}\\sum_{i=0}^{n} y_i \\sum_{i=0}^{n} x_i - \\frac{a_1}{n+1}\\sum_{i=0}^{n} x_i \\sum_{i=0}^{n} x_i  + a_1\\sum_{i=0}^{n} x_{i}^2 - \\sum_{i=0}^{n} x_iy_i  &= 0  \\\\ \n",
    "\\end{align*}~~~~~~(12)\n",
    "$$\n",
    "\n",
    "Leaving everything in terms of $\\bar{x}$, \n",
    "\n",
    "$$\n",
    "\\begin{align*}\n",
    "    \\sum_{i=0}^{n} y_i \\bar{x} - a_1\\sum_{i=0}^{n} x_i \\bar{x} + a_1\\sum_{i=0}^{n} x_{i}^2 - \\sum_{i=0}^{n} x_iy_i  = 0  \n",
    "\\end{align*}~~~~~~(13)\n",
    "$$\n",
    "\n",
    "Grouping the terms that have $a_1$ on the left-hand side and the rest on the right-hand side:\n",
    "\n",
    "$$\n",
    "\\begin{align*}\n",
    "    a_1\\left[ \\sum_{i=0}^{n} x_{i}^2 - \\sum_{i=0}^{n} x_i \\bar{x}\\right] &= \\sum_{i=0}^{n} x_iy_i - \\sum_{i=0}^{n} y_i \\bar{x} \\\\\n",
    "    a_1 \\sum_{i=0}^{n} (x_{i}^2 - x_i \\bar{x}) &= \\sum_{i=0}^{n} (x_iy_i -  y_i \\bar{x}) \\\\\n",
    "    a_1 \\sum_{i=0}^{n} x_{i}(x_{i} -\\bar{x}) &= \\sum_{i=0}^{n} y_i(x_i - \\bar{x})    \n",
    "\\end{align*}~~~~~~(14)\n",
    "$$\n",
    "\n",
    "Finally, you get that:\n",
    "\n",
    "$$\n",
    "\\begin{align}\n",
    "    a_1 = \\frac{ \\sum_{i=0}^{n} y_{i} (x_i - \\bar{x})}{\\sum_{i=0}^{n} x_i (x_i - \\bar{x})}\n",
    "\\end{align}~~~~~~(15)\n",
    "$$\n",
    "\n",
    "Then our coefficients are:\n",
    "\n",
    "$$\n",
    "\\begin{align}\n",
    "    a_1 = \\frac{ \\sum_{i=0}^{n} y_{i} (x_i - \\bar{x})}{\\sum_{i=0}^{n} x_i (x_i - \\bar{x})} \\quad , \\quad a_0  = \\bar{y} - a_1\\bar{x}\n",
    "\\end{align}~~~~~~(16)\n",
    "$$"
   ]
  },
  {
   "cell_type": "markdown",
   "id": "5e584e1d",
   "metadata": {},
   "source": [
    "### Let's fit!\n",
    "\n",
    "Let's now fit a straight line through the temperature-anomaly data, to see the trend over time. We'll use least-squares linear regression to find the slope and intercept of a line \n",
    "\n",
    "$y = a_1x+a_0$\n",
    "\n",
    "that fits our data.\n",
    "\n",
    "In our case, the `x`-data corresponds to `Year`, and the `y`-data is `Value`. To calculate our coefficients with the formula above, you need the mean values of our data. Since you'll need to compute the mean for both `x` and `y`. \n",
    "\n",
    "It is good coding practice to *avoid repeating* ourselves: you want to write code that is reusable, not only because it leads to less typing but also because it reduces errors. If you find yourself doing the same calculation multiple times, it's better to encapsulate it into a *function*. \n",
    "\n",
    "Remember the _key concept_ from [02_Working_with_Python](../module_01/02_Working_with_Python): A function is a compact collection of code that executes some action on its arguments."
   ]
  },
  {
   "cell_type": "markdown",
   "id": "d9a76f7d",
   "metadata": {},
   "source": [
    "## Exercise \n",
    "\n",
    "Calculate the mean of the `year` and `temp_anomaly` arrays using the NumPy built-in function, `np.mean`.\n",
    "\n",
    "Assign the means to `mean_x` and `mean_y`."
   ]
  },
  {
   "cell_type": "code",
   "execution_count": null,
   "id": "0a6fc221",
   "metadata": {},
   "outputs": [],
   "source": [
    "x = temp_data['Year']\n",
    "y = temp_data['Value']\n",
    "\n",
    "mean_x = np.mean(x)\n",
    "mean_y = np.mean(y)\n",
    "\n",
    "print('mean_x=',mean_x,'mean_y=',mean_y)"
   ]
  },
  {
   "cell_type": "markdown",
   "id": "de5bd255",
   "metadata": {},
   "source": [
    "Now that you have mean values, you can compute our coefficients by following equations (12). You first calculate $a_1$ and then use that value to calculate $a_0$.\n",
    "\n",
    "Our coefficients are:\n",
    "\n",
    "$$\n",
    "    a_1 = \\frac{ \\sum_{i=0}^{n} y_{i} (x_i - \\bar{x})}{\\sum_{i=0}^{n} x_i (x_i - \\bar{x})} \\quad , \\quad a_0  = \\bar{y} - a_1\\bar{x}\n",
    "$$"
   ]
  },
  {
   "cell_type": "markdown",
   "id": "425bba41",
   "metadata": {},
   "source": [
    "We already calculated the mean values of the data arrays, but the formula requires two sums over new derived arrays. Guess what, NumPy has a built-in function for that: [`numpy.sum()`](https://docs.scipy.org/doc/numpy/reference/generated/numpy.sum.html). Study the code below."
   ]
  },
  {
   "cell_type": "code",
   "execution_count": null,
   "id": "dbd4c481",
   "metadata": {},
   "outputs": [],
   "source": [
    "xi = temp_data['Year'].values\n",
    "yi = temp_data['Value'].values\n",
    "\n",
    "x_mean = np.mean(xi)\n",
    "y_mean = np.mean(yi)\n",
    "\n",
    "a_1 = np.sum(yi*(xi - x_mean)) / np.sum(xi*(xi - x_mean)) "
   ]
  },
  {
   "cell_type": "code",
   "execution_count": null,
   "id": "3eb40d13",
   "metadata": {},
   "outputs": [],
   "source": [
    "print(a_1)"
   ]
  },
  {
   "cell_type": "code",
   "execution_count": null,
   "id": "efc562e4",
   "metadata": {},
   "outputs": [],
   "source": [
    "a_0 = y_mean - a_1*x_mean"
   ]
  },
  {
   "cell_type": "code",
   "execution_count": null,
   "id": "9777ea4f",
   "metadata": {},
   "outputs": [],
   "source": [
    "print(a_0)"
   ]
  },
  {
   "cell_type": "markdown",
   "id": "7dd0150f",
   "metadata": {},
   "source": [
    "##### Exercise\n",
    "\n",
    "Write a function that computes the coefficients, call the function to compute them and compare the result with the values you obtained before. As a hint, you give you the structure that you should follow:\n",
    "\n",
    "```python\n",
    "def coefficients(x, y, x_mean, y_mean):\n",
    "    \"\"\"\n",
    "    Write docstrings here\n",
    "    \"\"\"\n",
    "\n",
    "    a_1 = \n",
    "    a_0 = \n",
    "    \n",
    "    return a_1, a_0\n",
    "```"
   ]
  },
  {
   "cell_type": "code",
   "execution_count": null,
   "id": "1ffdf9da",
   "metadata": {},
   "outputs": [],
   "source": [
    "def coefficients(x, y, x_mean, y_mean):\n",
    "    \"\"\"\n",
    "    Write docstrings here\n",
    "    Arguments\n",
    "    ---------\n",
    "    x: independent variable \n",
    "    y: dependent variable measurements\n",
    "    x_mean: mean of independent variable\n",
    "    y_mean: mean of dependent variable\n",
    "    Returns\n",
    "    -------\n",
    "    a_1: the least-squares regression slope\n",
    "    a_0: the least-squares regression intercept\n",
    "    \"\"\"\n",
    "    a_1 = np.sum(yi*(xi - x_mean)) / np.sum(xi*(xi - x_mean))\n",
    "    a_0 = y_mean - a_1*x_mean\n",
    "    \n",
    "    return a_1, a_0"
   ]
  },
  {
   "cell_type": "code",
   "execution_count": null,
   "id": "d1394868",
   "metadata": {},
   "outputs": [],
   "source": [
    "coefficients(xi,yi,x_mean,y_mean) # verify result is the same as above"
   ]
  },
  {
   "cell_type": "markdown",
   "id": "0ee172ba",
   "metadata": {},
   "source": [
    "We now have the coefficients of a linear function that best fits our data. With them, you can compute the predicted values of temperature anomaly, according to our fit. Check again the equations above: the values you are going to compute are $f(x_i)$. \n",
    "\n",
    "Let's call `reg` the array obtined from evaluating $f(x_i)$ for all years."
   ]
  },
  {
   "cell_type": "code",
   "execution_count": null,
   "id": "5980b31c",
   "metadata": {},
   "outputs": [],
   "source": [
    "reg = a_0 + a_1 * xi"
   ]
  },
  {
   "cell_type": "markdown",
   "id": "0b07ff73",
   "metadata": {},
   "source": [
    "With the values of our linear regression, you can plot it on top of the original data to see how they look together. Study the code below."
   ]
  },
  {
   "cell_type": "code",
   "execution_count": null,
   "id": "fa78641a",
   "metadata": {},
   "outputs": [],
   "source": [
    "plt.figure(figsize=(10, 5))\n",
    "\n",
    "plt.plot(xi, yi,'s', color='#2929a3', linewidth=1, alpha=0.5,label='Measured anomoly') \n",
    "plt.plot(xi, reg, 'k--', linewidth=2, label='Linear regression')\n",
    "plt.xlabel('Year')\n",
    "plt.ylabel('Land temperature anomaly [°C]')\n",
    "plt.legend(loc='best', fontsize=15)\n",
    "plt.grid();"
   ]
  },
  {
   "cell_type": "markdown",
   "id": "409d4dbd",
   "metadata": {},
   "source": [
    "## Step 4: Apply regression using NumPy"
   ]
  },
  {
   "cell_type": "markdown",
   "id": "343a8936",
   "metadata": {},
   "source": [
    "Above, you coded linear regression from scratch. But, guess what: you didn't have to because NumPy has built-in functions that do what you need!\n",
    "\n",
    "Yes! Python and NumPy are here to help! With [`polyfit()`](https://docs.scipy.org/doc/numpy-1.10.0/reference/generated/numpy.polyfit.html), you get the slope and $y$-intercept of the line that best fits the data. With [`poly1d()`](https://docs.scipy.org/doc/numpy/reference/generated/numpy.poly1d.html), you can build the linear function from its slope and $y$-intercept.\n",
    "\n",
    "Check it out:"
   ]
  },
  {
   "cell_type": "code",
   "execution_count": null,
   "id": "8af1cfd8",
   "metadata": {},
   "outputs": [],
   "source": [
    "# First fit with NumPy, then name the coefficients obtained a_1n, a_0n:\n",
    "a_1n, a_0n = np.polyfit(xi, yi, 1)\n",
    "\n",
    "f_linear = np.poly1d((a_1n, a_0n)) "
   ]
  },
  {
   "cell_type": "code",
   "execution_count": null,
   "id": "2907cdfe",
   "metadata": {},
   "outputs": [],
   "source": [
    "print(a_1n)"
   ]
  },
  {
   "cell_type": "code",
   "execution_count": null,
   "id": "75eda7da",
   "metadata": {},
   "outputs": [],
   "source": [
    "print(a_0n)"
   ]
  },
  {
   "cell_type": "code",
   "execution_count": null,
   "id": "cd687380",
   "metadata": {},
   "outputs": [],
   "source": [
    "print(f_linear)"
   ]
  },
  {
   "cell_type": "markdown",
   "id": "61812a62",
   "metadata": {},
   "source": [
    "The assignment `f_linear = np.poly1d((a_1n,a_0n))` creates a 1D polynomial. This means that the function only has one independent variable i.e. f(x) = (some value). You can create your own polynomial functions in a similar way using _anonymous functions_ i.e. `lambda`.\n",
    "\n",
    "```python\n",
    "f_linear = lambda x: a_1n*x + a_0n\n",
    "```\n",
    "\n",
    "In the line of code given above, you create the same assignment for `f_linear(x)`. One benefit of writing this out yourself is that you can see how each input is used directly."
   ]
  },
  {
   "cell_type": "markdown",
   "id": "8a996911",
   "metadata": {},
   "source": [
    "## Exercise\n",
    "\n",
    "Use the `lambda` function to assign `f_linear` to our 1D polynomial instead of the `np.poly1d` assignment."
   ]
  },
  {
   "cell_type": "code",
   "execution_count": null,
   "id": "38785678",
   "metadata": {},
   "outputs": [],
   "source": [
    "f_linear = lambda x: a_1n*x+a_0n"
   ]
  },
  {
   "cell_type": "code",
   "execution_count": null,
   "id": "d702b50f",
   "metadata": {},
   "outputs": [],
   "source": [
    "plt.figure(figsize=(10, 5))\n",
    "\n",
    "plt.plot(xi, yi,'s', color='#2929a3', linewidth=1, alpha=0.5,label='Measured anomoly')\n",
    "plt.plot(xi, f_linear(xi), 'k--', linewidth=2, label='Linear regression')\n",
    "plt.xlabel('Year')\n",
    "plt.ylabel('Land temperature anomaly [°C]')\n",
    "plt.legend(loc='best', fontsize=15)\n",
    "plt.grid();"
   ]
  },
  {
   "cell_type": "markdown",
   "id": "4429df1c",
   "metadata": {},
   "source": [
    "## \"Split regression\""
   ]
  },
  {
   "cell_type": "markdown",
   "id": "c284390a",
   "metadata": {},
   "source": [
    "If you look at the plot above, you might notice that around 1970 the temperature starts increasing faster that the previous trend. So maybe one single straight line does not give us a good-enough fit.\n",
    "\n",
    "What if you break the data in two (before and after 1970) and do a linear regression in each segment? \n",
    "\n",
    "To do that, you first need to find the position in our `year` array where the year 1970 is located. Thankfully, NumPy has a function called  [`numpy.where()`](https://docs.scipy.org/doc/numpy/reference/generated/numpy.where.html) that can help us. You pass a condition and `numpy.where()` tells us where in the array the condition is `True`."
   ]
  },
  {
   "cell_type": "code",
   "execution_count": null,
   "id": "748abde8",
   "metadata": {},
   "outputs": [],
   "source": [
    "np.where(xi==1970)"
   ]
  },
  {
   "cell_type": "markdown",
   "id": "c6bc0155",
   "metadata": {},
   "source": [
    "To split the data, you use the powerful instrument of _slicing_ with the colon notation. Remember that a colon between two indices indicates a range of values from a `start` to an `end`. The rule is that `[start:end]` includes the element at index `start` but excludes the one at index `end`. For example, to grab the first 3 years in our `year` array, you do:"
   ]
  },
  {
   "cell_type": "code",
   "execution_count": null,
   "id": "5daa6566",
   "metadata": {},
   "outputs": [],
   "source": [
    "year = x\n",
    "temp_anomaly = y\n",
    "year[0:3]"
   ]
  },
  {
   "cell_type": "markdown",
   "id": "18608b83",
   "metadata": {},
   "source": [
    "Now you know how to split our data in two sets, to get two regression lines. You need two slices of the arrays `year` and `temp_anomaly`, which you'll save in new variable names below. After that, you complete two linear fits using the helpful NumPy functions you learned above."
   ]
  },
  {
   "cell_type": "code",
   "execution_count": null,
   "id": "082dae27",
   "metadata": {},
   "outputs": [],
   "source": [
    "year_1 , temp_anomaly_1 = year[0:90], temp_anomaly[0:90]\n",
    "year_2 , temp_anomaly_2 = year[90:], temp_anomaly[90:]\n",
    "\n",
    "m1, b1 = np.polyfit(year_1, temp_anomaly_1, 1)\n",
    "m2, b2 = np.polyfit(year_2, temp_anomaly_2, 1)\n",
    "\n",
    "f_linear_1 = np.poly1d((m1, b1))\n",
    "f_linear_2 = np.poly1d((m2, b2))"
   ]
  },
  {
   "cell_type": "code",
   "execution_count": null,
   "id": "6becbb90",
   "metadata": {},
   "outputs": [],
   "source": [
    "plt.figure(figsize=(10, 5))\n",
    "\n",
    "plt.plot(year, temp_anomaly, color='#2929a3', linestyle='-', linewidth=1, alpha=0.5) \n",
    "plt.plot(year_1, f_linear_1(year_1), 'g--', linewidth=2, label='1880-1969')\n",
    "plt.plot(year_2, f_linear_2(year_2), 'r--', linewidth=2, label='1970-2016')\n",
    "\n",
    "plt.xlabel('Year')\n",
    "plt.ylabel('Land temperature anomaly [°C]')\n",
    "plt.legend(loc='best', fontsize=15)\n",
    "plt.grid();"
   ]
  },
  {
   "cell_type": "markdown",
   "id": "5fc713a9",
   "metadata": {},
   "source": [
    "## Discussion exercise\n",
    "We have two different curves for two different parts of our data set. A little problem with this and is that the end point of our first regression doesn't match the starting point of the second regression. You did this for the purpose of learning, but it is not rigorously correct. \n",
    "\n",
    "How would you fix this issue? \n",
    "\n",
    "What would your new function, $f(x)$, look like?\n",
    "\n",
    "_To fix this discontinuity, I would do one of two things:_\n",
    "\n",
    "1. Force the line to remain continuous so the slope changes. This would lead to a piecewise linear fit, with zig-zagging lines\n",
    "\n",
    "2. Use a higher order polynomial like a quadratic curve, this would like a parabola curving upwards."
   ]
  },
  {
   "cell_type": "markdown",
   "id": "27d80d38",
   "metadata": {},
   "source": [
    "## you learned:\n",
    "\n",
    "* Making our plots more beautiful\n",
    "* Defining and calling custom Python functions\n",
    "* Applying linear regression to data\n",
    "* NumPy built-ins for linear regression\n",
    "* The Earth is warming up!!!"
   ]
  },
  {
   "cell_type": "markdown",
   "id": "d0892615",
   "metadata": {},
   "source": [
    "## References\n",
    "\n",
    "1. [_Essential skills for reproducible research computing_](https://barbagroup.github.io/essential_skills_RRC/) (2017). Lorena A. Barba,  Natalia C. Clementi, Gilbert Forsyth. \n",
    "2. _Numerical Methods in Engineering with Python 3_ (2013). Jaan Kiusalaas. Cambridge University Press.\n",
    "3. _Effective Computation in Physics: Field Guide to Research with Python_ (2015). Anthony Scopatz & Kathryn D. Huff. O'Reilly Media, Inc."
   ]
  }
 ],
 "metadata": {
  "jupytext": {
   "formats": "notebooks//ipynb,md:myst",
   "text_representation": {
    "extension": ".md",
    "format_name": "myst",
    "format_version": 0.13,
    "jupytext_version": "1.10.3"
   }
  },
  "kernelspec": {
   "display_name": "Python 3 (ipykernel)",
   "language": "python",
   "name": "python3"
  }
 },
 "nbformat": 4,
 "nbformat_minor": 5
}
