{
 "cells": [
  {
   "cell_type": "markdown",
   "id": "e10d918e",
   "metadata": {},
   "source": [
    "> __Content modified under Creative Commons Attribution license CC-BY\n",
    "> 4.0, code under BSD 3-Clause License © 2020 R.C. Cooper__"
   ]
  },
  {
   "cell_type": "markdown",
   "id": "f4a040d2",
   "metadata": {},
   "source": [
    "# Homework"
   ]
  },
  {
   "cell_type": "code",
   "execution_count": 1,
   "id": "7a057400",
   "metadata": {},
   "outputs": [],
   "source": [
    "import numpy as np\n",
    "import pandas as pd\n",
    "import matplotlib.pyplot as plt\n",
    "plt.style.use('fivethirtyeight')"
   ]
  },
  {
   "cell_type": "markdown",
   "id": "58dba2e9",
   "metadata": {},
   "source": [
    "## Problems [Part 1](./01_Cheers_Stats_Beers.md)\n",
    "\n",
    "1. Gordon Moore created an empirical prediction that the rate of\n",
    "semiconductors on a computer chip would double every two years. This\n",
    "prediction was known as Moore's law. Gordon Moore had originally only\n",
    "expected this empirical relation to hold from 1965 - 1975\n",
    "[[1](https://en.wikipedia.org/wiki/Moore%27s_law),[2](https://spectrum.ieee.org/computing/hardware/gordon-moore-the-man-whose-name-means-progress)],\n",
    "but semiconductor manufacturers were able to keep up with Moore's law\n",
    "until 2015. \n",
    "\n",
    "In the folder \"../data\" is a comma separated value (CSV) file,\n",
    "\"transistor_data.csv\" [taken from wikipedia\n",
    "01/2020](https://en.wikipedia.org/wiki/Transistor_count#Microprocessors).\n",
    "\n",
    "a. Use the `!head ../data/transistor_data.csv` command to look at\n",
    "the top of the csv. What are the headings for the columns?\n",
    "\n",
    "b. Load the csv into a pandas dataframe. How many missing values\n",
    "(`NaN`) are\n",
    "in the column with the number of transistors? What fraction are\n",
    "missing?"
   ]
  },
  {
   "cell_type": "code",
   "execution_count": 6,
   "id": "924dde1b",
   "metadata": {},
   "outputs": [
    {
     "name": "stdout",
     "output_type": "stream",
     "text": [
      "Processor,MOS transistor count,Date of Introduction,Designer,MOSprocess,Area\r\n",
      "\"MP944 (20-bit, 6-chip)\",NaN,1970,Garrett AiResearch,?,?\r\n",
      "\"Intel 4004 (4-bit, 16-pin)\",2250,1971,Intel,\"10,000 nm\",12 mm²\r\n",
      "\"Intel 8008 (8-bit, 18-pin)\",3500,1972,Intel,\"10,000 nm\",14 mm²\r\n",
      "\"NEC μCOM-4 (4-bit, 42-pin)\",2500,1973,NEC,\"7,500 nm\",?\r\n",
      "\"Intel 4040 (4-bit, 16-pin)\",3000,1974,Intel,\"10,000 nm\",12 mm²\r\n",
      "\"Motorola 6800 (8-bit, 40-pin)\",4100,1974,Motorola,\"6,000 nm\",16 mm²\r\n",
      "\"Intel 8080 (8-bit, 40-pin)\",6000,1974,Intel,\"6,000 nm\",20 mm²\r\n",
      "\"TMS 1000 (4-bit, 28-pin)\",8000,1974,Texas Instruments,\"8,000 nm\",11 mm²\r\n",
      "\"MOS Technology 6502 (8-bit, 40-pin)\",4528,1975,MOS Technology,\"8,000 nm\",21 mm²\r\n"
     ]
    }
   ],
   "source": [
    "# A\n",
    "!head '../data/transistor_data.csv'"
   ]
  },
  {
   "cell_type": "markdown",
   "id": "bae5730a",
   "metadata": {},
   "source": [
    "The column headers are Processor, MOS transistor count, Date of Introduction, Designer, MOSprocess, and Area"
   ]
  },
  {
   "cell_type": "code",
   "execution_count": 16,
   "id": "fe0e6d07",
   "metadata": {},
   "outputs": [
    {
     "name": "stdout",
     "output_type": "stream",
     "text": [
      "There are 7 NaN values.\n"
     ]
    }
   ],
   "source": [
    "# B\n",
    "transistor = pd.read_csv('../data/transistor_data.csv')\n",
    "\n",
    "numb_trans = transistor['MOS transistor count']\n",
    "trans_pre_clean = len(numb_trans)\n",
    "trans_post_clean = len(numb_trans.dropna())\n",
    "\n",
    "num_na = trans_pre_clean - trans_post_clean\n",
    "\n",
    "print('There are {:1.0f} NaN values.' .format(num_na))"
   ]
  },
  {
   "cell_type": "markdown",
   "id": "c7dd01e5",
   "metadata": {},
   "source": [
    "## Problems [Part 2](./02_Seeing_Stats.md)\n",
    "\n",
    "1. Many beers do not report the IBU of the beer because it is very\n",
    "small. You may be accidentally removing whole categories of beer from\n",
    "our dataset by removing rows that do not include the IBU measure. \n",
    "\n",
    "    a. Use the command `beers_filled = beers.fillna(0)` to clean the `beers` dataframe\n",
    "    \n",
    "    b. Repeat the steps above to recreate the plot \"Beer ABV vs. IBU mean values by style\" \n",
    "    scatter plot with `beers_filled`. What differences do you notice between the plots?"
   ]
  },
  {
   "cell_type": "code",
   "execution_count": null,
   "id": "a94cf9f4",
   "metadata": {},
   "outputs": [],
   "source": []
  },
  {
   "cell_type": "markdown",
   "id": "b4796186",
   "metadata": {},
   "source": [
    "2. Gordon Moore created an empirical prediction that the rate of\n",
    "semiconductors on a computer chip would double every two years. This\n",
    "prediction was known as Moore's law. Gordon Moore had originally only\n",
    "expected this empirical relation to hold from 1965 - 1975\n",
    "[[1](https://en.wikipedia.org/wiki/Moore%27s_law),[2](https://spectrum.ieee.org/computing/hardware/gordon-moore-the-man-whose-name-means-progress)],\n",
    "but semiconductor manufacturers were able to keep up with Moore's law\n",
    "until 2015. \n",
    "\n",
    "    In the folder \"../data\" is a comma separated value (CSV) file, \"transistor_data.csv\" [taken from wikipedia 01/2020](https://en.wikipedia.org/wiki/Transistor_count#Microprocessors). \n",
    "    Load the csv into a pandas dataframe, it has the following headings:\n",
    "\n",
    "    |Processor| MOS transistor count| Date of Introduction|Designer|MOSprocess|Area|\n",
    "    |---|---|---|---|---|---|\n",
    "\n",
    "    a. In the years 2017, what was the average MOS transistor count? \n",
    "    Make a boxplot of the transistor count in 2017 and find the first, second and third quartiles.\n",
    "\n",
    "    b. Create a semilog y-axis scatter plot (i.e. `plt.semilogy`) for the \n",
    "    \"Date of Introduction\" vs \"MOS transistor count\". \n",
    "    Color the data according to the \"Designer\"."
   ]
  },
  {
   "cell_type": "code",
   "execution_count": null,
   "id": "38b46e95",
   "metadata": {},
   "outputs": [],
   "source": []
  },
  {
   "cell_type": "markdown",
   "id": "0249e630",
   "metadata": {},
   "source": [
    "## Problems [Part 3](03_Linear_Regression_with_Real_Data.md)\n",
    "\n",
    "1. There is a csv file in '../data/primary-energy-consumption-by-region.csv' that has the energy consumption of different regions of the world from 1965 until 2018 [Our world in Data](https://ourworldindata.org/energy). \n",
    "Compare the energy consumption of the United States to all of Europe. Load the data into a pandas dataframe. *Note: you can get certain rows of the data frame by specifying what you're looking for e.g. \n",
    "`EUR = dataframe[dataframe['Entity']=='Europe']` will give us all the rows from Europe's energy consumption.*\n",
    "\n",
    "    a. Plot the total energy consumption of the United States and Europe\n",
    "    \n",
    "    b. Use a linear least-squares regression to find a function for the energy consumption as a function of year\n",
    "    \n",
    "    energy consumed = $f(t) = At+B$\n",
    "    \n",
    "    c. At what year would you change split the data and use two lines like you did in the \n",
    "    land temperature anomoly? Split the data and perform two linear fits. \n",
    "    \n",
    "    d. What is your prediction for US energy use in 2025? How about European energy use in 2025?"
   ]
  },
  {
   "cell_type": "code",
   "execution_count": 3,
   "id": "2a74cd5a",
   "metadata": {},
   "outputs": [],
   "source": [
    "energy = pd.read_csv('../data/primary-energy-consumption-by-region.csv')"
   ]
  },
  {
   "cell_type": "code",
   "execution_count": null,
   "id": "1fcd0764",
   "metadata": {},
   "outputs": [],
   "source": []
  },
  {
   "cell_type": "markdown",
   "id": "7ba2c4b4",
   "metadata": {},
   "source": [
    "2. You plotted Gordon Moore's empirical prediction that the rate of semiconductors on a computer chip would double every two years in [02_Seeing_Stats](./02_Seeing_Stats). This prediction was known as Moore's law. Gordon Moore had originally only expected this empirical relation to hold from 1965 - 1975 [[1](https://en.wikipedia.org/wiki/Moore%27s_law),[2](https://spectrum.ieee.org/computing/hardware/gordon-moore-the-man-whose-name-means-progress)], but semiconductor manufacuturers were able to keep up with Moore's law until 2015. \n",
    "\n",
    "Use a linear regression to find our own historical Moore's Law.    \n",
    "\n",
    "Use your code from [02_Seeing_Stats](./02_Seeing_Stats) to plot the semilog y-axis scatter plot \n",
    "(i.e. `plt.semilogy`) for the \"Date of Introduction\" vs \"MOS transistor count\". \n",
    "Color the data according to the \"Designer\".\n",
    "\n",
    "Create a linear regression for the data in the form of \n",
    "\n",
    "$log(transistor~count)= f(date) = A\\cdot date+B$\n",
    "\n",
    "rearranging\n",
    "\n",
    "$transistor~count= e^{f(date)} = e^B e^{A\\cdot date}$\n",
    "\n",
    "You can perform a least-squares linear regression using the following assignments\n",
    "\n",
    "$x_i=$ `dataframe['Date of Introduction'].values`\n",
    "\n",
    "and\n",
    "\n",
    "$y_i=$ as `np.log(dataframe['MOS transistor count'].values)`\n",
    "\n",
    "a. Plot your function on the semilog y-axis scatter plot\n",
    "\n",
    "b. What are the values of constants $A$ and $B$ for our Moore's law fit? How does this compare to Gordon Moore's prediction that MOS transistor count doubles every two years?"
   ]
  },
  {
   "cell_type": "code",
   "execution_count": 4,
   "id": "3bdbd8fe",
   "metadata": {},
   "outputs": [],
   "source": [
    "data = pd.read_csv('../data/transistor_data.csv')\n",
    "data = data.dropna()\n",
    "xi=data['Date of Introduction'].values\n",
    "TC=data['MOS transistor count'].values"
   ]
  },
  {
   "cell_type": "markdown",
   "id": "1f97fc13",
   "metadata": {},
   "source": [
    "## Problems [Part 4](04_Stats_and_Montecarlo.md)\n",
    "\n",
    "__1.__ [Buffon's needle problem](https://en.wikipedia.org/wiki/Buffon) is\n",
    "another way to estimate the value of $\\pi$ with random numbers. The goal\n",
    "in this Monte Carlo estimate of $\\pi$ is to create a ratio that is close\n",
    "to [3.1415926...](http://www.math.com/tables/constants/pi.htm) _similar\n",
    "to the example with darts points lying inside/outside a unit circle\n",
    "inside a unit square._ \n",
    "\n",
    "![Buffon's needle for parallel\n",
    "lines](https://upload.wikimedia.org/wikipedia/commons/f/f6/Buffon_needle.gif)\n",
    "\n",
    "In this Monte Carlo estimation, you only need to know two values:\n",
    "- the distance from line 0, $x = [0,~1]$\n",
    "- the orientation of the needle, $\\theta = [0,~2\\pi]$\n",
    "\n",
    "The y-location does not affect the outcome of crosses line 0 or not\n",
    "crossing line 0. \n",
    "\n",
    "__a.__ Generate 100 random `x` and `theta` values _remember_ $\\theta =\n",
    "[0,~2\\pi]$\n",
    "\n",
    "__b.__ Calculate the x locations of the 100 needle ends e.g. $x_end = x\n",
    "\\pm \\cos\\theta$ _since length is unit 1. \n",
    "\n",
    "__c.__ Use \n",
    "[`np.logical_and`](https://numpy.org/doc/stable/reference/generated/numpy.logical_and.html)\n",
    "to find the number of needles that have minimum $x_{end~min}<0$ and\n",
    "maximum $x_{end~max}>0$. The ratio\n",
    "$\\frac{x_{end~min}<0~and~x_{end~max}>0}{number~of~needles} =\n",
    "\\frac{2}{\\pi}$ _for large values of $number~of~needles$_.\n",
    "\n",
    "__2.__ Build a random walk data set with steps between $dx = dy =\n",
    "-1/2~to~1/2~m$. If 100 particles take 10 steps, calculate the number of\n",
    "particles that move further than 0.5 m. \n",
    "\n",
    "_Bonus: Can you do the work without any `for`-loops? Change the size of\n",
    "`dx` and `dy` to account for multiple particles._"
   ]
  },
  {
   "cell_type": "code",
   "execution_count": 5,
   "id": "b8177d8e",
   "metadata": {},
   "outputs": [],
   "source": [
    "rng = default_rng()\n",
    "N_steps = 10\n",
    "dx = rng.random(N_steps) - 0.5\n",
    "dy = rng.random(N_steps) - 0.5"
   ]
  },
  {
   "cell_type": "markdown",
   "id": "37ffc08a",
   "metadata": {},
   "source": [
    "__3.__ 100 steel rods are going to be used to support a 1000 kg structure. The\n",
    "rods will buckle when the load in any rod exceeds the [critical buckling\n",
    "load](https://en.wikipedia.org/wiki/Euler%27s_critical_load)\n",
    "\n",
    "$P_{cr}=\\frac{\\pi^3 Er^4}{16L^2}$\n",
    "\n",
    "where E=200e9 Pa, r=0.01 m +/-0.001 m, and L is the \n",
    "length of the rods supporting the structure. Create a Monte\n",
    "Carlo model `montecarlo_buckle` that predicts \n",
    "the mean and standard deviation of the buckling load for 100\n",
    "samples with normally distributed dimensions r and L. \n",
    "\n",
    "```python\n",
    "mean_buckle_load,std_buckle_load=\\\n",
    "montecarlo_buckle(E,r_mean,r_std,L,N=100)\n",
    "```\n",
    "\n",
    "__a.__ What is the mean_buckle_load and std_buckle_load for L=5 m?\n",
    "\n",
    "__b.__ What length, L, should the beams be so that only 2.5% will \n",
    "reach the critical buckling load?"
   ]
  },
  {
   "cell_type": "code",
   "execution_count": 6,
   "id": "cabd1c7c",
   "metadata": {},
   "outputs": [],
   "source": [
    "def montecarlo_buckle(E,r_mean,r_std,L,N=100):\n",
    "    '''Generate N rods of length L with radii of r=r_mean+/-r_std\n",
    "    then calculate the mean and std of the buckling loads in for the\n",
    "    rod population holding a 1000-kg structure\n",
    "    Arguments\n",
    "    ---------\n",
    "    E: Young's modulus [note: keep units consistent]\n",
    "    r_mean: mean radius of the N rods holding the structure\n",
    "    r_std: standard deviation of the N rods holding the structure\n",
    "    L: length of the rods (or the height of the structure)\n",
    "    N: number of rods holding the structure, default is N=100 rods\n",
    "    Returns\n",
    "    -------\n",
    "    mean_buckle_load: mean buckling load of N rods under 1000*9.81/N-Newton load\n",
    "    std_buckle_load: std dev buckling load of N rods under 1000*9.81/N-Newton load\n",
    "    '''\n",
    "    \n",
    "    return mean_buckle_load, std_buckle_load"
   ]
  },
  {
   "cell_type": "code",
   "execution_count": 17,
   "id": "827b4b67",
   "metadata": {},
   "outputs": [
    {
     "data": {
      "image/png": "[encoded data removed]",
      "text/plain": [
       "<Figure size 432x288 with 1 Axes>"
      ]
     },
     "metadata": {},
     "output_type": "display_data"
    }
   ],
   "source": [
    "# in class example Buffons Needles and calcualting \n",
    "from numpy.random import default_rng\n",
    "\n",
    "theta = default_rng(42) #seeding at 42\n",
    "\n",
    "N = 20 # number of needles \n",
    "theta = rng.random(N)*np.pi*2\n",
    "\n",
    "x = rng.random(N)\n",
    "y = rng.random(N)\n",
    "\n",
    "x1 = x- 1/2*np.cos(theta)\n",
    "x2 = x + 1/2*np.cos(theta)\n",
    "\n",
    "y1 = y - 1/2*np.sin(theta)\n",
    "y2 = y + 1/2*np.sin(theta)\n",
    "\n",
    "for i in range(N):\n",
    "    plt.plot([x1,x2], [y1,y2])\n",
    "    \n",
    "plt.axis('equal');"
   ]
  }
 ],
 "metadata": {
  "jupytext": {
   "formats": "notebooks//ipynb,md:myst"
  },
  "kernelspec": {
   "display_name": "Python 3 (ipykernel)",
   "language": "python",
   "name": "python3"
  },
  "language_info": {
   "codemirror_mode": {
    "name": "ipython",
    "version": 3
   },
   "file_extension": ".py",
   "mimetype": "text/x-python",
   "name": "python",
   "nbconvert_exporter": "python",
   "pygments_lexer": "ipython3",
   "version": "3.9.6"
  }
 },
 "nbformat": 4,
 "nbformat_minor": 5
}
